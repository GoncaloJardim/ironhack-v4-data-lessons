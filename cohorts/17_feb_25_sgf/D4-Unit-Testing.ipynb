{
 "cells": [
  {
   "cell_type": "markdown",
   "metadata": {},
   "source": [
    "**Table of contents**<a id='toc0_'></a>    \n",
    "- [Unit Testing in Python with `unittest`](#toc1_)    \n",
    "    - [Key Concepts of unittest:](#toc1_1_1_)    \n",
    "    - [Common Assertions in `unittest`](#toc1_1_2_)    \n",
    "    - [Writing a Basic Test Case](#toc1_1_3_)    \n",
    "    - [Test Setup and Teardown](#toc1_1_4_)    \n",
    "    - [Testing Class Methods](#toc1_1_5_)    \n",
    "    - [Checking Callability and Function Signatures in Tests](#toc1_1_6_)    \n",
    "      - [`callable(obj)`](#toc1_1_6_1_)    \n",
    "      - [`signature(func)`](#toc1_1_6_2_)    \n",
    "    - [Mocking and Edge Cases](#toc1_1_7_)    \n",
    "      - [Mocking an API Request](#toc1_1_7_1_)    \n",
    "    - [Comparison Between `unittest` and `pytest`](#toc1_1_8_)    \n",
    "      - [Example of the Same Test in `pytest`:](#toc1_1_8_1_)    \n",
    "\n",
    "<!-- vscode-jupyter-toc-config\n",
    "\tnumbering=false\n",
    "\tanchor=true\n",
    "\tflat=false\n",
    "\tminLevel=1\n",
    "\tmaxLevel=6\n",
    "\t/vscode-jupyter-toc-config -->\n",
    "<!-- THIS CELL WILL BE REPLACED ON TOC UPDATE. DO NOT WRITE YOUR TEXT IN THIS CELL -->"
   ]
  },
  {
   "cell_type": "markdown",
   "metadata": {},
   "source": [
    "# <a id='toc1_'></a>[Unit Testing in Python with `unittest`](#toc0_)"
   ]
  },
  {
   "cell_type": "markdown",
   "metadata": {},
   "source": [
    "Unit testing is a software testing method where individual units of source code are tested to determine whether they function as expected. The `unittest` module in Python provides a framework for writing and running tests."
   ]
  },
  {
   "cell_type": "markdown",
   "metadata": {},
   "source": [
    "### <a id='toc1_1_1_'></a>[Key Concepts of unittest:](#toc0_)\n",
    "1. **Test Case**: A test case is a single unit of testing that checks for expected behavior.\n",
    "2. **Test Suite**: A collection of test cases grouped together.\n",
    "3. **Test Runner**: Executes the test cases and reports results.\n",
    "4. **Assertions**: Methods used to compare expected outcomes with actual results.\n",
    "5. **Setup & Teardown**: Methods that prepare the environment before and after each test.\n",
    "\n",
    "### <a id='toc1_1_2_'></a>[Common Assertions in `unittest`](#toc0_)\n",
    "Assertions are used to validate test conditions. Here are the most commonly used assertions in `unittest`:\n",
    "\n",
    "| Assertion Method            | Description |\n",
    "|-----------------------------|-------------|\n",
    "| `assertEqual(a, b)`         | Checks if `a == b` |\n",
    "| `assertNotEqual(a, b)`      | Checks if `a != b` |\n",
    "| `assertTrue(x)`             | Checks if `x` is `True` |\n",
    "| `assertFalse(x)`            | Checks if `x` is `False` |\n",
    "| `assertIs(a, b)`            | Checks if `a is b` |\n",
    "| `assertIsNot(a, b)`         | Checks if `a is not b` |\n",
    "| `assertIsNone(x)`           | Checks if `x is None` |\n",
    "| `assertIsNotNone(x)`        | Checks if `x is not None` |\n",
    "| `assertIn(a, b)`            | Checks if `a` is in `b` |\n",
    "| `assertNotIn(a, b)`         | Checks if `a` is not in `b` |\n",
    "| `assertIsInstance(a, b)`    | Checks if `a` is an instance of `b` |\n",
    "| `assertNotIsInstance(a, b)` | Checks if `a` is not an instance of `b` |\n",
    "| `assertAlmostEqual(a, b)`   | Checks if `a` is approximately equal to `b` |\n",
    "| `assertNotAlmostEqual(a, b)`| Checks if `a` is not approximately equal to `b` |\n",
    "| `assertRaises(ErrorType, func, *args)` | Checks if calling `func(*args)` raises `ErrorType` |\n",
    "\n",
    "### <a id='toc1_1_3_'></a>[Writing a Basic Test Case](#toc0_)\n",
    "Let's start by writing a simple test case using `unittest`:"
   ]
  },
  {
   "cell_type": "code",
   "execution_count": null,
   "metadata": {},
   "outputs": [],
   "source": [
    "import unittest\n",
    "\n",
    "class TestExample(unittest.TestCase):\n",
    "    def test_addition(self):\n",
    "        self.assertEqual(2 + 2, 4)\n",
    "\n",
    "TestExample.test_addition() # Can't run the test in the notebook -> to the Python script!"
   ]
  },
  {
   "cell_type": "markdown",
   "metadata": {},
   "source": [
    "### <a id='toc1_1_4_'></a>[Test Setup and Teardown](#toc0_)\n",
    "The `setUp` method initializes test conditions before each test runs, and `tearDown` can clean up afterward."
   ]
  },
  {
   "cell_type": "code",
   "execution_count": null,
   "metadata": {},
   "outputs": [],
   "source": [
    "class TestSetupExample(unittest.TestCase):\n",
    "    def setUp(self):\n",
    "        self.data = [1, 2, 3]\n",
    "    \n",
    "    def test_list_length(self):\n",
    "        self.assertEqual(len(self.data), 3)\n",
    "    \n",
    "    def tearDown(self):\n",
    "        self.data = None"
   ]
  },
  {
   "cell_type": "markdown",
   "metadata": {},
   "source": [
    "### <a id='toc1_1_5_'></a>[Testing Class Methods](#toc0_)\n",
    "This example tests the behavior of a class method. You can notice that we've defined an instance of the MathOperations class inside the `setUp` method and assigned to `self.math`, which `unittest` can later use in assertions:"
   ]
  },
  {
   "cell_type": "code",
   "execution_count": null,
   "metadata": {},
   "outputs": [],
   "source": [
    "class MathOperations:\n",
    "    def add(self, a, b):\n",
    "        return a + b\n",
    "\n",
    "class TestMathOperations(unittest.TestCase):\n",
    "    def setUp(self):\n",
    "        self.math = MathOperations()\n",
    "    \n",
    "    def test_add(self):\n",
    "        self.assertEqual(self.math.add(2, 3), 5)"
   ]
  },
  {
   "cell_type": "markdown",
   "metadata": {},
   "source": [
    "### <a id='toc1_1_6_'></a>[Checking Callability and Function Signatures in Tests](#toc0_)\n",
    "\n",
    "#### <a id='toc1_1_6_1_'></a>[`callable(obj)`](#toc0_)\n",
    "- Checks if an object can be called like a function.\n",
    "- Used in tests to confirm that a method exists and is executable.\n",
    "\n",
    "Example:"
   ]
  },
  {
   "cell_type": "code",
   "execution_count": null,
   "metadata": {},
   "outputs": [],
   "source": [
    "class MyClass:\n",
    "    def my_method(self):\n",
    "        return \"Hello\"\n",
    "\n",
    "obj = MyClass()\n",
    "print(callable(obj.my_method))  "
   ]
  },
  {
   "cell_type": "markdown",
   "metadata": {},
   "source": [
    "In practice this ensures that specific methods/functions can be called."
   ]
  },
  {
   "cell_type": "markdown",
   "metadata": {},
   "source": [
    "#### <a id='toc1_1_6_2_'></a>[`signature(func)`](#toc0_)\n",
    "- Retrieves the parameters of a function.\n",
    "- Helps verify that a function has the expected number of arguments.\n",
    "\n",
    "Example:"
   ]
  },
  {
   "cell_type": "code",
   "execution_count": null,
   "metadata": {},
   "outputs": [],
   "source": [
    "from inspect import signature\n",
    "\n",
    "def my_func(a, b):\n",
    "    return a + b\n",
    "\n",
    "print(len(signature(my_func).parameters))  # 2"
   ]
  },
  {
   "cell_type": "markdown",
   "metadata": {},
   "source": [
    "In practice, this ensures that functions/methods have the expected number of parameters."
   ]
  },
  {
   "cell_type": "markdown",
   "metadata": {},
   "source": [
    "\n",
    "### <a id='toc1_1_7_'></a>[Mocking and Edge Cases](#toc0_)\n",
    "Mocking is useful when testing interactions with external systems such as databases, APIs, or file systems. It allows us to replace real objects with mock objects that simulate behavior without making actual calls. Edge cases test unusual or extreme inputs."
   ]
  },
  {
   "cell_type": "markdown",
   "metadata": {},
   "source": [
    "#### <a id='toc1_1_7_1_'></a>[Mocking an API Request](#toc0_)\n",
    "Imagine you have a function that fetches data from an external API:"
   ]
  },
  {
   "cell_type": "code",
   "execution_count": null,
   "metadata": {},
   "outputs": [],
   "source": [
    "import requests\n",
    "\n",
    "def fetch_weather(city):\n",
    "    response = requests.get(f'https://api.weather.com/{city}')\n",
    "    return response.json()"
   ]
  },
  {
   "cell_type": "code",
   "execution_count": null,
   "metadata": {},
   "outputs": [],
   "source": [
    "from unittest.mock import patch\n",
    "\n",
    "class TestWeatherAPI(unittest.TestCase):\n",
    "    @patch('requests.get')\n",
    "    def test_fetch_weather(self, mock_get):\n",
    "        mock_get.return_value.json.return_value = {'temperature': 22, 'status': 'Sunny'}\n",
    "        result = fetch_weather('London')\n",
    "        self.assertEqual(result['temperature'], 22)\n",
    "        self.assertEqual(result['status'], 'Sunny')"
   ]
  },
  {
   "cell_type": "markdown",
   "metadata": {},
   "source": [
    "### <a id='toc1_1_8_'></a>[Comparison Between `unittest` and `pytest`](#toc0_)\n",
    "Python has multiple testing frameworks, with `pytest` being a popular alternative to `unittest`. Here’s a comparison:\n",
    "\n",
    "| Feature           | `unittest`                          | `pytest`                              |\n",
    "|------------------|----------------------------------|----------------------------------|\n",
    "| Test Discovery   | Requires test class inheritance | Automatically discovers test functions |\n",
    "| Assertions       | Uses `self.assertEqual(...)`   | Uses plain `assert` statements  |\n",
    "| Fixtures        | Uses `setUp` / `tearDown` methods | Uses `@pytest.fixture` decorators |\n",
    "| Parameterization | Limited                          | Built-in support with `@pytest.mark.parametrize` |\n",
    "| Output Readability | Verbose                        | Concise and readable output |\n",
    "\n",
    "#### <a id='toc1_1_8_1_'></a>[Example of the Same Test in `pytest`:](#toc0_)"
   ]
  },
  {
   "cell_type": "code",
   "execution_count": null,
   "metadata": {},
   "outputs": [],
   "source": [
    "def add(a, b):\n",
    "    return a + b\n",
    "\n",
    "def test_addition():\n",
    "    assert add(2, 3) == 5\n",
    "\n",
    "print(test_addition())"
   ]
  }
 ],
 "metadata": {
  "kernelspec": {
   "display_name": "base",
   "language": "python",
   "name": "python3"
  },
  "language_info": {
   "name": "python",
   "version": "3.12.4"
  }
 },
 "nbformat": 4,
 "nbformat_minor": 2
}
