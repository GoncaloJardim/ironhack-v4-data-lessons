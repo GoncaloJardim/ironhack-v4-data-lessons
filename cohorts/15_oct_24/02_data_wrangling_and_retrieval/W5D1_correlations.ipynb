{
 "cells": [
  {
   "cell_type": "markdown",
   "metadata": {},
   "source": [
    "**Table of contents**<a id='toc0_'></a>    \n",
    "- [Relationships between variables](#toc1_)    \n",
    "- [Covariance](#toc2_)    \n",
    "  - [Measures of correlation](#toc2_1_)    \n",
    "    - [Pearson correlation](#toc2_1_1_)    \n",
    "    - [Spearman correlation](#toc2_1_2_)    \n",
    "    - [Kendall Tau correlation](#toc2_1_3_)    \n",
    "- [Correlation vs causation](#toc3_)    \n",
    "- [Extra: Correlation among different types of variables](#toc4_)    \n",
    "- [Extra: Covariance maths](#toc5_)    \n",
    "- [Extra: StatQuest Videos](#toc6_)    \n",
    "\n",
    "<!-- vscode-jupyter-toc-config\n",
    "\tnumbering=false\n",
    "\tanchor=true\n",
    "\tflat=false\n",
    "\tminLevel=1\n",
    "\tmaxLevel=6\n",
    "\t/vscode-jupyter-toc-config -->\n",
    "<!-- THIS CELL WILL BE REPLACED ON TOC UPDATE. DO NOT WRITE YOUR TEXT IN THIS CELL -->"
   ]
  },
  {
   "cell_type": "markdown",
   "metadata": {},
   "source": [
    "# <a id='toc1_'></a>[Relationships between variables](#toc0_)"
   ]
  },
  {
   "cell_type": "markdown",
   "metadata": {
    "id": "zLujt4x7W6oL"
   },
   "source": [
    "![image.png](https://imgs.search.brave.com/uatPOeWfRfnVWY2MwwPaLkKXledacH5nbNl_JyHVcB0/rs:fit:860:0:0/g:ce/aHR0cHM6Ly93d3cu/c2ltcGx5cHN5Y2hv/bG9neS5vcmcvd3At/Y29udGVudC91cGxv/YWRzL2NvcnJlbGF0/aW9uLmpwZw)"
   ]
  },
  {
   "cell_type": "code",
   "execution_count": null,
   "metadata": {
    "executionInfo": {
     "elapsed": 2100,
     "status": "ok",
     "timestamp": 1694253243831,
     "user": {
      "displayName": "Susan Ndinoshinge",
      "userId": "16659780857992036365"
     },
     "user_tz": -120
    },
    "id": "nksewFznW6oN"
   },
   "outputs": [],
   "source": [
    "import numpy as np\n",
    "import pandas as pd\n",
    "# Show floats with 2 decimals\n",
    "pd.options.display.float_format = '{:,.2f}'.format\n",
    "\n",
    "import matplotlib.pyplot as plt\n",
    "import seaborn as sns\n",
    "import plotly.express as px"
   ]
  },
  {
   "cell_type": "code",
   "execution_count": null,
   "metadata": {
    "colab": {
     "base_uri": "https://localhost:8080/",
     "height": 204
    },
    "executionInfo": {
     "elapsed": 295,
     "status": "ok",
     "timestamp": 1694253293710,
     "user": {
      "displayName": "Susan Ndinoshinge",
      "userId": "16659780857992036365"
     },
     "user_tz": -120
    },
    "id": "TWPSAUuUW6oO",
    "outputId": "fcc7ba7c-c044-482d-8354-c7b09783760e"
   },
   "outputs": [],
   "source": [
    "fortune = pd.read_csv(\"https://raw.githubusercontent.com/data-bootcamp-v4/data/main/Fortune_1000.csv\")\n",
    "fortune.head()"
   ]
  },
  {
   "cell_type": "markdown",
   "metadata": {},
   "source": [
    "# <a id='toc2_'></a>[Covariance](#toc0_)\n",
    "\n",
    "> Covariance measures how variables vary together. A positive covariance means that the variables vary together in the same direction, a negative covariance means they vary in the opposite direction and 0 covariance means that the variables don’t vary together or they are independent of each other."
   ]
  },
  {
   "cell_type": "markdown",
   "metadata": {},
   "source": [
    "![image.png](../../../img/cov_less_0.png) ![image](../../../img/cov_around_0.png) ![image](../../../img/cov_more_0.png)  \n",
    "\n",
    "Source: [Wikipedia](https://en.wikipedia.org/wiki/Covariance)"
   ]
  },
  {
   "cell_type": "code",
   "execution_count": null,
   "metadata": {
    "colab": {
     "base_uri": "https://localhost:8080/"
    },
    "executionInfo": {
     "elapsed": 227,
     "status": "ok",
     "timestamp": 1694253349091,
     "user": {
      "displayName": "Susan Ndinoshinge",
      "userId": "16659780857992036365"
     },
     "user_tz": -120
    },
    "id": "MKzfTNNUW6oT",
    "outputId": "9677472f-1c5d-40b1-bfeb-8c4692002c87"
   },
   "outputs": [],
   "source": [
    "# Initial covariance\n",
    "np.cov(fortune.revenue, fortune.profit)"
   ]
  },
  {
   "cell_type": "markdown",
   "metadata": {
    "id": "y0i_abX_W6oV"
   },
   "source": [
    "Why do you think there are NaNs in the covariance matrix?"
   ]
  },
  {
   "cell_type": "code",
   "execution_count": null,
   "metadata": {
    "colab": {
     "base_uri": "https://localhost:8080/"
    },
    "executionInfo": {
     "elapsed": 232,
     "status": "ok",
     "timestamp": 1694253453409,
     "user": {
      "displayName": "Susan Ndinoshinge",
      "userId": "16659780857992036365"
     },
     "user_tz": -120
    },
    "id": "InJlGmvjW6oV",
    "outputId": "e4b60034-3170-4dfc-8824-486200eeaf96"
   },
   "outputs": [],
   "source": [
    "# Fix dataframe and get covariance\n",
    "fortune.dropna(subset ='profit', inplace=True)\n",
    "np.cov(fortune.revenue, fortune.profit)"
   ]
  },
  {
   "cell_type": "markdown",
   "metadata": {
    "id": "1sdyka9gW6oX"
   },
   "source": [
    "We can extract the covariance by getting the second element in the 1st row:"
   ]
  },
  {
   "cell_type": "code",
   "execution_count": null,
   "metadata": {
    "colab": {
     "base_uri": "https://localhost:8080/"
    },
    "executionInfo": {
     "elapsed": 233,
     "status": "ok",
     "timestamp": 1694253514419,
     "user": {
      "displayName": "Susan Ndinoshinge",
      "userId": "16659780857992036365"
     },
     "user_tz": -120
    },
    "id": "g390NbMuW6oX",
    "outputId": "3710c33f-d2b3-435c-c19b-149487891195"
   },
   "outputs": [],
   "source": [
    "# Extract covariance\n",
    "cov_matrix = np.cov(fortune.revenue, fortune.profit)\n",
    "cov_matrix[0,1]"
   ]
  },
  {
   "cell_type": "markdown",
   "metadata": {
    "id": "qOtT8EQ3W6oX"
   },
   "source": [
    "What does a positive covariance mean?"
   ]
  },
  {
   "cell_type": "markdown",
   "metadata": {
    "id": "96zV-v_lW6oY"
   },
   "source": [
    "⚠️ **Covariance doesn't measure how strongly the variables vary together!** ⚠️ That's why we use correlation.\n",
    "\n",
    "Example: With covariance, we can say that when revenue increases, profit also increases but not by how much."
   ]
  },
  {
   "cell_type": "markdown",
   "metadata": {},
   "source": [
    "## <a id='toc2_1_'></a>[Measures of correlation](#toc0_)\n",
    "\n",
    "> Measures the relationship and the dependency between two variables. “Covariance” indicates the direction of the linear relationship > between variables. “Correlation” measures the direction and strength of the linear relationship between two variables. They can be > calculated by:\n",
    "\n",
    "* Pearson: Measures the strength of **linear** correlation between 2 numerical continuous variables\n",
    "* Spearman: Measures the strength of **non-linear** correlation between 2 numerical variables (discrete and/or continuous)\n",
    "> * Kendall: similar to Spearman, but sample sizes are small and is less sensitive to outliers.\n",
    "\n",
    "This [Stackexchange answer](https://datascience.stackexchange.com/a/64261) explains quite well the differences and assumptions of each correlation."
   ]
  },
  {
   "cell_type": "code",
   "execution_count": null,
   "metadata": {
    "colab": {
     "base_uri": "https://localhost:8080/",
     "height": 449
    },
    "executionInfo": {
     "elapsed": 694,
     "status": "ok",
     "timestamp": 1694253731995,
     "user": {
      "displayName": "Susan Ndinoshinge",
      "userId": "16659780857992036365"
     },
     "user_tz": -120
    },
    "id": "HQt1K7rQW6oZ",
    "outputId": "d74cc9d2-12a0-419d-b837-c36c47ce6906"
   },
   "outputs": [],
   "source": [
    "# Let's explore the relationship between profit and revenue like we did last time\n",
    "plt.scatter(fortune.revenue, fortune.profit)\n",
    "plt.xlabel('revenue')\n",
    "plt.ylabel('profit')\n",
    "plt.show()"
   ]
  },
  {
   "cell_type": "markdown",
   "metadata": {},
   "source": [
    "### <a id='toc2_1_1_'></a>[Pearson correlation](#toc0_)\n",
    "\n",
    "- Measures the strength of **linear** correlation between 2 numerical continuous variables\n",
    "\n",
    "![pearson](https://imgs.search.brave.com/4_7sQIEbqLJM53We4YKYA13ibgVmnBKksdKFpRQvaLU/rs:fit:860:0:0/g:ce/aHR0cHM6Ly93d3cu/cXVlc3Rpb25wcm8u/Y29tL2Jsb2cvd3At/Y29udGVudC91cGxv/YWRzLzIwMjAvMDQv/UGVhcnNvbi1jb3Jy/ZWxhdGlvbi1jb2Vm/ZmljaWVudC0xLmpw/Zw)"
   ]
  },
  {
   "cell_type": "code",
   "execution_count": null,
   "metadata": {
    "colab": {
     "base_uri": "https://localhost:8080/",
     "height": 204
    },
    "executionInfo": {
     "elapsed": 363,
     "status": "ok",
     "timestamp": 1694254001482,
     "user": {
      "displayName": "Susan Ndinoshinge",
      "userId": "16659780857992036365"
     },
     "user_tz": -120
    },
    "id": "al3IaReoW6ob",
    "outputId": "b084fe69-ce71-4070-ed4c-fc3a31c3c327"
   },
   "outputs": [],
   "source": [
    "# Check correlation matrix - default is pearson correlation\n",
    "fortune.corr(numeric_only=True)"
   ]
  },
  {
   "cell_type": "code",
   "execution_count": null,
   "metadata": {
    "colab": {
     "base_uri": "https://localhost:8080/",
     "height": 238
    },
    "executionInfo": {
     "elapsed": 218,
     "status": "ok",
     "timestamp": 1694254048398,
     "user": {
      "displayName": "Susan Ndinoshinge",
      "userId": "16659780857992036365"
     },
     "user_tz": -120
    },
    "id": "rmd0OdBGW6oc",
    "outputId": "57dd2346-a55a-4422-a76e-90283ea469b4"
   },
   "outputs": [],
   "source": [
    "# Add styling\n",
    "fortune_corr = fortune.corr()\n",
    "fortune_corr.style.background_gradient(cmap='RdYlGn').format('{:,.2f}')"
   ]
  },
  {
   "cell_type": "code",
   "execution_count": null,
   "metadata": {
    "colab": {
     "base_uri": "https://localhost:8080/",
     "height": 572
    },
    "executionInfo": {
     "elapsed": 988,
     "status": "ok",
     "timestamp": 1694254077876,
     "user": {
      "displayName": "Susan Ndinoshinge",
      "userId": "16659780857992036365"
     },
     "user_tz": -120
    },
    "id": "4QYafAGnW6oc",
    "outputId": "6cb7feed-020c-40ae-cb1a-6605bacb5c6c"
   },
   "outputs": [],
   "source": [
    "# Create heatmap in seaborn\n",
    "sns.heatmap(fortune_corr, annot=True)"
   ]
  },
  {
   "cell_type": "markdown",
   "metadata": {
    "id": "LXt36bW9W6od"
   },
   "source": [
    "Let's remove the duplicated values in our plot:"
   ]
  },
  {
   "cell_type": "code",
   "execution_count": null,
   "metadata": {
    "colab": {
     "base_uri": "https://localhost:8080/",
     "height": 566
    },
    "executionInfo": {
     "elapsed": 736,
     "status": "ok",
     "timestamp": 1694254273121,
     "user": {
      "displayName": "Susan Ndinoshinge",
      "userId": "16659780857992036365"
     },
     "user_tz": -120
    },
    "id": "JJgKH6LHW6od",
    "outputId": "0445d072-05f1-4be8-ffdc-f9b1ec07e15e"
   },
   "outputs": [],
   "source": [
    "# Create mask for upper triangle\n",
    "mask = np.zeros_like(fortune_corr)\n",
    "mask[np.triu_indices_from(mask)] = True\n",
    "\n",
    "# Plot heatmap\n",
    "sns.heatmap(fortune_corr, mask =mask, annot=True, cmap = 'RdYlGn')"
   ]
  },
  {
   "cell_type": "markdown",
   "metadata": {},
   "source": [
    "### <a id='toc2_1_2_'></a>[Spearman correlation](#toc0_)\n",
    "\n",
    "- Measures the strength of **non-linear** correlation between 2 numerical variables (discrete and/or continuous)\n",
    "\n",
    "![spearman](https://imgs.search.brave.com/V76zc-JGOOuPAUO-S0KYm46FuQPrFY3cH4lX2kavgQw/rs:fit:860:0:0/g:ce/aHR0cHM6Ly93d3cu/c2ltcGxpbGVhcm4u/Y29tL2ljZTkvZnJl/ZV9yZXNvdXJjZXNf/YXJ0aWNsZV90aHVt/Yi9TcGVhcm1hbiVF/MiU4MCU5OXNfUmFu/a19Db3JyZWxhdGlv/bl8xLmpwZw)"
   ]
  },
  {
   "cell_type": "code",
   "execution_count": null,
   "metadata": {
    "colab": {
     "base_uri": "https://localhost:8080/",
     "height": 238
    },
    "executionInfo": {
     "elapsed": 292,
     "status": "ok",
     "timestamp": 1694254322999,
     "user": {
      "displayName": "Susan Ndinoshinge",
      "userId": "16659780857992036365"
     },
     "user_tz": -120
    },
    "id": "BsS0rguPW6oe",
    "outputId": "38f3a537-4f48-4ee4-e989-aa3880baa826"
   },
   "outputs": [],
   "source": [
    "# Check correlation matrix\n",
    "round(fortune.corr(method='spearman'), 2)"
   ]
  },
  {
   "cell_type": "code",
   "execution_count": null,
   "metadata": {
    "colab": {
     "base_uri": "https://localhost:8080/",
     "height": 238
    },
    "executionInfo": {
     "elapsed": 231,
     "status": "ok",
     "timestamp": 1694254418672,
     "user": {
      "displayName": "Susan Ndinoshinge",
      "userId": "16659780857992036365"
     },
     "user_tz": -120
    },
    "id": "pAmyqFtPW6oe",
    "outputId": "955d3213-1b16-4bf6-f4c9-73a9f0cc6e64"
   },
   "outputs": [],
   "source": [
    "# Add styling\n",
    "fortune_corr = fortune.corr(method = 'spearman')\n",
    "fortune_corr.style.background_gradient(cmap='RdYlGn').format('{:,.2f}')"
   ]
  },
  {
   "cell_type": "code",
   "execution_count": null,
   "metadata": {
    "colab": {
     "base_uri": "https://localhost:8080/",
     "height": 566
    },
    "executionInfo": {
     "elapsed": 602,
     "status": "ok",
     "timestamp": 1694254500976,
     "user": {
      "displayName": "Susan Ndinoshinge",
      "userId": "16659780857992036365"
     },
     "user_tz": -120
    },
    "id": "_8AJSraXW6oe",
    "outputId": "e92bd5a2-a823-4fb3-cb9c-1b48f5211e3b"
   },
   "outputs": [],
   "source": [
    "# Create heatmap in seaborn without upper triangle\n",
    "mask = np.zeros_like(fortune_corr)\n",
    "mask[np.triu_indices_from(mask)] = True\n",
    "\n",
    "sns.heatmap(fortune_corr, mask=mask, annot=True, cmap='RdYlGn')\n",
    "\n"
   ]
  },
  {
   "cell_type": "code",
   "execution_count": null,
   "metadata": {
    "colab": {
     "base_uri": "https://localhost:8080/"
    },
    "executionInfo": {
     "elapsed": 250,
     "status": "ok",
     "timestamp": 1694254569161,
     "user": {
      "displayName": "Susan Ndinoshinge",
      "userId": "16659780857992036365"
     },
     "user_tz": -120
    },
    "id": "Uj7YdtU5cJo0",
    "outputId": "abd63a39-bb46-4870-88e2-621be057a31e"
   },
   "outputs": [],
   "source": [
    "fortune['Market Cap'].dtype"
   ]
  },
  {
   "cell_type": "code",
   "execution_count": null,
   "metadata": {
    "executionInfo": {
     "elapsed": 4,
     "status": "ok",
     "timestamp": 1694254706197,
     "user": {
      "displayName": "Susan Ndinoshinge",
      "userId": "16659780857992036365"
     },
     "user_tz": -120
    },
    "id": "kwLV7QuCcXO2"
   },
   "outputs": [],
   "source": [
    "fortune['Market Cap'] = pd.to_numeric(fortune['Market Cap'], errors='coerce')"
   ]
  },
  {
   "cell_type": "code",
   "execution_count": null,
   "metadata": {
    "colab": {
     "base_uri": "https://localhost:8080/"
    },
    "executionInfo": {
     "elapsed": 264,
     "status": "ok",
     "timestamp": 1694254708060,
     "user": {
      "displayName": "Susan Ndinoshinge",
      "userId": "16659780857992036365"
     },
     "user_tz": -120
    },
    "id": "_sIgSf6Ucpbz",
    "outputId": "25ae3ddf-881d-4384-80fc-81e921b14feb"
   },
   "outputs": [],
   "source": [
    "fortune['Market Cap'].dtype"
   ]
  },
  {
   "cell_type": "markdown",
   "metadata": {},
   "source": [
    "### <a id='toc2_1_3_'></a>[Kendall Tau correlation](#toc0_)"
   ]
  },
  {
   "cell_type": "markdown",
   "metadata": {
    "id": "kY18ePG2W6of"
   },
   "source": [
    "> * Kendall: similar to Spearman, but sample sizes are small and is less sensitive to outliers."
   ]
  },
  {
   "cell_type": "code",
   "execution_count": null,
   "metadata": {
    "colab": {
     "base_uri": "https://localhost:8080/",
     "height": 204
    },
    "executionInfo": {
     "elapsed": 266,
     "status": "ok",
     "timestamp": 1694255473540,
     "user": {
      "displayName": "Susan Ndinoshinge",
      "userId": "16659780857992036365"
     },
     "user_tz": -120
    },
    "id": "cnb4RhsXW6of",
    "outputId": "c3ebbb80-39db-4193-abaf-ac4fd706999b"
   },
   "outputs": [],
   "source": [
    "# Check correlation matrix\n",
    "fortune.corr(method = 'kendall', numeric_only=True)\n",
    "fortune_corr.style.background_gradient(cmap='RdYlGn').format('{:,.2f}')"
   ]
  },
  {
   "cell_type": "code",
   "execution_count": null,
   "metadata": {
    "colab": {
     "base_uri": "https://localhost:8080/",
     "height": 204
    },
    "executionInfo": {
     "elapsed": 249,
     "status": "ok",
     "timestamp": 1694254873366,
     "user": {
      "displayName": "Susan Ndinoshinge",
      "userId": "16659780857992036365"
     },
     "user_tz": -120
    },
    "id": "nY6boAnjW6oj",
    "outputId": "abe99a93-8b6a-4865-cfb2-0a02aec8659c"
   },
   "outputs": [],
   "source": [
    "# Add styling\n",
    "\n",
    "fortune_corr.style.background_gradient(cmap='RdYlGn').format('{:,.2f}')"
   ]
  },
  {
   "cell_type": "code",
   "execution_count": null,
   "metadata": {
    "executionInfo": {
     "elapsed": 247,
     "status": "ok",
     "timestamp": 1694254876456,
     "user": {
      "displayName": "Susan Ndinoshinge",
      "userId": "16659780857992036365"
     },
     "user_tz": -120
    },
    "id": "YqtryPasW6oj"
   },
   "outputs": [],
   "source": [
    "# Create heatmap in seaborn without upper triangle\n",
    "mask = np.zeros_like(fortune_corr)\n",
    "mask[np.triu_indices_from(mask)] = True"
   ]
  },
  {
   "cell_type": "markdown",
   "metadata": {},
   "source": [
    "# <a id='toc3_'></a>[Correlation vs causation](#toc0_)"
   ]
  },
  {
   "cell_type": "markdown",
   "metadata": {},
   "source": [
    "One good way to understand that correlation is not causation is to look at completely unrelated events and see that they have some degree of association, such as the [number of master degrees awarded in journalism and the number of solar panels in Malta](https://www.tylervigen.com/spurious/correlation/1874_masters-degrees-awarded-in-communication-journalism-and-related-programs_correlates-with_solar-power-generated-in-malta):  \n",
    "\n",
    "![](../../../img/spurious-correlations.png)  \n",
    "\n",
    "Finding a correlation between 2 variables is merely the first step in establishing a causal relationship. However, other conditions must also be met:\n",
    " - time sequence, i.e. the alleged cause must occur before the event\n",
    " - a plausible reasoning for causal relationship, or as Wikipedia puts it: \"a plausible physical or information-theoretical mechanism for an observed effect to follow from a possible cause\"\n",
    " - the \"causal\" variable needs to be the only variable that could be responsible for the observed effect, i.e. there shouldn't be any other common or alternative variables that could explain the effect (e.g. [confounders](https://sphweb.bumc.bu.edu/otlt/mph-modules/bs/bs704-ep713_confounding-em/bs704-ep713_confounding-em_print.html#:~:text=Identifying%20Confounding,for%20a%20potential%20confounding%20factor.))\n",
    "\n",
    "Although the 2nd and 3rd items could be reasonably easy to fulfill, the 4th item takes considerably more thought (e.g. experimental design) and mathematical rigour. There is a whole field dedicated to causal relationships called Causal Analysis and whilst it's not yet very applied in ML, it did start to gain more traction - e.g. [Causal ML library](https://causalml.readthedocs.io/en/latest/about.html) and [Causal ML book](https://causalml-book.org/)."
   ]
  },
  {
   "cell_type": "markdown",
   "metadata": {},
   "source": [
    "# <a id='toc4_'></a>[Extra: Correlation among different types of variables](#toc0_)"
   ]
  },
  {
   "cell_type": "markdown",
   "metadata": {
    "id": "TesMVkFzW6ok"
   },
   "source": [
    "We typically look at correlation between numerical values only as it's the simplest to quantify. However, if you are interested in learning about different types of correlations, e.g. categorical & categorical data, numerical & categorical data, you can read [this article](https://archive.ph/20210208110902/https://medium.com/@outside2SDs/an-overview-of-correlation-measures-between-categorical-and-continuous-variables-4c7f85610365)."
   ]
  },
  {
   "cell_type": "markdown",
   "metadata": {},
   "source": [
    "# <a id='toc5_'></a>[Extra: Covariance maths](#toc0_)"
   ]
  },
  {
   "cell_type": "markdown",
   "metadata": {
    "id": "pz7MQOgXW6ok"
   },
   "source": [
    "This is the covariance in typical maths syntax:  \n",
    "  \n",
    "![image.png](https://miro.medium.com/v2/resize:fit:828/0*Vf0PmWaZUL4CtPC_)\n",
    "\n",
    "Where:\n",
    "- Σ = big sigma greek letter. In maths, this means sum.\n",
    "- d = In general maths, this is a differential (fancy for very, very small interval). In this context, it means the difference between a variable and its mean.\n",
    "- n = sample size"
   ]
  },
  {
   "cell_type": "markdown",
   "metadata": {
    "id": "xgWzAZwjW6ol"
   },
   "source": [
    "It is called covariance because it looks at the variance of 2 variables instead of 1. If you remember, the variance was the squared sum of differences between elements and their mean:"
   ]
  },
  {
   "cell_type": "code",
   "execution_count": null,
   "metadata": {
    "id": "LC0hdprEW6ol"
   },
   "outputs": [],
   "source": [
    "shoe_sizes = [46, 45, 44.5, 44, 43, 43, 43, 43, 42.5, 42, 41, 40, 39, 38, 37]\n",
    "heights = [185, 184, 183, 182, 181, 181, 174, 174, 173, 170, 169, 169, 165, 160, 160]\n",
    "\n",
    "shoe_size_mean = np.mean(shoe_sizes)\n",
    "height_mean = np.mean(heights)"
   ]
  },
  {
   "cell_type": "code",
   "execution_count": null,
   "metadata": {
    "id": "6uhRNfQaW6ol"
   },
   "outputs": [],
   "source": [
    "variance = sum([(shoe_size - shoe_size_mean) ** 2 for shoe_size in shoe_sizes])\n",
    "variance"
   ]
  },
  {
   "cell_type": "markdown",
   "metadata": {
    "id": "Vedo1IBwW6ol"
   },
   "source": [
    "We can also write the square as a product:"
   ]
  },
  {
   "cell_type": "code",
   "execution_count": null,
   "metadata": {
    "id": "9XkDHqF0W6on"
   },
   "outputs": [],
   "source": [
    "variance = sum([(shoe_size - shoe_size_mean) * (shoe_size - shoe_size_mean) for shoe_size in shoe_sizes])\n",
    "variance"
   ]
  },
  {
   "cell_type": "markdown",
   "metadata": {
    "id": "eGF6i-AnW6oo"
   },
   "source": [
    "And we can see how the covariance is simply replacing the second difference with that of another variable:"
   ]
  },
  {
   "cell_type": "code",
   "execution_count": null,
   "metadata": {
    "id": "aI1zfpmOW6oo"
   },
   "outputs": [],
   "source": [
    "covariance = sum([(shoe_size - shoe_size_mean) * (height - height_mean) for (shoe_size, height) in zip(shoe_sizes, heights)])\n",
    "covariance"
   ]
  },
  {
   "cell_type": "markdown",
   "metadata": {
    "id": "2BI0FN0dW6oo"
   },
   "source": [
    "The covariance is positive, therefore when the height increases, the shoe size also increases and viceversa, which makes sense."
   ]
  },
  {
   "cell_type": "markdown",
   "metadata": {},
   "source": [
    "# <a id='toc6_'></a>[Extra: StatQuest Videos](#toc0_)\n",
    "\n",
    "- [Covariance: Clearly Explained!](https://www.youtube.com/watch?v=qtaqvPAeEJY) - 22 min\n",
    "- [Pearson Correlation: Clearly Explained!](https://www.youtube.com/watch?v=xZ_z8KWkhXE) - 19 min"
   ]
  }
 ],
 "metadata": {
  "colab": {
   "provenance": []
  },
  "kernelspec": {
   "display_name": "base",
   "language": "python",
   "name": "python3"
  },
  "language_info": {
   "codemirror_mode": {
    "name": "ipython",
    "version": 3
   },
   "file_extension": ".py",
   "mimetype": "text/x-python",
   "name": "python",
   "nbconvert_exporter": "python",
   "pygments_lexer": "ipython3",
   "version": "3.9.13"
  },
  "orig_nbformat": 4
 },
 "nbformat": 4,
 "nbformat_minor": 0
}
