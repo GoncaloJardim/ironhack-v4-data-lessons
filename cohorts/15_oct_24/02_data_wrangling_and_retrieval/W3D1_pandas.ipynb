{
  "cells": [
    {
      "cell_type": "markdown",
      "metadata": {},
      "source": [
        "**Table of contents**<a id='toc0_'></a>    \n",
        "- [Short intro to NumPy](#toc1_)    \n",
        "- [Introduction to Pandas Library](#toc2_)    \n",
        "  - [Key Features of Pandas](#toc2_1_)    \n",
        "  - [DataFrames and Series in Pandas](#toc2_2_)    \n",
        "- [Dataframes in Pandas](#toc3_)    \n",
        "  - [Creating DataFrames](#toc3_1_)    \n",
        "    - [From Dictionaries](#toc3_1_1_)    \n",
        "    - [From Lists of Lists](#toc3_1_2_)    \n",
        "    - [From NumPy arrays](#toc3_1_3_)    \n",
        "    - [From a file / URL](#toc3_1_4_)    \n",
        "  - [DataFrame operations](#toc3_2_)    \n",
        "    - [`head()` and `tail()`](#toc3_2_1_)    \n",
        "    - [`index, columns and values`](#toc3_2_2_)    \n",
        "  - [Data access in Dataframe](#toc3_3_)    \n",
        "    - [Columns](#toc3_3_1_)    \n",
        "    - [Rows](#toc3_3_2_)    \n",
        "    - [Specific values](#toc3_3_3_)    \n",
        "    - [⚠️ WARNING: Changing values in DataFrames ⚠️ (🔰)](#toc3_3_4_)    \n",
        "  - [More DataFrame Methods](#toc3_4_)    \n",
        "    - [`shape`](#toc3_4_1_)    \n",
        "    - [`describe()`](#toc3_4_2_)    \n",
        "    - [`info()`](#toc3_4_3_)    \n",
        "    - [`nunique() and unique()`](#toc3_4_4_)    \n",
        "    - [`dtypes`](#toc3_4_5_)    \n",
        "    - [`select_dtypes()`](#toc3_4_6_)    \n",
        "    - [Aggregation such as `max()`](#toc3_4_7_)    \n",
        "  - [💡 Check for understanding](#toc3_5_)    \n",
        "- [Series in Pandas](#toc4_)    \n",
        "  - [Creating Series](#toc4_1_)    \n",
        "    - [From a list](#toc4_1_1_)    \n",
        "    - [From a list with index](#toc4_1_2_)    \n",
        "    - [From a dictionary](#toc4_1_3_)    \n",
        "    - [From a file](#toc4_1_4_)    \n",
        "  - [Data access in Series](#toc4_2_)    \n",
        "  - [Methods in Series](#toc4_3_)    \n",
        "    - [`concat()`](#toc4_3_1_)    \n",
        "    - [`sort_values() and sort_index()`](#toc4_3_2_)    \n",
        "    - [`value_counts()`](#toc4_3_3_)    \n",
        "  - [💡 Check for understanding](#toc4_4_)    \n",
        "- [Summary](#toc5_)    \n",
        "- [Extra: Creating Dataframes from a Dictionary](#toc6_)    \n",
        "- [Extra: pickle](#toc7_)    \n",
        "  - [Saving DataFrames with Pickle](#toc7_1_)    \n",
        "  - [Loading DataFrames from Pickle](#toc7_2_)    \n",
        "\n",
        "<!-- vscode-jupyter-toc-config\n",
        "\tnumbering=false\n",
        "\tanchor=true\n",
        "\tflat=false\n",
        "\tminLevel=1\n",
        "\tmaxLevel=6\n",
        "\t/vscode-jupyter-toc-config -->\n",
        "<!-- THIS CELL WILL BE REPLACED ON TOC UPDATE. DO NOT WRITE YOUR TEXT IN THIS CELL -->"
      ]
    },
    {
      "cell_type": "code",
      "execution_count": 97,
      "metadata": {},
      "outputs": [],
      "source": [
        "# But first... how do we import libraries?\n",
        "# from library import function\n",
        "# import library\n",
        "# import library as liby"
      ]
    },
    {
      "cell_type": "markdown",
      "metadata": {},
      "source": [
        "# <a id='toc1_'></a>[Short intro to NumPy](#toc0_)"
      ]
    },
    {
      "cell_type": "markdown",
      "metadata": {
        "id": "mR8-_HdQSOPQ"
      },
      "source": [
        "Let's start by mentioning NumPy as Pandas builds on top of NumPy.\n",
        "\n",
        "NumPy is a powerful library for numerical computing in Python. It provides support for large, multi-dimensional arrays and matrices, along with an extensive collection of mathematical functions to operate on these arrays efficiently."
      ]
    },
    {
      "cell_type": "code",
      "execution_count": null,
      "metadata": {},
      "outputs": [],
      "source": [
        "lst_ = [1, 2, 3, 4, 5]\n",
        "lst_ * 2"
      ]
    },
    {
      "cell_type": "code",
      "execution_count": null,
      "metadata": {},
      "outputs": [],
      "source": [
        "import numpy as np\n",
        "\n",
        "# Creating a NumPy array\n",
        "arr = np.array([1, 2, 3, 4, 5])\n",
        "\n",
        "# Multiply by 2\n",
        "arr * 2"
      ]
    },
    {
      "cell_type": "markdown",
      "metadata": {},
      "source": [
        "# <a id='toc2_'></a>[Introduction to Pandas Library](#toc0_)\n",
        "\n",
        "<iframe src=\"https://giphy.com/embed/QoCoLo2opwUW4\" width=\"480\" height=\"278\" frameBorder=\"0\" class=\"giphy-embed\" allowFullScreen></iframe><p><a href=\"https://giphy.com/gifs/panda-playing-QoCoLo2opwUW4\">via GIPHY</a></p>\n",
        "\n",
        "`pandas` is a powerful library designed for working with tabulated and tagged data, making it ideal for handling spreadsheets, SQL tables, and more. It revolves around two main data structures: `Series` and `DataFrames`.\n",
        "\n",
        "## <a id='toc2_1_'></a>[Key Features of Pandas](#toc0_)\n",
        "\n",
        "- Robust data import/export: `pandas` provides efficient tools to read and write data from various file formats like CSV, XLS, SQL, Parquet, SPSS, HDF5, and more.\n",
        "- Data manipulation: With `pandas`, you can easily filter, add, or delete data, enabling seamless data processing.\n",
        "- High-performance and versatility: It combines the performance of `numpy` arrays with the ability to handle tabulated data efficiently.\n",
        "\n",
        "To import the necessary modules from the `pandas` library, we use the following syntax:"
      ]
    },
    {
      "cell_type": "code",
      "execution_count": 100,
      "metadata": {
        "id": "xdtml8oKSOPR",
        "tags": []
      },
      "outputs": [],
      "source": [
        "import pandas as pd  # 'pd' is the common abbreviation for pandas"
      ]
    },
    {
      "cell_type": "markdown",
      "metadata": {},
      "source": [
        "![](https://github.com/data-bootcamp-v4/lessons/blob/main/img/pandas.svg?raw=true)"
      ]
    },
    {
      "cell_type": "markdown",
      "metadata": {},
      "source": [
        "## <a id='toc2_2_'></a>[DataFrames and Series in Pandas](#toc0_)\n",
        "\n",
        "In `pandas`, a `DataFrame` is a two-dimensional data structure that stores data in tabular form, with labeled rows and columns. Each row represents an observation, and each column represents a variable. `DataFrame` can handle heterogeneous data with different types (numeric, string, boolean, etc.). It also includes variable names, types, and methods to access and modify the data.\n",
        "\n",
        "```python\n",
        "# Creating a DataFrame\n",
        "df = pd.DataFrame(data, ...)\n",
        "```\n",
        "\n",
        "On the other hand, a `Series` is a one-dimensional array of data with associated labels called the *index*. If no index is specified, it generates an ordered sequence of integers.\n",
        "\n",
        "```python\n",
        "# Creating a Series\n",
        "s = pd.Series(data, index=index)\n",
        "```"
      ]
    },
    {
      "cell_type": "markdown",
      "metadata": {},
      "source": [
        "# <a id='toc3_'></a>[Dataframes in Pandas](#toc0_)"
      ]
    },
    {
      "cell_type": "markdown",
      "metadata": {},
      "source": [
        "## <a id='toc3_1_'></a>[Creating DataFrames](#toc0_)"
      ]
    },
    {
      "cell_type": "markdown",
      "metadata": {},
      "source": [
        "### <a id='toc3_1_1_'></a>[From Dictionaries](#toc0_)\n",
        "\n",
        "A simple and common way to create a DataFrame is from a dictionary where keys are column names, and values are lists or arrays representing data for each column."
      ]
    },
    {
      "cell_type": "code",
      "execution_count": null,
      "metadata": {},
      "outputs": [],
      "source": [
        "beatles_dict = {\n",
        "    'name': [\"John Lenon\", \"Paul McCartney\", \"George Harrison\", \"Ringo Starr\", \"Hanif Kantor\"],\n",
        "    'instrument': [\"Vocals\", \"Bass\", \"Bass\", \"Drums\", \"Violin\"],\n",
        "    'tenure': [9, 12, 12, 8, 1],\n",
        "    'num_fans': [9000, 2400, 2000, 1600, 6]\n",
        "}\n",
        "beatles_dict"
      ]
    },
    {
      "cell_type": "code",
      "execution_count": null,
      "metadata": {},
      "outputs": [],
      "source": [
        "beatles_df = pd.DataFrame(beatles_dict)\n",
        "beatles_df"
      ]
    },
    {
      "cell_type": "code",
      "execution_count": 103,
      "metadata": {},
      "outputs": [],
      "source": [
        "# Check dtypes"
      ]
    },
    {
      "cell_type": "markdown",
      "metadata": {},
      "source": [
        "### <a id='toc3_1_2_'></a>[From Lists of Lists](#toc0_)\n",
        "\n",
        "You can also create a DataFrame from a list of lists. There are 2 ways this can happen:"
      ]
    },
    {
      "cell_type": "markdown",
      "metadata": {},
      "source": [
        "- the records oriented lists (not very common):"
      ]
    },
    {
      "cell_type": "code",
      "execution_count": null,
      "metadata": {},
      "outputs": [],
      "source": [
        "data = [\n",
        "    [\"John Lenon\", \"Vocals\", 9, 9000],\n",
        "    [\"Paul McCartney\", \"Bass\", 12, 2400],\n",
        "    [\"George Harrison\", \"Bass\", 12, 2000],\n",
        "    [\"Ringo Starr\", \"Drums\", 8, 1600],\n",
        "    [\"Hanif Kantor\", \"Violin\", 1, 6]\n",
        "]\n",
        "\n",
        "# Creating the DataFrame with specified column names\n",
        "beatles_df = pd.DataFrame(data, columns=['Name', 'Instrument', 'Tenure (years)', 'Num Fans'])\n",
        "beatles_df"
      ]
    },
    {
      "cell_type": "markdown",
      "metadata": {},
      "source": [
        "- the columns oriented lists (much more common):"
      ]
    },
    {
      "cell_type": "code",
      "execution_count": null,
      "metadata": {},
      "outputs": [],
      "source": [
        "names = [\"John Lenon\", \"Paul McCartney\", \"George Harrison\", \"Ringo Starr\", \"Hanif Kantor\"]\n",
        "instruments = [\"Vocals\", \"Bass\", \"Bass\", \"Drums\", \"Violin\"]\n",
        "tenure = [9, 12, 12, 8, 1]\n",
        "num_fans = [9000, 2400, 2000, 1600, 6]\n",
        "\n",
        "# Initial DF\n",
        "beatles_df = pd.DataFrame([names, instruments, tenure, num_fans])\n",
        "beatles_df"
      ]
    },
    {
      "cell_type": "code",
      "execution_count": null,
      "metadata": {},
      "outputs": [],
      "source": [
        "# This is not a proper relational database so we need to spin it... or transpose it\n",
        "beatles_df = beatles_df.T\n",
        "beatles_df"
      ]
    },
    {
      "cell_type": "markdown",
      "metadata": {},
      "source": [
        "### <a id='toc3_1_3_'></a>[From NumPy arrays](#toc0_)\n",
        "\n",
        "Whilst it's possible to convert lists of lists into DataFrames, it's much more likely you'll be converting NumPy arrays to DataFrames instead so you can operate on them more easily:"
      ]
    },
    {
      "cell_type": "code",
      "execution_count": null,
      "metadata": {},
      "outputs": [],
      "source": [
        "data = np.array([\n",
        "    [\"John Lenon\", \"Vocals\", 9, 9000],\n",
        "    [\"Paul McCartney\", \"Bass\", 12, 2400],\n",
        "    [\"George Harrison\", \"Bass\", 12, 2000],\n",
        "    [\"Ringo Starr\", \"Drums\", 8, 1600],\n",
        "    [\"Hanif Kantor\", \"Violin\", 1, 6]\n",
        "])\n",
        "\n",
        "# Creating the DataFrame with specified column names\n",
        "beatles_df = pd.DataFrame(data, columns=['Name', 'Instrument', 'Tenure (years)', 'Num Fans'])\n",
        "beatles_df"
      ]
    },
    {
      "cell_type": "markdown",
      "metadata": {},
      "source": [
        "### <a id='toc3_1_4_'></a>[From a file / URL](#toc0_)"
      ]
    },
    {
      "cell_type": "markdown",
      "metadata": {},
      "source": [
        "We will use `read_csv` to read data from a CSV file and create a DataFrame. (We can use parameter `usecols` and the method `squeeze(\"columns\")` to create a Series instead - see Extra)."
      ]
    },
    {
      "cell_type": "code",
      "execution_count": 108,
      "metadata": {},
      "outputs": [],
      "source": [
        "# Load Titanic dataset from an online source\n",
        "url = 'https://raw.githubusercontent.com/data-bootcamp-v4/data/main/titanic_train.csv'\n",
        "titanic_df = pd.read_csv(url)\n",
        "\n",
        "# Types of files\n",
        "# excel (personally only recommend using Excel for client facing tables as it's heavier than .csv and can get messier)\n",
        "# parquet (very large files, can be used in finance, retail, bioinformatics, etc.)\n",
        "# JSON (typically used for website contents -> web scraping sessions)\n",
        "# sql (when you have a connection with a local/cloud database)\n",
        "# SPSS (from different scientific software, typically in survey settings)"
      ]
    },
    {
      "cell_type": "markdown",
      "metadata": {},
      "source": [
        "## <a id='toc3_2_'></a>[DataFrame operations](#toc0_)"
      ]
    },
    {
      "cell_type": "markdown",
      "metadata": {},
      "source": [
        "### <a id='toc3_2_1_'></a>[`head()` and `tail()`](#toc0_)"
      ]
    },
    {
      "cell_type": "markdown",
      "metadata": {},
      "source": [
        "The `head()` method returns the first few rows of a DataFrame or Series, while the `tail()` method returns the last few rows."
      ]
    },
    {
      "cell_type": "code",
      "execution_count": null,
      "metadata": {},
      "outputs": [],
      "source": [
        "# Default head and tail\n",
        "display(titanic_df.head())\n",
        "titanic_df.tail()"
      ]
    },
    {
      "cell_type": "code",
      "execution_count": null,
      "metadata": {},
      "outputs": [],
      "source": [
        "# Custom # of rows\n",
        "display(titanic_df.head(3))\n",
        "titanic_df.tail(3)"
      ]
    },
    {
      "cell_type": "code",
      "execution_count": null,
      "metadata": {},
      "outputs": [],
      "source": [
        "# Print vs display for DataFrames\n",
        "print(titanic_df.head(3))\n",
        "display(titanic_df.head(3))"
      ]
    },
    {
      "cell_type": "markdown",
      "metadata": {},
      "source": [
        "### <a id='toc3_2_2_'></a>[`index, columns and values`](#toc0_)"
      ]
    },
    {
      "cell_type": "markdown",
      "metadata": {},
      "source": [
        "The `index` attribute in Pandas returns the index labels of a DataFrame or Series, and the `columns` attribute returns the column labels of a DataFrame."
      ]
    },
    {
      "cell_type": "code",
      "execution_count": null,
      "metadata": {},
      "outputs": [],
      "source": [
        "titanic_df.index"
      ]
    },
    {
      "cell_type": "markdown",
      "metadata": {},
      "source": [
        "`RangeIndex(start=0, stop=1460, step=1)` is a special type of index in Pandas called a `RangeIndex`. It represents a range of integer values starting from 0, up to (but not including) 1460, with a step size of 1."
      ]
    },
    {
      "cell_type": "code",
      "execution_count": null,
      "metadata": {},
      "outputs": [],
      "source": [
        "# Convert to list\n",
        "list(titanic_df.index)"
      ]
    },
    {
      "cell_type": "code",
      "execution_count": null,
      "metadata": {},
      "outputs": [],
      "source": [
        "# Review columns - data type is index!\n",
        "titanic_df.columns"
      ]
    },
    {
      "cell_type": "code",
      "execution_count": null,
      "metadata": {},
      "outputs": [],
      "source": [
        "# Convert to list\n",
        "list(titanic_df.columns)"
      ]
    },
    {
      "cell_type": "markdown",
      "metadata": {},
      "source": [
        "In Pandas, `df.values` is an attribute that returns the underlying NumPy array of a DataFrame df. It represents the actual data stored in the DataFrame as a two-dimensional NumPy array."
      ]
    },
    {
      "cell_type": "code",
      "execution_count": null,
      "metadata": {},
      "outputs": [],
      "source": [
        "# .values is useful when you use/create functions that need to handle either lists or arrays  \n",
        "titanic_df.values"
      ]
    },
    {
      "cell_type": "markdown",
      "metadata": {},
      "source": [
        "\n",
        "Additionally, `Pandas` can create Dataframes from other sources, such as JSON, URL ..."
      ]
    },
    {
      "cell_type": "markdown",
      "metadata": {},
      "source": [
        "\n",
        "---\n",
        "## <a id='toc3_3_'></a>[Data access in Dataframe](#toc0_)\n"
      ]
    },
    {
      "cell_type": "markdown",
      "metadata": {},
      "source": [
        "### <a id='toc3_3_1_'></a>[Columns](#toc0_)"
      ]
    },
    {
      "cell_type": "markdown",
      "metadata": {},
      "source": [
        "You can extract columns from a `DataFrame` using dictionary-like notation or as attributes, obtaining a `Series` object in both cases, provided the column label is a valid Python identifier."
      ]
    },
    {
      "cell_type": "code",
      "execution_count": null,
      "metadata": {},
      "outputs": [],
      "source": [
        "# dict way of accessing a column\n",
        "titanic_df[\"Sex\"] "
      ]
    },
    {
      "cell_type": "code",
      "execution_count": null,
      "metadata": {},
      "outputs": [],
      "source": [
        "# Check the data structure of the selected column\n",
        "type(titanic_df[\"Sex\"]) # Whenever we select a column, we get a Pandas Series"
      ]
    },
    {
      "cell_type": "code",
      "execution_count": null,
      "metadata": {},
      "outputs": [],
      "source": [
        "# attribute access of the column\n",
        "titanic_df.Sex"
      ]
    },
    {
      "cell_type": "code",
      "execution_count": null,
      "metadata": {},
      "outputs": [],
      "source": [
        "# This only works if the column name doesn't have unusual characters, this means no spaces or special characters\n",
        "titanic_df['Passenger Id'] = titanic_df['PassengerId']\n",
        "titanic_df.Passenger Id"
      ]
    },
    {
      "cell_type": "code",
      "execution_count": null,
      "metadata": {},
      "outputs": [],
      "source": [
        "# When we use a list instead of a string we get a DataFrame instead of a Series -> useful when that's the data structure you need\n",
        "display(titanic_df[[\"Sex\"]])\n",
        "type(titanic_df[['Sex']])"
      ]
    },
    {
      "cell_type": "code",
      "execution_count": null,
      "metadata": {},
      "outputs": [],
      "source": [
        "# Multiple objects\n",
        "titanic_df[[\"Sex\", \"Fare\"]]"
      ]
    },
    {
      "cell_type": "markdown",
      "metadata": {},
      "source": [
        "### <a id='toc3_3_2_'></a>[Rows](#toc0_)"
      ]
    },
    {
      "cell_type": "markdown",
      "metadata": {},
      "source": [
        "To access rows in a Pandas DataFrame, you can use the `iloc` attribute with integer-based indexing or the `loc` attribute with label-based indexing. For example, `df.iloc[0]` will access the first row, and `df.loc['row_label']` will access the row with the specified label."
      ]
    },
    {
      "cell_type": "markdown",
      "metadata": {},
      "source": [
        "\n",
        "<div class=\"alert alert-info\">Note: Consult http://pandas.pydata.org/pandas-docs/version/0.18.1/indexing.html#different-choices-for-indexing to understand the differences between methods.</div>"
      ]
    },
    {
      "cell_type": "markdown",
      "metadata": {},
      "source": [
        "Just for the sake of this example, we will create a dictionary with a non-default index."
      ]
    },
    {
      "cell_type": "markdown",
      "metadata": {},
      "source": [
        "![Table](../../../img/pd-indexing.png)"
      ]
    },
    {
      "cell_type": "code",
      "execution_count": null,
      "metadata": {},
      "outputs": [],
      "source": [
        "d_index = {\n",
        "    \"name\": [\"Paula\", \"Mark\"],\n",
        "    \"score\": [98.5, 95]\n",
        "}\n",
        "\n",
        "df_index = pd.DataFrame(d_index, index=[\"123A\", \"789B\"])\n",
        "df_index"
      ]
    },
    {
      "cell_type": "markdown",
      "metadata": {},
      "source": [
        "\n",
        "**loc** is used for label-based indexing to access rows."
      ]
    },
    {
      "cell_type": "code",
      "execution_count": null,
      "metadata": {},
      "outputs": [],
      "source": [
        "df_index.loc[\"789B\"]"
      ]
    },
    {
      "cell_type": "markdown",
      "metadata": {},
      "source": [
        "\n",
        "**iloc** is used for integer-based indexing in Pandas to access rows"
      ]
    },
    {
      "cell_type": "code",
      "execution_count": null,
      "metadata": {},
      "outputs": [],
      "source": [
        "df_index.iloc[1]"
      ]
    },
    {
      "cell_type": "markdown",
      "metadata": {},
      "source": [
        "### <a id='toc3_3_3_'></a>[Specific values](#toc0_)"
      ]
    },
    {
      "cell_type": "markdown",
      "metadata": {},
      "source": [
        "Here's a summary of the different ways to access individual values in a Pandas DataFrame:\n",
        "\n",
        "1. `df.loc[row_label][column_label]`: Chooses the row with the label and then the value in that row with the column label.\n",
        "\n",
        "2. `df.iloc[row_position][column_label]`: Selects the row with the position and then the value in that row with the column label.\n",
        "\n",
        "3. `df.loc[row_label, column_label]`: Directly accesses the value using both row and column labels.\n",
        "\n",
        "4. `df.iloc[row_position, column_position]`: Directly accesses the value using both row and column positions.\n",
        "\n",
        "Note: you might see `df[row_label][column_label]`, even though is less recommended that using `loc()`."
      ]
    },
    {
      "cell_type": "code",
      "execution_count": null,
      "metadata": {},
      "outputs": [],
      "source": [
        "# Option 1 - names\n",
        "\n",
        "# Step 1 - select the row\n",
        "df_index.loc['123A']\n",
        "\n",
        "# Step 2 - select the column\n",
        "df_index.loc['123A']['name']"
      ]
    },
    {
      "cell_type": "code",
      "execution_count": null,
      "metadata": {},
      "outputs": [],
      "source": [
        "# Try Option 1 without loc\n",
        "df_index['123A']['name']"
      ]
    },
    {
      "cell_type": "code",
      "execution_count": null,
      "metadata": {},
      "outputs": [],
      "source": [
        "# Option 2 - index, name\n",
        "\n",
        "# Step 1 - select the row\n",
        "df_index.iloc[0]\n",
        "\n",
        "# Step 2 - select the column\n",
        "# 2.a. Use column name\n",
        "df_index.iloc[0]['name']"
      ]
    },
    {
      "cell_type": "code",
      "execution_count": null,
      "metadata": {},
      "outputs": [],
      "source": [
        "# 2.b. Use column index\n",
        "df_index.iloc[0][0]"
      ]
    },
    {
      "cell_type": "code",
      "execution_count": null,
      "metadata": {},
      "outputs": [],
      "source": [
        "# Try Option 2 without iloc\n",
        "df_index[0][0]"
      ]
    },
    {
      "cell_type": "markdown",
      "metadata": {},
      "source": [
        "### <a id='toc3_3_4_'></a>[⚠️ WARNING: Changing values in DataFrames ⚠️ (🔰)](#toc0_)"
      ]
    },
    {
      "cell_type": "code",
      "execution_count": null,
      "metadata": {},
      "outputs": [],
      "source": [
        "# Get beatles names\n",
        "new_beatles = beatles_df['name']\n",
        "new_beatles"
      ]
    },
    {
      "cell_type": "code",
      "execution_count": null,
      "metadata": {},
      "outputs": [],
      "source": [
        "# Steal Hanif's place in the band\n",
        "new_beatles[4] = 'sabina'\n",
        "new_beatles"
      ]
    },
    {
      "cell_type": "code",
      "execution_count": null,
      "metadata": {},
      "outputs": [],
      "source": [
        "beatles_df"
      ]
    },
    {
      "cell_type": "code",
      "execution_count": null,
      "metadata": {},
      "outputs": [],
      "source": [
        "# Use .copy() instead\n",
        "new_beatles_df = beatles_df.copy()\n",
        "new_beatles_series = new_beatles_df['name']\n",
        "new_beatles_series[4] = 'Hanif Kantor'\n",
        "new_beatles_df"
      ]
    },
    {
      "cell_type": "code",
      "execution_count": null,
      "metadata": {},
      "outputs": [],
      "source": [
        "beatles_df"
      ]
    },
    {
      "cell_type": "markdown",
      "metadata": {},
      "source": [
        "\n",
        "---\n",
        "## <a id='toc3_4_'></a>[More DataFrame Methods](#toc0_)\n",
        "\n",
        "\n",
        "Let's see some useful methods of the Dataframe class."
      ]
    },
    {
      "cell_type": "markdown",
      "metadata": {},
      "source": [
        "### <a id='toc3_4_1_'></a>[`shape`](#toc0_)\n",
        "\n",
        "`shape` is a Pandas attribute that returns a tuple representing the dimensions of a DataFrame or Series, indicating the number of rows and columns, while `shape()` is not a valid function in Pandas, and attempting to call it will result in an AttributeError."
      ]
    },
    {
      "cell_type": "code",
      "execution_count": null,
      "metadata": {},
      "outputs": [],
      "source": [
        "titanic_df.shape"
      ]
    },
    {
      "cell_type": "code",
      "execution_count": null,
      "metadata": {},
      "outputs": [],
      "source": [
        "# No of cols\n",
        "titanic_df.shape[1]"
      ]
    },
    {
      "cell_type": "code",
      "execution_count": null,
      "metadata": {},
      "outputs": [],
      "source": [
        "# No of rows\n",
        "titanic_df.shape[0]"
      ]
    },
    {
      "cell_type": "markdown",
      "metadata": {},
      "source": [
        "### <a id='toc3_4_3_'></a>[`info()`](#toc0_)\n",
        "\n",
        "`info()` is a Pandas method that provides a concise summary of a DataFrame, including information about the data types, non-null values, and memory usage."
      ]
    },
    {
      "cell_type": "code",
      "execution_count": null,
      "metadata": {},
      "outputs": [],
      "source": [
        "titanic_df.info()"
      ]
    },
    {
      "cell_type": "markdown",
      "metadata": {},
      "source": [
        "### <a id='toc3_4_2_'></a>[`describe()`](#toc0_)\n",
        "\n",
        "`describe()` is a Pandas method that generates descriptive statistics of a DataFrame, providing information on count, mean, standard deviation, minimum, maximum, and quartiles for each numerical column."
      ]
    },
    {
      "cell_type": "code",
      "execution_count": null,
      "metadata": {},
      "outputs": [],
      "source": [
        "titanic_df.describe() # By default looks only at numerical data"
      ]
    },
    {
      "cell_type": "code",
      "execution_count": null,
      "metadata": {},
      "outputs": [],
      "source": [
        "titanic_df.describe(include=\"object\")"
      ]
    },
    {
      "cell_type": "code",
      "execution_count": null,
      "metadata": {},
      "outputs": [],
      "source": [
        "titanic_df.describe(include=\"all\")"
      ]
    },
    {
      "cell_type": "markdown",
      "metadata": {},
      "source": [
        "### <a id='toc3_4_4_'></a>[`nunique() and unique()`](#toc0_)\n",
        "\n",
        "`nunique()` is a Pandas function that returns the number of unique elements in a Series or DataFrame, while `unique()` returns an array of unique elements in a Series or DataFrame."
      ]
    },
    {
      "cell_type": "code",
      "execution_count": null,
      "metadata": {},
      "outputs": [],
      "source": [
        "titanic_df.nunique() #number of unique values per column"
      ]
    },
    {
      "cell_type": "code",
      "execution_count": null,
      "metadata": {},
      "outputs": [],
      "source": [
        "#see unique values of one column\n",
        "titanic_df.Pclass.unique()"
      ]
    },
    {
      "cell_type": "markdown",
      "metadata": {},
      "source": [
        "### <a id='toc3_4_5_'></a>[`dtypes`](#toc0_)"
      ]
    },
    {
      "cell_type": "markdown",
      "metadata": {},
      "source": [
        "`dtypes` is a Pandas attribute that returns the data types of each column in a DataFrame, while `dtype` is a method that returns the data type of a single element in a Series or DataFrame."
      ]
    },
    {
      "cell_type": "code",
      "execution_count": null,
      "metadata": {},
      "outputs": [],
      "source": [
        "titanic_df.dtypes"
      ]
    },
    {
      "cell_type": "markdown",
      "metadata": {},
      "source": [
        "### <a id='toc3_4_6_'></a>[`select_dtypes()`](#toc0_)"
      ]
    },
    {
      "cell_type": "markdown",
      "metadata": {},
      "source": [
        "`select_dtypes()` is a pandas function used to filter columns in a DataFrame based on their data types. It allows you to select numeric, object (string), boolean, datetime, or categorical columns.\n",
        "\n",
        "Syntax:\n",
        "```python\n",
        "DataFrame.select_dtypes(include=None, exclude=None)\n",
        "```\n",
        "\n",
        "- `include`: A list of data types or strings representing data types to include in the selection. If specified, only columns with these data types will be included.\n",
        "- `exclude`: A list of data types or strings representing data types to exclude from the selection. If specified, columns with these data types will be excluded.\n",
        "\n",
        "Example:\n",
        "```python\n",
        "# Assuming df is a DataFrame\n",
        "numeric_columns = df.select_dtypes(include='number')\n",
        "object_columns = df.select_dtypes(include='object')\n",
        "```\n",
        "\n"
      ]
    },
    {
      "cell_type": "code",
      "execution_count": null,
      "metadata": {},
      "outputs": [],
      "source": [
        "titanic_df.select_dtypes(include='number').head()"
      ]
    },
    {
      "cell_type": "markdown",
      "metadata": {},
      "source": [
        "### <a id='toc3_4_7_'></a>[Aggregation such as `max()`](#toc0_)"
      ]
    },
    {
      "cell_type": "code",
      "execution_count": null,
      "metadata": {},
      "outputs": [],
      "source": [
        "titanic_df.select_dtypes(include='number').max() #get the max for each numerical column in the df"
      ]
    },
    {
      "cell_type": "code",
      "execution_count": null,
      "metadata": {},
      "outputs": [],
      "source": [
        "titanic_df.Fare.max() #get the max for one numerical column"
      ]
    },
    {
      "cell_type": "markdown",
      "metadata": {},
      "source": [
        " Just like `max()`, there are many methods that can be applied to either the entire dataframe or its individual columns."
      ]
    },
    {
      "cell_type": "markdown",
      "metadata": {},
      "source": [
        "## <a id='toc3_5_'></a>[💡 Check for understanding](#toc0_)"
      ]
    },
    {
      "cell_type": "markdown",
      "metadata": {},
      "source": [
        "- a. Use the original titanic_df\n",
        "- b. Select the `Sex` and `Fare` columns.\n",
        "- c. Indicate how many different types of `Sex` there are.\n",
        "- d. Indicate how many `Sex` of each type there are.\n",
        "- e. Show a statistical summary of all the variables.\n",
        "- f. Write some conclusions"
      ]
    },
    {
      "cell_type": "code",
      "execution_count": 146,
      "metadata": {},
      "outputs": [],
      "source": [
        "# Your code here"
      ]
    },
    {
      "cell_type": "markdown",
      "metadata": {},
      "source": [
        "### <a id='toc4_3_1_'></a>[`concat()`](#toc0_)"
      ]
    },
    {
      "cell_type": "markdown",
      "metadata": {},
      "source": [
        "`concat()` is a pandas function used to concatenate and combine DataFrames along a specified axis, either vertically (rows, or axis 0):"
      ]
    },
    {
      "cell_type": "code",
      "execution_count": 147,
      "metadata": {},
      "outputs": [],
      "source": [
        "missing_passenger_data = {\n",
        "    'PassengerId': 4,\n",
        "    'Survived': 0,\n",
        "    'Pclass': 3,\n",
        "    'Name': 'Mary Johnson',\n",
        "    'Sex': 'female',\n",
        "    'Age': None,          # Missing age\n",
        "    'SibSp': 0,\n",
        "    'Parch': 0,\n",
        "    'Ticket': 'STON/O2. 3101283',\n",
        "    'Fare': None,         # Missing fare\n",
        "    'Cabin': None,        # Missing cabin\n",
        "    'Embarked': 'S'\n",
        "}"
      ]
    },
    {
      "cell_type": "code",
      "execution_count": null,
      "metadata": {},
      "outputs": [],
      "source": [
        "# Convert to DataFrame directly\n",
        "missing_passenger = pd.DataFrame(missing_passenger_data)"
      ]
    },
    {
      "cell_type": "code",
      "execution_count": null,
      "metadata": {},
      "outputs": [],
      "source": [
        "# Convert to DataFrame via list\n",
        "missing_passenger = pd.DataFrame([missing_passenger_data])\n",
        "missing_passenger"
      ]
    },
    {
      "cell_type": "code",
      "execution_count": null,
      "metadata": {},
      "outputs": [],
      "source": [
        "# Check shape before and after appending\n",
        "print(titanic_df.shape)\n",
        "titanic_df = pd.concat([titanic_df, missing_passenger], axis=0)\n",
        "print(titanic_df.shape)"
      ]
    },
    {
      "cell_type": "markdown",
      "metadata": {},
      "source": [
        "or horizontally (columns, or axis 1):"
      ]
    },
    {
      "cell_type": "code",
      "execution_count": null,
      "metadata": {},
      "outputs": [],
      "source": [
        "# New column with First Name as a Series with index aligned to the DataFram\n",
        "# This would usually come from a separate place but this time we are creating it\n",
        "first_name_col = titanic_df['Name'].apply(lambda name: name.split(\" \")[0].replace(\",\", \"\"))\n",
        "first_name_col"
      ]
    },
    {
      "cell_type": "code",
      "execution_count": null,
      "metadata": {},
      "outputs": [],
      "source": [
        "# Check shape before and after appending\n",
        "print(titanic_df.shape)\n",
        "titanic_df = pd.concat([titanic_df, first_name_col], axis=1)\n",
        "print(titanic_df.shape)"
      ]
    },
    {
      "cell_type": "markdown",
      "metadata": {},
      "source": [
        "By default `concat` keeps the original indexes. It does not restart the index by default, unless we specify `ignore_index=True`."
      ]
    },
    {
      "cell_type": "code",
      "execution_count": null,
      "metadata": {},
      "outputs": [],
      "source": [
        "titanic_df.loc[0] # we see we have two elements for index 0"
      ]
    },
    {
      "cell_type": "code",
      "execution_count": null,
      "metadata": {},
      "outputs": [],
      "source": [
        "titanic_df_new_idx = pd.concat([titanic_df, missing_passenger],ignore_index=True)\n",
        "titanic_df_new_idx"
      ]
    },
    {
      "cell_type": "markdown",
      "metadata": {},
      "source": [
        "### `set_index()`"
      ]
    },
    {
      "cell_type": "code",
      "execution_count": null,
      "metadata": {},
      "outputs": [],
      "source": [
        "# What column makes most sense as an index?\n",
        "titanic_df.set_index('PassengerId')\n",
        "titanic_df.head()"
      ]
    },
    {
      "cell_type": "markdown",
      "metadata": {},
      "source": [
        "### <a id='toc4_3_2_'></a>[`sort_values() and sort_index()`](#toc0_)\n",
        "\n",
        "`sort_values()` is a pandas DataFrame method that sorts the DataFrame based on specified column(s), while `sort_index()` sorts the DataFrame based on its index labels."
      ]
    },
    {
      "cell_type": "code",
      "execution_count": null,
      "metadata": {},
      "outputs": [],
      "source": [
        "# Quickly review the dataframe\n",
        "titanic_df.head()"
      ]
    },
    {
      "cell_type": "code",
      "execution_count": null,
      "metadata": {},
      "outputs": [],
      "source": [
        "# sort by age\n",
        "titanic_df.sort_values(by='Age')"
      ]
    },
    {
      "cell_type": "code",
      "execution_count": null,
      "metadata": {},
      "outputs": [],
      "source": [
        "# sort by fare\n",
        "titanic_df.sort_values(by='Fare')"
      ]
    },
    {
      "cell_type": "code",
      "execution_count": null,
      "metadata": {},
      "outputs": [],
      "source": [
        "# Sort descending by fare\n",
        "titanic_df.sort_values(by=\"Fare\", ascending=False) #to change the ordering type"
      ]
    },
    {
      "cell_type": "code",
      "execution_count": null,
      "metadata": {},
      "outputs": [],
      "source": [
        "# Sort by index\n",
        "titanic_df.sort_index(ascending=False)"
      ]
    },
    {
      "cell_type": "markdown",
      "metadata": {},
      "source": [
        "Sort index or sort values does not change the series.\n",
        "We can either save it again in the variable or we can use a paremeter\n",
        "called **inplace**."
      ]
    },
    {
      "cell_type": "code",
      "execution_count": null,
      "metadata": {},
      "outputs": [],
      "source": [
        "# Check if we changed the df\n",
        "titanic_df.head() "
      ]
    },
    {
      "cell_type": "code",
      "execution_count": null,
      "metadata": {},
      "outputs": [],
      "source": [
        "# Change the df\n",
        "titanic_df.sort_index(ascending=False, inplace=True)\n",
        "\n",
        "# equivalent: titanic_df = titanic_df.sort_index(ascending=False)"
      ]
    },
    {
      "cell_type": "code",
      "execution_count": null,
      "metadata": {},
      "outputs": [],
      "source": [
        "titanic_df.head() # the series has changed because we used 'inplace=True'"
      ]
    },
    {
      "cell_type": "markdown",
      "metadata": {},
      "source": [
        "---\n",
        "# <a id='toc4_'></a>[Series in Pandas](#toc0_)\n",
        "\n",
        "`Series` are the basic component of a dataframe and is designed to store homogenous multivariable data, i.e. data of the same type, be it int, string, float, or datetime. It can be created from lists, dictionaries, or directly read from a file, similarly to dataframes.\n",
        "\n",
        "## <a id='toc4_1_'></a>[Creating Series](#toc0_)\n"
      ]
    },
    {
      "cell_type": "markdown",
      "metadata": {},
      "source": [
        "### <a id='toc4_1_1_'></a>[From a list](#toc0_)"
      ]
    },
    {
      "cell_type": "markdown",
      "metadata": {
        "id": "1VnmKYddSOPT"
      },
      "source": [
        "Create a Series with default indexes from a list"
      ]
    },
    {
      "cell_type": "code",
      "execution_count": null,
      "metadata": {},
      "outputs": [],
      "source": [
        "beatles = [\"John Lennon\", \"Paul McCartney\", \"George Harrison\", \"Ringo Starr\", \"Hanif Kantor\"]\n",
        "\n",
        "# Create pandas series\n",
        "beatles_series = pd.Series(beatles)\n",
        "beatles_series"
      ]
    },
    {
      "cell_type": "code",
      "execution_count": null,
      "metadata": {
        "id": "_PpD61-4SOPU",
        "tags": []
      },
      "outputs": [],
      "source": [
        "type(beatles_series) #but careful, its still a pandas series"
      ]
    },
    {
      "cell_type": "code",
      "execution_count": null,
      "metadata": {
        "id": "bRDLizA9SOPU"
      },
      "outputs": [],
      "source": [
        "beatles_series.dtype #this gives me the type of the elements inside the series\n",
        "# this is an attribute (remember our lesson about classes)"
      ]
    },
    {
      "cell_type": "markdown",
      "metadata": {},
      "source": [
        "We can also have numbers in the series:"
      ]
    },
    {
      "cell_type": "code",
      "execution_count": null,
      "metadata": {},
      "outputs": [],
      "source": [
        "num_fans = [9000, 2400, 2000, \"1600\", 15]\n",
        "\n",
        "# Create series\n",
        "beatles_fans_series = pd.Series(num_fans)\n",
        "beatles_fans_series"
      ]
    },
    {
      "cell_type": "code",
      "execution_count": null,
      "metadata": {},
      "outputs": [],
      "source": [
        "# Remember... all Python functions are case-sensitive:\n",
        "beatles_fans_series = pd.series(num_fans)"
      ]
    },
    {
      "cell_type": "code",
      "execution_count": null,
      "metadata": {},
      "outputs": [],
      "source": [
        "# Correct series\n",
        "beatles_fans_series = pd.series(num_fans)"
      ]
    },
    {
      "cell_type": "code",
      "execution_count": null,
      "metadata": {},
      "outputs": [],
      "source": [
        "# Series data type\n",
        "type(beatles_series)"
      ]
    },
    {
      "cell_type": "code",
      "execution_count": null,
      "metadata": {},
      "outputs": [],
      "source": [
        "# Type of data inside the series - with and without print\n",
        "beatles_fans_series.dtype"
      ]
    },
    {
      "cell_type": "markdown",
      "metadata": {},
      "source": [
        "No need to worry about the number after `int`, it simply represents how many digits the number can store, in this case 64-bits. If you're curious about how these bits work (i.e. go down a rabbit hole), you can <a href=\"https://www.freecodecamp.org/learn/data-analysis-with-python/data-analysis-with-python-course/numpy-introduction-a\">have a look at this video</a> from the FreeCodeCamp Data Analysis certification."
      ]
    },
    {
      "cell_type": "markdown",
      "metadata": {
        "id": "XKTDghk5SOPU"
      },
      "source": [
        "The `Series` have two attributes:` values` and `index`. The first is a `numpy array` that stores the data, and the second is an object that contains the indexes."
      ]
    },
    {
      "cell_type": "code",
      "execution_count": null,
      "metadata": {
        "id": "35NaJi4lSOPU"
      },
      "outputs": [],
      "source": [
        "beatles_series.values"
      ]
    },
    {
      "cell_type": "code",
      "execution_count": null,
      "metadata": {
        "id": "ZJ6useAeSOPU"
      },
      "outputs": [],
      "source": [
        "beatles_series.index"
      ]
    },
    {
      "cell_type": "markdown",
      "metadata": {
        "id": "jGGjwJpeSOPV"
      },
      "source": [
        "In Pandas, `Series.items()` is a method used to iterate over the elements of a Pandas Series. It returns an iterator that yields the index-label and corresponding value pairs of the Series."
      ]
    },
    {
      "cell_type": "code",
      "execution_count": null,
      "metadata": {
        "id": "gZs0m3OkSOPV"
      },
      "outputs": [],
      "source": [
        "#items has tuples (index,value) so i need to iterate with two variables\n",
        "# if i want the values separated, if not, i get the tuple in each\n",
        "# iteration\n",
        "for i in beatles_series.items() :\n",
        "    print(i)"
      ]
    },
    {
      "cell_type": "code",
      "execution_count": null,
      "metadata": {},
      "outputs": [],
      "source": [
        "for i, v in beatles_series.items() :\n",
        "    print(\"index \", i)\n",
        "    print(\"value \", v)"
      ]
    },
    {
      "cell_type": "markdown",
      "metadata": {},
      "source": [
        "### <a id='toc4_1_2_'></a>[From a list with index](#toc0_)"
      ]
    },
    {
      "cell_type": "markdown",
      "metadata": {
        "id": "Q84AKLrkSOPV"
      },
      "source": [
        "When creating a `Series`, you can explicitly define an `array` index and pass it as an argument."
      ]
    },
    {
      "cell_type": "markdown",
      "metadata": {
        "id": "mtxxu9riSOPV"
      },
      "source": [
        "\n",
        "Creating series with defined indexes"
      ]
    },
    {
      "cell_type": "code",
      "execution_count": null,
      "metadata": {},
      "outputs": [],
      "source": [
        "beatles = [\"John Lennon\", \"Paul McCartney\", \"George Harrison\", \"Ringo Starr\", \"Hanif Kantor\"]\n",
        "num_fans = [9000, 2400, 2000, 1600, 15]\n",
        "\n",
        "# Create series\n",
        "beatles_fans_series = pd.Series(num_fans, index=beatles)\n",
        "beatles_fans_series"
      ]
    },
    {
      "cell_type": "markdown",
      "metadata": {},
      "source": [
        "### <a id='toc4_1_3_'></a>[From a dictionary](#toc0_)"
      ]
    },
    {
      "cell_type": "code",
      "execution_count": 49,
      "metadata": {
        "id": "-JfF8HLjSOPX"
      },
      "outputs": [],
      "source": [
        "# I could do a Beatles fans dict manually\n",
        "beatles_fans = {\n",
        "    \"John Lennon\": 9000, \n",
        "    \"Paul McCartney\": 2400,\n",
        "    \"George Harrison\": 2000,\n",
        "    \"Ringo Starr\": 1600,\n",
        "    \"Hanif Kantor\": 15,\n",
        "    }\n",
        "\n",
        "beatles_fans_series = pd.Series(beatles_fans)\n",
        "beatles_fans_series"
      ]
    },
    {
      "cell_type": "code",
      "execution_count": null,
      "metadata": {},
      "outputs": [],
      "source": [
        "# Or I could use a dict comprehension # Zip function connects the 2 lists along the same index\n",
        "beatles_fans = {beatle: num_fans for beatle, num_fans in zip(beatles, num_fans)}\n",
        "beatles_fans"
      ]
    },
    {
      "cell_type": "markdown",
      "metadata": {},
      "source": [
        "### <a id='toc4_1_4_'></a>[From a file](#toc0_)\n",
        "\n",
        "`read_csv()` is a Pandas function used to read data from a CSV file and create a DataFrame.\n",
        "\n",
        "When assigning one column in the parameter `usecols` and then calling the method `squeeze(\"columns\")`, the result is a Series instead of a Dataframe"
      ]
    },
    {
      "cell_type": "code",
      "execution_count": null,
      "metadata": {},
      "outputs": [],
      "source": [
        "# Load Titanic dataset from an online source\n",
        "url = 'https://raw.githubusercontent.com/data-bootcamp-v4/data/main/titanic_train.csv'\n",
        "titanic_series = pd.read_csv(url, usecols=[\"Name\"]).squeeze(\"columns\")"
      ]
    },
    {
      "cell_type": "markdown",
      "metadata": {},
      "source": [
        "\n",
        "\n",
        "---\n",
        "## <a id='toc4_2_'></a>[Data access in Series](#toc0_)\n"
      ]
    },
    {
      "cell_type": "markdown",
      "metadata": {
        "id": "rIy-sHoISOPX"
      },
      "source": [
        "Data access in Pandas can be achieved through either the categorical index or the internally generated numerical index."
      ]
    },
    {
      "cell_type": "markdown",
      "metadata": {},
      "source": [
        "### <a id='toc4_2_2_'></a>[Using the index label:](#toc0_)"
      ]
    },
    {
      "cell_type": "code",
      "execution_count": null,
      "metadata": {},
      "outputs": [],
      "source": [
        "beatles_fans_series['Hanif Kantor']"
      ]
    },
    {
      "cell_type": "markdown",
      "metadata": {},
      "source": [
        "### <a id='toc4_2_1_'></a>[Using Pandas internal index:](#toc0_)"
      ]
    },
    {
      "cell_type": "code",
      "execution_count": null,
      "metadata": {},
      "outputs": [],
      "source": [
        "# One element\n",
        "beatles_fans_series[0]"
      ]
    },
    {
      "cell_type": "code",
      "execution_count": null,
      "metadata": {},
      "outputs": [],
      "source": [
        "# Multiple elements slicing\n",
        "beatles_fans_series[1:4]"
      ]
    },
    {
      "cell_type": "code",
      "execution_count": null,
      "metadata": {},
      "outputs": [],
      "source": [
        "# 1: - all from one \n",
        "beatles_fans_series[1:]"
      ]
    },
    {
      "cell_type": "code",
      "execution_count": null,
      "metadata": {},
      "outputs": [],
      "source": [
        "# [1:5:2] - odd indexes\n",
        "beatles_fans_series[1:5:2]"
      ]
    },
    {
      "cell_type": "code",
      "execution_count": null,
      "metadata": {},
      "outputs": [],
      "source": [
        "# [::-1] - reversed\n",
        "beatles_fans_series[::-1]"
      ]
    },
    {
      "cell_type": "markdown",
      "metadata": {},
      "source": [
        "\n",
        "\n",
        "---\n",
        "## <a id='toc4_3_'></a>[Methods in Series](#toc0_)"
      ]
    },
    {
      "cell_type": "code",
      "execution_count": null,
      "metadata": {},
      "outputs": [],
      "source": [
        "titanic_series"
      ]
    },
    {
      "cell_type": "markdown",
      "metadata": {},
      "source": [
        "Series have many of the same methods as pandas DataFrames:\n",
        "- concat\n",
        "- sort_values\n",
        "- sort_index\n",
        "\n",
        "However, as opposed to DataFrames, they don't require column names or axes to be explicitly mentioned:"
      ]
    },
    {
      "cell_type": "markdown",
      "metadata": {},
      "source": [
        "### `concat()`"
      ]
    },
    {
      "cell_type": "code",
      "execution_count": null,
      "metadata": {},
      "outputs": [],
      "source": [
        "missing_passengers = pd.Series(\n",
        "    [\n",
        "        \"James Bennett\",\n",
        "        \"Eleanor Smith (née Roberts)\",\n",
        "        \"Lillian Grey\",\n",
        "        \"Henry Dawson\",\n",
        "        \"Thomas Wills\",\n",
        "        \"Ada Carter (née Foster)\",\n",
        "        \"Margaret Lane\",\n",
        "        \"Charles Baldwin\",\n",
        "        \"Beatrice Hollins\",\n",
        "        \"Samuel Kline\",\n",
        "    ]\n",
        ")\n",
        "titanic_new_df = pd.concat([titanic_series, missing_passengers])\n",
        "titanic_new_df"
      ]
    },
    {
      "cell_type": "code",
      "execution_count": null,
      "metadata": {},
      "outputs": [],
      "source": [
        "# Try using axis=1\n",
        "titanic_new_df = pd.concat([titanic_series, missing_passengers], axis=1)"
      ]
    },
    {
      "cell_type": "markdown",
      "metadata": {},
      "source": [
        "### `sort_values()`"
      ]
    },
    {
      "cell_type": "code",
      "execution_count": null,
      "metadata": {},
      "outputs": [],
      "source": [
        "titanic_series.sort_values()"
      ]
    },
    {
      "cell_type": "markdown",
      "metadata": {},
      "source": [
        "### `sort_index()`"
      ]
    },
    {
      "cell_type": "code",
      "execution_count": null,
      "metadata": {},
      "outputs": [],
      "source": [
        "titanic_series.sort_index()"
      ]
    },
    {
      "cell_type": "markdown",
      "metadata": {},
      "source": [
        "### <a id='toc4_3_3_'></a>[`value_counts()`](#toc0_)"
      ]
    },
    {
      "cell_type": "markdown",
      "metadata": {
        "id": "H14_HGNmSOPb"
      },
      "source": [
        "`value_counts()` is a Pandas function that returns a Series containing the counts of unique values in a Series or DataFrame."
      ]
    },
    {
      "cell_type": "code",
      "execution_count": null,
      "metadata": {},
      "outputs": [],
      "source": [
        "titanic_series.value_counts()"
      ]
    },
    {
      "cell_type": "markdown",
      "metadata": {},
      "source": [
        "## <a id='toc4_4_'></a>[💡 Check for understanding](#toc0_)"
      ]
    },
    {
      "cell_type": "code",
      "execution_count": null,
      "metadata": {
        "id": "D6i_3CIASOPb"
      },
      "outputs": [],
      "source": [
        "titanic_series"
      ]
    },
    {
      "cell_type": "markdown",
      "metadata": {
        "id": "vWWDlwm7SOPb"
      },
      "source": [
        "1. Get the column \"Embarked\" from the Titanic csv as a Pandas Series\n",
        "2. Print the first value\n",
        "3. Print the last 5 values\n",
        "3. Append \"NA\" to the Series\n",
        "3. Get the number of each Embarked type (number of repeated values)\n",
        "3. Order the Series *descending*, and print the Embarked type most repeated in the Series"
      ]
    },
    {
      "cell_type": "code",
      "execution_count": null,
      "metadata": {},
      "outputs": [],
      "source": [
        "# Your answer here"
      ]
    },
    {
      "cell_type": "markdown",
      "metadata": {},
      "source": [
        "# <a id='toc5_'></a>[Summary](#toc0_)"
      ]
    },
    {
      "cell_type": "markdown",
      "metadata": {},
      "source": [
        "- Pandas is a library designed for working with tabulated and tagged data, making it ideal for handling spreadsheets, SQL tables, and more, built on top of NumPy.\n",
        "- DataFrames and Series are the two main data structures in Pandas.\n",
        "- Series is a one-dimensional array of data with associated labels called the index, while DataFrame is a two-dimensional tabular data structure with labeled rows and columns.\n",
        "- Data access in Series and DataFrame can be achieved using integer-based indexing (iloc), label-based indexing (loc), or dictionary-like notation for column access.\n",
        "- Series and DataFrame have various methods, such as sort_values(), sort_index(), value_counts(), describe(), info(), nunique(), unique(), dtypes, and select_dtypes().\n"
      ]
    },
    {
      "cell_type": "markdown",
      "metadata": {},
      "source": [
        "# <a id='toc6_'></a>[Extra: Creating Dataframes from a Dictionary](#toc0_)"
      ]
    },
    {
      "cell_type": "code",
      "execution_count": null,
      "metadata": {
        "id": "oELQJTYWSOPl"
      },
      "outputs": [],
      "source": [
        "# Create a Dataframe from a dictionary with\n",
        "# automatic indexes\n",
        "\n",
        "d = {\"state\": [\"Ohio\", \"Ohio\", \"California\", \"Nevada\", \"California\"],\n",
        "     \"year\": [2000, 2001, 2002, 2001, 2002],\n",
        "     \"avg\": [1.5, 1.7, 3.6, 2.4, 1.9]\n",
        "}\n",
        "\n",
        "df = pd.DataFrame(d)\n",
        "df"
      ]
    },
    {
      "cell_type": "markdown",
      "metadata": {
        "id": "Kr4sdczzSOPl"
      },
      "source": [
        "\n",
        "DataFrame from a dictionary of lists and indexes"
      ]
    },
    {
      "cell_type": "code",
      "execution_count": null,
      "metadata": {},
      "outputs": [],
      "source": [
        "d_index = {\n",
        "    \"name\": [\"Paula\", \"Mark\"],\n",
        "    \"score\": [98.5, 95]\n",
        "}\n",
        "\n",
        "df_index = pd.DataFrame(d_index, index=[\"123A\", \"789B\"])\n",
        "df_index"
      ]
    },
    {
      "cell_type": "markdown",
      "metadata": {},
      "source": [
        "# <a id='toc7_'></a>[Extra: pickle](#toc0_)"
      ]
    },
    {
      "cell_type": "markdown",
      "metadata": {},
      "source": [
        "Pandas `pickle` function provides a convenient way to save and load Python objects, including DataFrames, to and from disk. Pickling allows you to serialize Python objects into a binary format, making it easy to store large datasets or complex data structures. It's a great tool for saving and restoring your work, especially when dealing with large datasets that might take a long time to process or recreate.\n",
        "\n",
        "## <a id='toc7_1_'></a>[Saving DataFrames with Pickle](#toc0_)\n",
        "\n",
        "You can use the `to_pickle()` method in pandas to save a DataFrame to a pickle file. This method takes the file path as an argument and creates a binary representation of the DataFrame, which is then saved to the specified file."
      ]
    },
    {
      "cell_type": "code",
      "execution_count": null,
      "metadata": {},
      "outputs": [],
      "source": [
        "import pandas as pd\n",
        "\n",
        "# Assuming df is your DataFrame\n",
        "df.to_pickle('data.pkl')"
      ]
    },
    {
      "cell_type": "markdown",
      "metadata": {},
      "source": [
        "## <a id='toc7_2_'></a>[Loading DataFrames from Pickle](#toc0_)\n",
        "\n",
        "To load a DataFrame from a pickle file, you can use the `read_pickle()` function in pandas. This function reads the binary data from the pickle file and converts it back into a DataFrame.\n"
      ]
    },
    {
      "cell_type": "code",
      "execution_count": 73,
      "metadata": {
        "id": "6zJhAdgQSOPm"
      },
      "outputs": [],
      "source": [
        "import pandas as pd\n",
        "\n",
        "# Load DataFrame from pickle file\n",
        "df = pd.read_pickle('data.pkl')"
      ]
    },
    {
      "cell_type": "code",
      "execution_count": null,
      "metadata": {
        "id": "v0AusgnvSOPm"
      },
      "outputs": [],
      "source": [
        "df.head()"
      ]
    }
  ],
  "metadata": {
    "colab": {
      "provenance": []
    },
    "kernelspec": {
      "display_name": "base",
      "language": "python",
      "name": "python3"
    },
    "language_info": {
      "codemirror_mode": {
        "name": "ipython",
        "version": 3
      },
      "file_extension": ".py",
      "mimetype": "text/x-python",
      "name": "python",
      "nbconvert_exporter": "python",
      "pygments_lexer": "ipython3",
      "version": "3.9.13"
    },
    "toc": {
      "base_numbering": 1,
      "nav_menu": {},
      "number_sections": true,
      "sideBar": false,
      "skip_h1_title": false,
      "title_cell": "Table of Contents",
      "title_sidebar": "Contents",
      "toc_cell": true,
      "toc_position": {
        "height": "537.273px",
        "left": "356px",
        "top": "130.994px",
        "width": "285.994px"
      },
      "toc_section_display": true,
      "toc_window_display": true
    }
  },
  "nbformat": 4,
  "nbformat_minor": 0
}
