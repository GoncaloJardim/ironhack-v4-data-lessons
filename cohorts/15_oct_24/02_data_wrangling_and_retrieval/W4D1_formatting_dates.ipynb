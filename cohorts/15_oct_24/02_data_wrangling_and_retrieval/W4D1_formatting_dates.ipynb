{
 "cells": [
  {
   "cell_type": "markdown",
   "metadata": {},
   "source": [
    "**Table of contents**<a id='toc0_'></a>    \n",
    "- [Formatting dates in pandas](#toc1_)    \n",
    "  - [Transforming column dtype to `datetime`](#toc1_1_)    \n",
    "  - [Extracting day, month, year](#toc1_2_)    \n",
    "  - [Extracting weekday, weekend](#toc1_3_)    \n",
    "  - [Converting times](#toc1_4_)    \n",
    "  - [Extracting times](#toc1_5_)    \n",
    "    - [Extra: Create groups - morning, day, night](#toc1_5_1_)    \n",
    "\n",
    "<!-- vscode-jupyter-toc-config\n",
    "\tnumbering=false\n",
    "\tanchor=true\n",
    "\tflat=false\n",
    "\tminLevel=1\n",
    "\tmaxLevel=6\n",
    "\t/vscode-jupyter-toc-config -->\n",
    "<!-- THIS CELL WILL BE REPLACED ON TOC UPDATE. DO NOT WRITE YOUR TEXT IN THIS CELL -->"
   ]
  },
  {
   "cell_type": "markdown",
   "metadata": {},
   "source": [
    "# <a id='toc1_'></a>[Formatting dates in pandas](#toc0_)"
   ]
  },
  {
   "cell_type": "code",
   "execution_count": null,
   "metadata": {},
   "outputs": [],
   "source": [
    "import pandas as pd\n",
    "\n",
    "sales = pd.read_csv(\"https://github.com/data-bootcamp-v4/data/raw/refs/heads/main/supermarket_sales.csv\")\n",
    "sales.head()"
   ]
  },
  {
   "cell_type": "code",
   "execution_count": null,
   "metadata": {},
   "outputs": [],
   "source": [
    "# Review dataframe characteristics\n",
    "sales.info()"
   ]
  },
  {
   "cell_type": "markdown",
   "metadata": {},
   "source": [
    "## <a id='toc1_1_'></a>[Transforming column dtype to `datetime`](#toc0_)"
   ]
  },
  {
   "cell_type": "code",
   "execution_count": null,
   "metadata": {},
   "outputs": [],
   "source": [
    "# Convert Date\n",
    "sales[\"Date\"] = pd.to_datetime(sales[\"Date\"])\n",
    "display(sales.head())\n",
    "sales.info()"
   ]
  },
  {
   "cell_type": "code",
   "execution_count": null,
   "metadata": {},
   "outputs": [],
   "source": [
    "# Convert Time\n",
    "sales[\"Time\"] = pd.to_datetime(sales[\"Time\"])\n",
    "display(sales.head())\n",
    "sales.info()"
   ]
  },
  {
   "cell_type": "markdown",
   "metadata": {},
   "source": [
    "## <a id='toc1_2_'></a>[Extracting day, month, year](#toc0_)"
   ]
  },
  {
   "cell_type": "code",
   "execution_count": null,
   "metadata": {},
   "outputs": [],
   "source": [
    "sales[\"Year\"] = sales[\"Date\"].dt.year\n",
    "sales[\"Month\"] = sales[\"Date\"].dt.month\n",
    "sales[\"Day\"] = sales[\"Date\"].dt.day\n",
    "\n",
    "sales[[\"Date\", \"Day\", \"Month\", \"Year\"]]"
   ]
  },
  {
   "cell_type": "markdown",
   "metadata": {},
   "source": [
    "## <a id='toc1_3_'></a>[Extracting weekday, weekend](#toc0_)"
   ]
  },
  {
   "cell_type": "code",
   "execution_count": null,
   "metadata": {},
   "outputs": [],
   "source": [
    "# Extract weekday\n",
    "sales[\"Weekday\"] = sales[\"Date\"].dt.weekday\n",
    "\n",
    "sales[[\"Date\", \"Weekday\"]].sort_values(\"Date\", ascending=False)"
   ]
  },
  {
   "cell_type": "code",
   "execution_count": null,
   "metadata": {},
   "outputs": [],
   "source": [
    "# Check unique vals\n",
    "sales.Weekday.unique()"
   ]
  },
  {
   "cell_type": "code",
   "execution_count": null,
   "metadata": {},
   "outputs": [],
   "source": [
    "# Extract weekend\n",
    "sales[\"Weekend\"] = sales[\"Weekday\"].apply(lambda x: 1 if x >= 5 else 0)\n",
    "\n",
    "sales[[\"Date\", \"Weekday\", \"Weekend\"]]"
   ]
  },
  {
   "cell_type": "markdown",
   "metadata": {},
   "source": [
    "## <a id='toc1_5_'></a>[Extracting hour, minute](#toc0_)"
   ]
  },
  {
   "cell_type": "code",
   "execution_count": null,
   "metadata": {},
   "outputs": [],
   "source": [
    "sales[\"Hour\"] = sales[\"Time\"].dt.hour\n",
    "sales[\"Minute\"] = sales[\"Time\"].dt.minute\n",
    "\n",
    "sales[[\"Time\", \"Hour\", \"Minute\"]]"
   ]
  },
  {
   "cell_type": "markdown",
   "metadata": {},
   "source": [
    "### <a id='toc1_5_1_'></a>[Extra: Create groups - morning, day, night](#toc0_)"
   ]
  },
  {
   "cell_type": "code",
   "execution_count": null,
   "metadata": {},
   "outputs": [],
   "source": [
    "def get_time_of_day(hour):\n",
    "    if hour < 6:\n",
    "        return \"night\"\n",
    "    elif hour < 12:\n",
    "        return \"morning\"\n",
    "    elif hour < 18:\n",
    "        return \"afternoon\"\n",
    "    else:\n",
    "        return \"evening\"\n",
    "\n",
    "sales[\"time_of_day\"] = sales[\"Hour\"].apply(get_time_of_day)\n",
    "sales[[\"Time\", \"Hour\", \"time_of_day\"]]"
   ]
  }
 ],
 "metadata": {
  "kernelspec": {
   "display_name": "base",
   "language": "python",
   "name": "python3"
  },
  "language_info": {
   "codemirror_mode": {
    "name": "ipython",
    "version": 3
   },
   "file_extension": ".py",
   "mimetype": "text/x-python",
   "name": "python",
   "nbconvert_exporter": "python",
   "pygments_lexer": "ipython3",
   "version": "3.9.13"
  }
 },
 "nbformat": 4,
 "nbformat_minor": 2
}
