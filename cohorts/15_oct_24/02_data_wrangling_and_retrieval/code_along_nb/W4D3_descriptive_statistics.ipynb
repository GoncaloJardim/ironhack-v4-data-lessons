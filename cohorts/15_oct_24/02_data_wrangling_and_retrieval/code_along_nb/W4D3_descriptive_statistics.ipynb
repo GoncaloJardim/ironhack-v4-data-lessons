{
 "cells": [
  {
   "cell_type": "markdown",
   "id": "eb77cd5d",
   "metadata": {},
   "source": [
    "# Descriptive Statistics Notebook\n",
    "\n",
    "## Index\n",
    "\n",
    "1. [Central Location Measures](#Location-Measures)\n",
    "    - Mean\n",
    "    - Median\n",
    "    - Mode\n",
    "\n",
    "2. [Non- central Location Measurres](#Non-Central-Location-Measures)\n",
    "    - Min, max\n",
    "    - Quartiles\n",
    "    - Percentiles\n",
    "\n",
    "3. [Dispersion Measures](#Dispersion-Measures)\n",
    "    - IQR - Inter Quartile Range\n",
    "    - Variance\n",
    "    - Standard Deviation\n",
    "    - Coeficient of Variation\n",
    "    - Advanced - Extra\n"
   ]
  },
  {
   "cell_type": "code",
   "execution_count": 56,
   "metadata": {},
   "outputs": [],
   "source": [
    "# Importing packages\n",
    "\n",
    "import numpy as np\n",
    "import matplotlib.pyplot as plt\n",
    "import pandas as pd"
   ]
  },
  {
   "cell_type": "markdown",
   "id": "ce67e02d",
   "metadata": {},
   "source": [
    "# Central Location Measures"
   ]
  },
  {
   "cell_type": "markdown",
   "id": "46ea885e",
   "metadata": {},
   "source": [
    "## Mean"
   ]
  },
  {
   "cell_type": "code",
   "execution_count": 28,
   "metadata": {
    "colab": {
     "base_uri": "https://localhost:8080/"
    },
    "executionInfo": {
     "elapsed": 2,
     "status": "ok",
     "timestamp": 1714200010839,
     "user": {
      "displayName": "Gonçalo Jardim",
      "userId": "12269190236703436081"
     },
     "user_tz": -60
    },
    "id": "tEnIyrm56s2j",
    "outputId": "4ea976da-60f6-46fc-fe25-968510f1fe4c"
   },
   "outputs": [
    {
     "data": {
      "text/plain": [
       "array([40, 56, 65, 34, 77, 21, 26, 28, 72, 71, 59, 79, 29, 66, 72, 71, 34,\n",
       "       69, 74, 47, 50, 49, 26, 31, 28, 44, 60, 56, 20, 34, 26, 36, 69, 67,\n",
       "       48, 79, 32, 23, 41, 46, 28, 39, 67, 21, 44, 43, 41, 44, 70, 79, 48,\n",
       "       68, 32, 32, 46, 32, 57, 77, 41, 69, 29, 41, 52, 58, 21, 57, 41, 59,\n",
       "       72, 36, 26, 33, 70, 26, 52, 22, 49, 58, 47, 65, 54, 28, 42, 29, 75,\n",
       "       73, 72, 76, 54, 59, 68, 50, 69, 68, 49, 69, 43, 42, 73, 57, 47, 20,\n",
       "       77, 67, 78, 40, 34, 65, 67, 73, 58, 67, 33, 64, 33, 67, 23, 34, 66,\n",
       "       74, 43, 49, 63, 52, 47, 20, 73, 41, 26, 23, 39, 34, 22, 24, 46, 51,\n",
       "       63, 48, 42, 21, 77, 47, 70, 56, 28, 27, 60, 41, 74, 78, 36, 67, 37,\n",
       "       58, 57, 61, 30, 38, 74, 26, 36, 46, 41, 47, 55, 24, 34, 68, 52, 21,\n",
       "       73, 75, 55, 72, 23, 71, 78, 35, 40, 21, 62, 58, 59, 40, 71, 56, 71,\n",
       "       27, 78, 72, 66, 73, 68, 23, 68, 66, 55, 37, 41, 47, 40, 31, 48, 43,\n",
       "       22, 34, 39, 46, 75, 37, 47, 44, 44, 44, 76, 26, 35, 77, 36, 39, 77,\n",
       "       23, 39, 49, 50, 64, 64, 65, 68, 62, 71, 43, 65, 36, 76, 30, 20, 61,\n",
       "       79, 71, 79, 79, 76, 20, 65, 46, 67, 20, 48, 38, 51, 69, 79, 26, 71,\n",
       "       26, 39, 50, 28, 65, 22, 58, 54, 50, 31, 57, 55, 29, 50, 27, 59, 78,\n",
       "       58, 56, 66, 49, 63, 42, 78, 49, 71, 46, 30, 24, 58, 62, 74, 71, 57,\n",
       "       40, 64, 69, 54, 48, 36, 61, 45, 51, 68, 31, 76, 31, 48, 44, 54, 27,\n",
       "       75, 30, 46, 69, 44, 33, 56, 79, 62, 59, 75, 41, 58, 49, 72, 79, 31,\n",
       "       71, 32, 41, 78, 55, 43, 21, 63, 48, 35, 59, 40, 77, 23, 75, 33, 51,\n",
       "       42, 60, 25, 40, 48, 26, 62, 36, 49, 79, 69, 70, 22, 46, 65, 66, 34,\n",
       "       26, 28, 45, 38, 27, 69, 70, 53, 72, 56, 47, 24, 50, 31, 39, 78, 30,\n",
       "       58, 71, 31, 34, 52, 47, 22, 50, 41, 24, 32, 48, 46, 58, 55, 71, 61,\n",
       "       43, 69, 56, 22, 45, 72, 29, 50, 44, 69, 51, 72, 38, 53, 52, 48, 70,\n",
       "       56, 44, 60, 73, 57, 34, 75, 54, 50, 40, 49, 57, 40, 23, 47, 37, 77,\n",
       "       49, 78, 57, 20, 51, 48, 78, 25, 59, 78, 46, 42, 21, 27, 75, 43, 46,\n",
       "       33, 48, 64, 31, 67, 24, 66, 66, 72, 64, 76, 42, 46, 36, 49, 54, 54,\n",
       "       43, 20, 64, 59, 32, 49, 22, 73, 32, 33, 38, 52, 69, 61, 74, 26, 66,\n",
       "       78, 22, 42, 33, 22, 28, 30, 52, 73, 56, 34, 49, 63, 73, 40, 69, 41,\n",
       "       47, 32, 59, 53, 38, 50, 32])"
      ]
     },
     "execution_count": 28,
     "metadata": {},
     "output_type": "execute_result"
    }
   ],
   "source": [
    "dataset = np.random.randint(20,80,size = 500) \n",
    "dataset\n"
   ]
  },
  {
   "cell_type": "code",
   "execution_count": 11,
   "metadata": {
    "colab": {
     "base_uri": "https://localhost:8080/"
    },
    "executionInfo": {
     "elapsed": 245,
     "status": "ok",
     "timestamp": 1714200019605,
     "user": {
      "displayName": "Gonçalo Jardim",
      "userId": "12269190236703436081"
     },
     "user_tz": -60
    },
    "id": "FhF5VHzp63uj",
    "outputId": "81fb62b7-9eb7-45b5-b122-d478422c883d"
   },
   "outputs": [
    {
     "data": {
      "text/plain": [
       "50.592"
      ]
     },
     "execution_count": 11,
     "metadata": {},
     "output_type": "execute_result"
    }
   ],
   "source": [
    "\n",
    "# calculate the mean/average\n",
    "\n",
    "mean_dataset = np.sum(dataset) / len(dataset)\n",
    "mean_dataset\n",
    "\n",
    "\n",
    "# option 2\n",
    "mean_dataset_2 = np.sum(dataset) / dataset.size\n",
    "mean_dataset_2"
   ]
  },
  {
   "cell_type": "code",
   "execution_count": 12,
   "metadata": {},
   "outputs": [
    {
     "data": {
      "text/plain": [
       "True"
      ]
     },
     "execution_count": 12,
     "metadata": {},
     "output_type": "execute_result"
    }
   ],
   "source": [
    "mean_dataset == mean_dataset_2"
   ]
  },
  {
   "cell_type": "markdown",
   "id": "e6b9872d",
   "metadata": {},
   "source": [
    "## Median"
   ]
  },
  {
   "cell_type": "code",
   "execution_count": 17,
   "metadata": {
    "colab": {
     "base_uri": "https://localhost:8080/"
    },
    "executionInfo": {
     "elapsed": 237,
     "status": "ok",
     "timestamp": 1714200040559,
     "user": {
      "displayName": "Gonçalo Jardim",
      "userId": "12269190236703436081"
     },
     "user_tz": -60
    },
    "id": "5hx4RyYB8LdC",
    "outputId": "1ffbf339-a45c-46c4-9bfb-993fbbabc8b3"
   },
   "outputs": [
    {
     "data": {
      "text/plain": [
       "50.0"
      ]
     },
     "execution_count": 17,
     "metadata": {},
     "output_type": "execute_result"
    }
   ],
   "source": [
    "# median -> the central number/ middle value\n",
    "# understand why the median is barely affected by outliers\n",
    "# because outliers only count as \"one more element\" and barely change the center\n",
    "\n",
    "# just assessing one or 2 datapoints\n",
    "np.sort(dataset)[5]\n",
    "np.sort(dataset)[496]\n",
    "\n",
    "\n",
    "# median\n",
    "np.median(dataset)\n"
   ]
  },
  {
   "cell_type": "markdown",
   "id": "894d6d25",
   "metadata": {},
   "source": [
    "## Mode"
   ]
  },
  {
   "cell_type": "code",
   "execution_count": null,
   "metadata": {
    "colab": {
     "base_uri": "https://localhost:8080/"
    },
    "executionInfo": {
     "elapsed": 1094,
     "status": "ok",
     "timestamp": 1714200053134,
     "user": {
      "displayName": "Gonçalo Jardim",
      "userId": "12269190236703436081"
     },
     "user_tz": -60
    },
    "id": "fPayHz2L88yw",
    "outputId": "67dfc9a6-dcd3-47e1-8a58-8ad4f618eb40"
   },
   "outputs": [
    {
     "name": "stderr",
     "output_type": "stream",
     "text": [
      "/var/folders/3c/lj_7n2tn3fqbct6vyfwyj2580000gn/T/ipykernel_79309/3195775193.py:6: FutureWarning: Unlike other reduction functions (e.g. `skew`, `kurtosis`), the default behavior of `mode` typically preserves the axis it acts along. In SciPy 1.11.0, this behavior will change: the default value of `keepdims` will become False, the `axis` over which the statistic is taken will be eliminated, and the value None will no longer be accepted. Set `keepdims` to True or False to avoid this warning.\n",
      "  stats.mode(dataset)\n"
     ]
    },
    {
     "data": {
      "text/plain": [
       "ModeResult(mode=array([70]), count=array([15]))"
      ]
     },
     "execution_count": 18,
     "metadata": {},
     "output_type": "execute_result"
    }
   ],
   "source": [
    "# mode is the most frequent value aka: the one that appears the most\n",
    "# numpy doesnt have an easy mode function\n",
    "# https://www.scipy.org/\n",
    "from scipy import stats\n",
    "\n",
    "stats.mode(dataset)\n",
    "\n",
    "#mode method returns 2 elements -> the mode, and the count of that element\n",
    "\n"
   ]
  },
  {
   "cell_type": "code",
   "execution_count": 20,
   "metadata": {},
   "outputs": [
    {
     "data": {
      "text/plain": [
       "array([20, 20, 20, 20, 20, 20, 21, 21, 21, 21, 21, 21, 22, 22, 22, 22, 22,\n",
       "       22, 22, 22, 22, 22, 22, 23, 23, 23, 23, 23, 23, 23, 23, 23, 23, 24,\n",
       "       24, 24, 24, 24, 24, 25, 25, 25, 25, 25, 25, 25, 25, 26, 26, 26, 26,\n",
       "       26, 26, 27, 27, 27, 27, 27, 27, 28, 28, 28, 28, 28, 28, 28, 28, 29,\n",
       "       29, 29, 29, 29, 29, 29, 29, 29, 30, 30, 30, 30, 30, 30, 30, 30, 30,\n",
       "       31, 31, 31, 31, 32, 32, 32, 32, 32, 32, 32, 33, 33, 33, 33, 33, 33,\n",
       "       34, 34, 34, 34, 34, 34, 34, 34, 35, 35, 35, 35, 36, 36, 36, 36, 36,\n",
       "       36, 36, 36, 36, 36, 36, 36, 37, 37, 37, 37, 37, 37, 37, 37, 38, 38,\n",
       "       38, 38, 38, 38, 39, 39, 39, 39, 39, 39, 39, 39, 39, 39, 39, 40, 40,\n",
       "       40, 40, 40, 40, 40, 40, 41, 41, 41, 41, 41, 41, 41, 41, 41, 41, 42,\n",
       "       42, 42, 42, 42, 42, 43, 43, 43, 43, 43, 43, 43, 43, 43, 43, 43, 43,\n",
       "       44, 44, 44, 44, 44, 44, 44, 44, 44, 45, 45, 45, 45, 45, 45, 45, 45,\n",
       "       45, 45, 45, 45, 45, 46, 46, 46, 46, 46, 46, 46, 46, 46, 46, 46, 46,\n",
       "       47, 47, 47, 47, 47, 47, 47, 47, 48, 48, 48, 48, 48, 48, 48, 48, 48,\n",
       "       48, 49, 49, 49, 49, 49, 49, 49, 50, 50, 50, 50, 50, 50, 50, 51, 51,\n",
       "       51, 51, 51, 51, 51, 51, 51, 51, 52, 52, 52, 52, 52, 52, 52, 53, 53,\n",
       "       53, 53, 53, 53, 53, 53, 54, 54, 54, 54, 54, 54, 54, 54, 55, 55, 55,\n",
       "       55, 55, 55, 55, 56, 56, 56, 56, 56, 56, 56, 56, 56, 57, 57, 57, 57,\n",
       "       57, 57, 57, 57, 57, 57, 58, 58, 58, 58, 58, 58, 59, 59, 59, 59, 59,\n",
       "       59, 59, 59, 59, 59, 59, 60, 60, 60, 61, 61, 61, 61, 61, 62, 62, 62,\n",
       "       62, 62, 62, 62, 63, 63, 63, 63, 63, 63, 63, 63, 64, 64, 64, 64, 64,\n",
       "       64, 64, 64, 64, 65, 65, 65, 65, 65, 65, 65, 66, 66, 66, 66, 66, 67,\n",
       "       67, 67, 67, 67, 67, 67, 67, 67, 68, 68, 68, 68, 68, 68, 68, 68, 68,\n",
       "       68, 68, 69, 69, 69, 69, 69, 69, 69, 70, 70, 70, 70, 70, 70, 70, 70,\n",
       "       70, 70, 70, 70, 70, 70, 70, 71, 71, 71, 71, 71, 71, 71, 71, 72, 72,\n",
       "       72, 72, 72, 72, 72, 72, 72, 72, 73, 73, 73, 73, 73, 73, 73, 74, 74,\n",
       "       74, 74, 74, 74, 74, 74, 74, 74, 74, 74, 75, 75, 75, 75, 75, 75, 75,\n",
       "       76, 76, 76, 76, 76, 76, 76, 76, 76, 76, 76, 77, 77, 77, 77, 77, 77,\n",
       "       77, 77, 77, 77, 77, 77, 78, 78, 78, 78, 78, 78, 78, 78, 78, 78, 79,\n",
       "       79, 79, 79, 79, 79, 79, 79])"
      ]
     },
     "execution_count": 20,
     "metadata": {},
     "output_type": "execute_result"
    }
   ],
   "source": [
    "np.sort(dataset)"
   ]
  },
  {
   "cell_type": "markdown",
   "metadata": {},
   "source": [
    "# Non-Central Location Measures"
   ]
  },
  {
   "cell_type": "markdown",
   "metadata": {},
   "source": [
    "## Min and max"
   ]
  },
  {
   "cell_type": "code",
   "execution_count": 24,
   "metadata": {},
   "outputs": [
    {
     "name": "stdout",
     "output_type": "stream",
     "text": [
      "Min :  20\n",
      "Max :  79\n"
     ]
    }
   ],
   "source": [
    "print(\"Min : \",dataset.min()) # ->> 100% of our datapoints will be equal or above this value\n",
    "\n",
    "print(\"Max : \",dataset.max()) # ->> 0% of our dataset points are above 79 OR 100% of our dataset points are equal or below 79 "
   ]
  },
  {
   "cell_type": "markdown",
   "metadata": {},
   "source": [
    "## Quartiles and percentiles"
   ]
  },
  {
   "cell_type": "code",
   "execution_count": null,
   "metadata": {},
   "outputs": [
    {
     "name": "stdout",
     "output_type": "stream",
     "text": [
      "36.0 50.0 67.0\n"
     ]
    }
   ],
   "source": [
    "# calculated the lower quartile -> the position where 25% of my data \"has passed\"\n",
    "\n",
    "q1 = np.quantile(np.sort(dataset), 0.25)\n",
    "q2 = np.quantile(dataset, 0.50)\n",
    "q3 = np.quantile(dataset, 0.75)\n",
    "\n",
    "\n",
    "print(q1, q2, q3)"
   ]
  },
  {
   "cell_type": "code",
   "execution_count": 31,
   "metadata": {},
   "outputs": [
    {
     "data": {
      "text/plain": [
       "36.0"
      ]
     },
     "execution_count": 31,
     "metadata": {},
     "output_type": "execute_result"
    }
   ],
   "source": [
    "np.quantile(dataset, 0.25)\n"
   ]
  },
  {
   "cell_type": "code",
   "execution_count": 32,
   "metadata": {},
   "outputs": [
    {
     "data": {
      "text/plain": [
       "36.0"
      ]
     },
     "execution_count": 32,
     "metadata": {},
     "output_type": "execute_result"
    }
   ],
   "source": [
    "np.quantile(np.sort(dataset), 0.25)"
   ]
  },
  {
   "cell_type": "code",
   "execution_count": null,
   "metadata": {},
   "outputs": [],
   "source": [
    "[1,8, 2, 4, 5, 10]"
   ]
  },
  {
   "cell_type": "code",
   "execution_count": 51,
   "metadata": {},
   "outputs": [
    {
     "data": {
      "image/png": "[encoded data removed]",
      "text/plain": [
       "<Figure size 640x480 with 1 Axes>"
      ]
     },
     "metadata": {},
     "output_type": "display_data"
    }
   ],
   "source": [
    "# plotting histograms allows us to visualize nicely the distribution of our data\n",
    "# this histograms creates \"buckets/boxes\" of values and then places the numbers of the dataset in each box and counts\n",
    "\n",
    "plt.hist(x=dataset, bins= 10)\n",
    "\n",
    "\n",
    "plt.vlines([q1,q2,q3], 0, 60, colors= 'r', label = [q1,q2,q3])\n",
    "plt.show()\n",
    "\n",
    "\n",
    "\n",
    "#plt.hist(dataset, bins = 20, cumulative = True)\n",
    "#plt.hlines([125,250,375],20,85,colors = 'r')\n"
   ]
  },
  {
   "cell_type": "code",
   "execution_count": null,
   "metadata": {},
   "outputs": [
    {
     "data": {
      "text/plain": [
       "<matplotlib.collections.PathCollection at 0x12cf136d0>"
      ]
     },
     "execution_count": 38,
     "metadata": {},
     "output_type": "execute_result"
    },
    {
     "data": {
      "image/png": "[encoded data removed]",
      "text/plain": [
       "<Figure size 640x480 with 1 Axes>"
      ]
     },
     "metadata": {},
     "output_type": "display_data"
    }
   ],
   "source": [
    "plt.scatter( y= [1,2,3,4], x= dataset[:4])§b"
   ]
  },
  {
   "cell_type": "code",
   "execution_count": 53,
   "metadata": {},
   "outputs": [
    {
     "data": {
      "text/plain": [
       "(array([3., 0., 1., 0., 0., 1., 0., 2., 0., 1.]),\n",
       " array([0. , 0.4, 0.8, 1.2, 1.6, 2. , 2.4, 2.8, 3.2, 3.6, 4. ]),\n",
       " <BarContainer object of 10 artists>)"
      ]
     },
     "execution_count": 53,
     "metadata": {},
     "output_type": "execute_result"
    },
    {
     "data": {
      "image/png": "[encoded data removed]",
      "text/plain": [
       "<Figure size 640x480 with 1 Axes>"
      ]
     },
     "metadata": {},
     "output_type": "display_data"
    }
   ],
   "source": [
    "# histogram with categorical values\n",
    "plt.hist(x=['charlotte', 'max', 'lucas', 'tolga', 'borja', 'charlotte', 'charlotte', 'tolga'])"
   ]
  },
  {
   "cell_type": "code",
   "execution_count": null,
   "metadata": {},
   "outputs": [
    {
     "data": {
      "image/png": "[encoded data removed]",
      "text/plain": [
       "<Figure size 640x480 with 1 Axes>"
      ]
     },
     "metadata": {},
     "output_type": "display_data"
    }
   ],
   "source": [
    "# the box plot brings together all this information\n",
    "\n",
    "plt.boxplot(dataset)\n",
    "plt.show()"
   ]
  },
  {
   "cell_type": "code",
   "execution_count": 61,
   "metadata": {},
   "outputs": [
    {
     "data": {
      "text/html": [
       "<div>\n",
       "<style scoped>\n",
       "    .dataframe tbody tr th:only-of-type {\n",
       "        vertical-align: middle;\n",
       "    }\n",
       "\n",
       "    .dataframe tbody tr th {\n",
       "        vertical-align: top;\n",
       "    }\n",
       "\n",
       "    .dataframe thead th {\n",
       "        text-align: right;\n",
       "    }\n",
       "</style>\n",
       "<table border=\"1\" class=\"dataframe\">\n",
       "  <thead>\n",
       "    <tr style=\"text-align: right;\">\n",
       "      <th></th>\n",
       "      <th>Age</th>\n",
       "    </tr>\n",
       "  </thead>\n",
       "  <tbody>\n",
       "    <tr>\n",
       "      <th>0</th>\n",
       "      <td>40</td>\n",
       "    </tr>\n",
       "    <tr>\n",
       "      <th>1</th>\n",
       "      <td>56</td>\n",
       "    </tr>\n",
       "    <tr>\n",
       "      <th>2</th>\n",
       "      <td>65</td>\n",
       "    </tr>\n",
       "    <tr>\n",
       "      <th>3</th>\n",
       "      <td>34</td>\n",
       "    </tr>\n",
       "    <tr>\n",
       "      <th>4</th>\n",
       "      <td>77</td>\n",
       "    </tr>\n",
       "    <tr>\n",
       "      <th>...</th>\n",
       "      <td>...</td>\n",
       "    </tr>\n",
       "    <tr>\n",
       "      <th>495</th>\n",
       "      <td>59</td>\n",
       "    </tr>\n",
       "    <tr>\n",
       "      <th>496</th>\n",
       "      <td>53</td>\n",
       "    </tr>\n",
       "    <tr>\n",
       "      <th>497</th>\n",
       "      <td>38</td>\n",
       "    </tr>\n",
       "    <tr>\n",
       "      <th>498</th>\n",
       "      <td>50</td>\n",
       "    </tr>\n",
       "    <tr>\n",
       "      <th>499</th>\n",
       "      <td>32</td>\n",
       "    </tr>\n",
       "  </tbody>\n",
       "</table>\n",
       "<p>500 rows × 1 columns</p>\n",
       "</div>"
      ],
      "text/plain": [
       "     Age\n",
       "0     40\n",
       "1     56\n",
       "2     65\n",
       "3     34\n",
       "4     77\n",
       "..   ...\n",
       "495   59\n",
       "496   53\n",
       "497   38\n",
       "498   50\n",
       "499   32\n",
       "\n",
       "[500 rows x 1 columns]"
      ]
     },
     "execution_count": 61,
     "metadata": {},
     "output_type": "execute_result"
    }
   ],
   "source": [
    "dataset_age = pd.DataFrame(dataset, columns= ['Age'])\n",
    "\n",
    "dataset_age"
   ]
  },
  {
   "cell_type": "code",
   "execution_count": 62,
   "metadata": {},
   "outputs": [
    {
     "data": {
      "text/plain": [
       "36.0"
      ]
     },
     "execution_count": 62,
     "metadata": {},
     "output_type": "execute_result"
    }
   ],
   "source": [
    "q1_df =np.quantile(dataset_age['Age'], 0.25)\n",
    "q1_df"
   ]
  },
  {
   "cell_type": "code",
   "execution_count": 64,
   "metadata": {},
   "outputs": [
    {
     "data": {
      "image/png": "[encoded data removed]",
      "text/plain": [
       "<Figure size 640x480 with 1 Axes>"
      ]
     },
     "metadata": {},
     "output_type": "display_data"
    }
   ],
   "source": [
    "plt.boxplot(dataset_age['Age'])\n",
    "plt.show()"
   ]
  },
  {
   "cell_type": "markdown",
   "id": "b0cb39e2",
   "metadata": {},
   "source": [
    "# Dispersion Measures"
   ]
  },
  {
   "cell_type": "markdown",
   "metadata": {},
   "source": [
    "## IQR - Inter Quartile Range"
   ]
  },
  {
   "cell_type": "code",
   "execution_count": null,
   "metadata": {},
   "outputs": [
    {
     "name": "stdout",
     "output_type": "stream",
     "text": [
      "36.0\n",
      "67.0\n"
     ]
    },
    {
     "data": {
      "text/plain": [
       "31.0"
      ]
     },
     "execution_count": 66,
     "metadata": {},
     "output_type": "execute_result"
    }
   ],
   "source": [
    "\n",
    "# Interquartile Range\n",
    "\n",
    "# range\n",
    "\n",
    "\n",
    "# what information does the IQR give you about how spread out the data is?\n",
    "# between the upper quartile and the lower quartile lies for sure 50% of the data\n",
    "#it's a measure of how spread out, 50% of the data is?\n",
    "\n",
    "print(q1)\n",
    "print(q3)\n"
   ]
  },
  {
   "cell_type": "code",
   "execution_count": 67,
   "metadata": {},
   "outputs": [
    {
     "data": {
      "text/plain": [
       "31.0"
      ]
     },
     "execution_count": 67,
     "metadata": {},
     "output_type": "execute_result"
    }
   ],
   "source": [
    "iqr = q3 - q1\n",
    "iqr\n"
   ]
  },
  {
   "cell_type": "code",
   "execution_count": 68,
   "metadata": {},
   "outputs": [
    {
     "data": {
      "text/plain": [
       "[-10.5, 113.5]"
      ]
     },
     "execution_count": 68,
     "metadata": {},
     "output_type": "execute_result"
    }
   ],
   "source": [
    "bottom_thresh = q1 - iqr*1.5\n",
    "upper_thresh = q3 + iqr * 1.5\n",
    "[bottom_thresh, upper_thresh]"
   ]
  },
  {
   "cell_type": "code",
   "execution_count": null,
   "metadata": {},
   "outputs": [],
   "source": []
  },
  {
   "cell_type": "markdown",
   "metadata": {},
   "source": [
    "## Variance"
   ]
  },
  {
   "cell_type": "code",
   "execution_count": 72,
   "metadata": {},
   "outputs": [
    {
     "data": {
      "text/plain": [
       "297.002924"
      ]
     },
     "execution_count": 72,
     "metadata": {},
     "output_type": "execute_result"
    }
   ],
   "source": [
    "# mean\n",
    "ds_mean = np.mean(dataset)\n",
    "\n",
    "# variance\n",
    "\n",
    "# we square the differences between the mean and each point\n",
    "squared_differences = np.square( dataset - ds_mean)\n",
    "squared_differences\n",
    "\n",
    "variance = np.sum(squared_differences) / len(dataset)\n",
    "variance"
   ]
  },
  {
   "cell_type": "markdown",
   "metadata": {},
   "source": [
    "## Standard Deviation"
   ]
  },
  {
   "cell_type": "code",
   "execution_count": 76,
   "metadata": {},
   "outputs": [
    {
     "data": {
      "text/plain": [
       "17.233772773249623"
      ]
     },
     "execution_count": 76,
     "metadata": {},
     "output_type": "execute_result"
    }
   ],
   "source": [
    "\n",
    "# is the variance a meaningful indicator? why?\n",
    "# the units of the variance are the square of the units of each elements\n",
    "# makes it hard to relate to the average.\n",
    "# the standard deviation has the correct units compared to each element\n",
    "\n",
    "standard_deviation = np.sqrt(variance)\n",
    "standard_deviation"
   ]
  },
  {
   "cell_type": "code",
   "execution_count": 75,
   "metadata": {},
   "outputs": [
    {
     "data": {
      "text/plain": [
       "50.226"
      ]
     },
     "execution_count": 75,
     "metadata": {},
     "output_type": "execute_result"
    }
   ],
   "source": [
    "np.mean(dataset)"
   ]
  },
  {
   "cell_type": "code",
   "execution_count": null,
   "metadata": {},
   "outputs": [],
   "source": [
    "# On average, or a person in this datast we can expect that the average age to rely in between:\n",
    "\n",
    "[50 - 17 ; 50 + 17] -> [33 ; 67]"
   ]
  },
  {
   "cell_type": "markdown",
   "metadata": {},
   "source": [
    "## Coefficient of Variation"
   ]
  },
  {
   "cell_type": "code",
   "execution_count": null,
   "metadata": {},
   "outputs": [],
   "source": [
    "# coefficient of variation. standard deviation as percentage of mean\n",
    "\n",
    "#big advantage -> this indicator has no units -> its a relative indicator\n",
    "# very useful when comparing the variations of measures with different units\n",
    "\n",
    "#e.g.\n",
    "#webdev cohort std of height = 20 cm\n",
    "#cv_webdev = 35%\n",
    "#data cohort std of ages = 4 years\n",
    "#cv_data = 15%\n",
    "#what has more variation? heights in webdev of ages in data?\n",
    "#based on CV I can say that ages in data, has less variation than heights in webdev\n",
    "\n",
    "\n",
    "\n",
    "# one BIG disadvantage of CV -> non-linear data transformations\n",
    "\n",
    "# these numbers are exactly the same but in two different scales\n",
    "# celsius faranheit scale example  D*(9/5) + 32 = F\n",
    "\n",
    "Celsius =  [0, 10, 20, 30, 40]\n",
    "Fahrenheit =  [32, 50, 68, 86, 104]\n",
    "\n",
    "print(np.std(Celsius)/np.mean(Celsius))\n",
    "print(np.std(Fahrenheit)/np.mean(Fahrenheit))"
   ]
  },
  {
   "cell_type": "code",
   "execution_count": 77,
   "metadata": {},
   "outputs": [
    {
     "data": {
      "text/plain": [
       "0.34312453257774106"
      ]
     },
     "execution_count": 77,
     "metadata": {},
     "output_type": "execute_result"
    }
   ],
   "source": [
    "cv = standard_deviation / np.mean(dataset) \n",
    "cv"
   ]
  },
  {
   "cell_type": "markdown",
   "id": "f75ed14c",
   "metadata": {},
   "source": [
    "### Advanced - Extra"
   ]
  },
  {
   "cell_type": "code",
   "execution_count": null,
   "metadata": {},
   "outputs": [],
   "source": [
    "#ADVANCED: Rankine is to Farenheight what Kelvin is to Celsius (-273.15), which means there is a linear relation between Kelvin and Rankine\n",
    "#(9/5) to be exact\n",
    "Kelvin = [273.15, 283.15, 293.15, 303.15, 313.15]\n",
    "Rankine = [491.67, 509.67, 527.67, 545.67, 563.67]\n",
    "#print(np.divide(np.array(Rankine),np.array(Kelvin)))\n"
   ]
  }
 ],
 "metadata": {
  "colab": {
   "provenance": []
  },
  "kernelspec": {
   "display_name": "Python 3",
   "language": "python",
   "name": "python3"
  },
  "language_info": {
   "codemirror_mode": {
    "name": "ipython",
    "version": 3
   },
   "file_extension": ".py",
   "mimetype": "text/x-python",
   "name": "python",
   "nbconvert_exporter": "python",
   "pygments_lexer": "ipython3",
   "version": "3.8.10"
  }
 },
 "nbformat": 4,
 "nbformat_minor": 0
}
