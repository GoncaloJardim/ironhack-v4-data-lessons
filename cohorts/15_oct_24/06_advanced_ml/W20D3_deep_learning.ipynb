{
  "cells": [
    {
      "cell_type": "markdown",
      "metadata": {
        "id": "EZ4Bdm04sDC2"
      },
      "source": [
        "# A relatively basic approach"
      ]
    },
    {
      "cell_type": "code",
      "execution_count": 1,
      "metadata": {
        "id": "NZlviYWOsCmp"
      },
      "outputs": [],
      "source": [
        "from sklearn.datasets import load_breast_cancer\n",
        "from sklearn.model_selection import train_test_split\n",
        "\n",
        "#I'm using sklearn for NN <- this is not the best implementation, you should use keras/pytorch instead\n",
        "from sklearn.datasets import fetch_openml\n",
        "from sklearn.exceptions import ConvergenceWarning\n",
        "from sklearn.neural_network import MLPClassifier\n",
        "\n",
        "import numpy as np"
      ]
    },
    {
      "cell_type": "code",
      "execution_count": 2,
      "metadata": {
        "id": "fyoDKvhvXK5G"
      },
      "outputs": [],
      "source": [
        "#really, really small dataset for this\n",
        "breast_cancer = load_breast_cancer()\n",
        "X_train, X_test, y_train, y_test = train_test_split(breast_cancer['data'], breast_cancer['target'])"
      ]
    },
    {
      "cell_type": "code",
      "execution_count": 3,
      "metadata": {
        "id": "i4K4zxEYZBwh"
      },
      "outputs": [],
      "source": [
        "from sklearn import preprocessing\n",
        "# applying standardization to my dataset\n",
        "scaler = preprocessing.StandardScaler()\n",
        "X_train = scaler.fit_transform(X_train)\n",
        "X_test = scaler.transform(X_test)"
      ]
    },
    {
      "cell_type": "code",
      "execution_count": 4,
      "metadata": {
        "id": "3O9Jxd5qXOmk"
      },
      "outputs": [],
      "source": [
        "# multi layer perceptron classifier, 2x15 neuron hidden layers, solver = stochastic gradient descent (don't worry about this for now)\n",
        "# verbose -> how much the model \"speaks\" back to us. Very useful to have when learning, very useful to shut up when we know what we are doing\n",
        "# max_iter -> how many \"epochs\" we run, i.e. how many times do we see all the data\n",
        "\n",
        "nn = MLPClassifier(\n",
        "    hidden_layer_sizes= (15,15),\n",
        "    solver='sgd',\n",
        "    verbose=10,\n",
        "    max_iter=200,\n",
        "    random_state=1\n",
        ")"
      ]
    },
    {
      "cell_type": "code",
      "execution_count": null,
      "metadata": {
        "colab": {
          "base_uri": "https://localhost:8080/"
        },
        "id": "LthBoDKyYsSp",
        "outputId": "887e0067-38ec-4c85-de84-f35ac3330a34"
      },
      "outputs": [],
      "source": [
        "nn.fit(X_train, y_train)\n",
        "\n",
        "print(\"Training set score: %f\" % nn.score(X_train, y_train))\n",
        "print(\"Test set score: %f\" % nn.score(X_test, y_test))"
      ]
    },
    {
      "cell_type": "markdown",
      "metadata": {
        "id": "CSdmX_1Bn0wU"
      },
      "source": [
        "# With a more serious library"
      ]
    },
    {
      "cell_type": "code",
      "execution_count": null,
      "metadata": {
        "id": "Ac3ebuGxsrJJ"
      },
      "outputs": [],
      "source": [
        "import numpy as np\n",
        "import pandas as pd\n",
        "import matplotlib.pyplot as plt\n",
        "!pip install tensorflow\n",
        "from tensorflow.keras.models import Sequential\n",
        "from tensorflow.keras.layers import Dense\n",
        "from tensorflow.keras.utils import to_categorical"
      ]
    },
    {
      "cell_type": "code",
      "execution_count": 14,
      "metadata": {
        "id": "9yVruNyF0fBZ"
      },
      "outputs": [],
      "source": [
        "# find mnist here:  https://www.kaggle.com/vikramtiwari/mnist-numpy\n",
        "def load_data(path):\n",
        "    with np.load(path) as f:\n",
        "        x_train, y_train = f['x_train'], f['y_train']\n",
        "        x_test, y_test = f['x_test'], f['y_test']\n",
        "        return (x_train, y_train), (x_test, y_test)\n",
        "\n",
        "(x_train, y_train), (x_test, y_test) = load_data('../05_ml/data/mnist.npz')"
      ]
    },
    {
      "cell_type": "code",
      "execution_count": null,
      "metadata": {
        "colab": {
          "base_uri": "https://localhost:8080/"
        },
        "id": "q2uvgnQHalE3",
        "outputId": "5c3de8d4-a2ba-47a7-a79d-447559b9d734"
      },
      "outputs": [],
      "source": [
        "x_train.shape"
      ]
    },
    {
      "cell_type": "code",
      "execution_count": null,
      "metadata": {
        "colab": {
          "base_uri": "https://localhost:8080/",
          "height": 465
        },
        "id": "NAKf0UMTn7cQ",
        "outputId": "df8d181c-7ae9-4481-9770-d45890b2030c"
      },
      "outputs": [],
      "source": [
        "import matplotlib.pyplot as plt\n",
        "\n",
        "plt.imshow(x_train[1], cmap = 'gray')\n",
        "plt.show()\n",
        "display(y_train[1])\n",
        "display(x_train[1].shape)"
      ]
    },
    {
      "cell_type": "code",
      "execution_count": null,
      "metadata": {
        "colab": {
          "base_uri": "https://localhost:8080/",
          "height": 465
        },
        "id": "JV4I0pZ1olrU",
        "outputId": "d9b8dae7-d6cb-4263-f3f0-a496b4486650"
      },
      "outputs": [],
      "source": [
        "plt.imshow(x_train[2], cmap = 'gray')\n",
        "plt.show()\n",
        "display(y_train[2])\n",
        "display(x_train[2].shape)"
      ]
    },
    {
      "cell_type": "code",
      "execution_count": null,
      "metadata": {
        "colab": {
          "base_uri": "https://localhost:8080/",
          "height": 465
        },
        "id": "jIUOoVkboptf",
        "outputId": "d51f6cc6-1f0e-4d39-898d-41cf8b05db44"
      },
      "outputs": [],
      "source": [
        "plt.imshow(x_test[2], cmap = 'gray')\n",
        "plt.show()\n",
        "display(y_test[2])\n",
        "display(x_test[2].shape)"
      ]
    },
    {
      "cell_type": "code",
      "execution_count": null,
      "metadata": {
        "colab": {
          "base_uri": "https://localhost:8080/",
          "height": 85
        },
        "id": "_mIC4TLXsuAj",
        "outputId": "9270df36-f741-4e14-f7da-b175ba76312a"
      },
      "outputs": [],
      "source": [
        "print(x_train.shape)\n",
        "x_train[1]"
      ]
    },
    {
      "cell_type": "code",
      "execution_count": null,
      "metadata": {
        "colab": {
          "base_uri": "https://localhost:8080/"
        },
        "id": "QvitpHSDbeev",
        "outputId": "81207450-de75-41a8-b74f-e48dcd43f7d2"
      },
      "outputs": [],
      "source": [
        "(60000, 784)"
      ]
    },
    {
      "cell_type": "code",
      "execution_count": 22,
      "metadata": {
        "id": "WDoF2Ksan7hA"
      },
      "outputs": [],
      "source": [
        "# Normalize the images. It works better for backpropagation\n",
        "x_train = (x_train / 255)\n",
        "x_test_original = x_test\n",
        "x_test = (x_test / 255)\n",
        "\n",
        "# Flatten the images. Images are to be input as vector\n",
        "x_train = x_train.reshape((-1, 784))\n",
        "x_test = x_test.reshape((-1, 784))"
      ]
    },
    {
      "cell_type": "code",
      "execution_count": null,
      "metadata": {
        "colab": {
          "base_uri": "https://localhost:8080/"
        },
        "id": "wk2_Umzls0D4",
        "outputId": "4fa1fce4-86e5-4b74-8495-783b1ba2e9d7"
      },
      "outputs": [],
      "source": [
        "print(x_train.shape)\n",
        "x_train[10]"
      ]
    },
    {
      "cell_type": "code",
      "execution_count": null,
      "metadata": {
        "colab": {
          "base_uri": "https://localhost:8080/",
          "height": 235
        },
        "id": "DvW3qGEYIU1r",
        "outputId": "fd0d4cb9-c057-403e-eba3-7a369c81682a"
      },
      "outputs": [],
      "source": [
        "pd.DataFrame(x_train).head()"
      ]
    },
    {
      "cell_type": "code",
      "execution_count": 26,
      "metadata": {
        "colab": {
          "base_uri": "https://localhost:8080/"
        },
        "id": "hjZU2ESGehvr",
        "outputId": "2e0bba36-1f11-4d23-e73e-43db3f601e6e"
      },
      "outputs": [],
      "source": [
        "# Build the model.\n",
        "model = Sequential([ # as far as we know, all networks are sequential\n",
        "  Dense(64, activation='relu', input_shape=(784,)), # 784= 28*28 dense networks means all neurons in one layer are connected to all neuronsof the next layer\n",
        "  Dense(64, activation='relu'),      # choosing relu instead of sigmoid, this is somewhat common\n",
        "  Dense(10, activation='softmax'),   # the softmax actiavation is the last one to compensate for the high volume additions\n",
        "])\n",
        "\n",
        "# Compile the model.\n",
        "model.compile(\n",
        "  optimizer='adam', #here we could use stochastic gradient descent, but adam is a de facto standard\n",
        "  loss='categorical_crossentropy', #this is how we create the original blam to play the blame game\n",
        "  metrics=['accuracy'],\n",
        ")"
      ]
    },
    {
      "cell_type": "code",
      "execution_count": null,
      "metadata": {
        "colab": {
          "base_uri": "https://localhost:8080/"
        },
        "id": "mra6bv58o8tP",
        "outputId": "3acbf896-4112-4f4f-b4fd-b15a9c435569"
      },
      "outputs": [],
      "source": [
        "# Train the model.\n",
        "history = model.fit(\n",
        "  x_train,\n",
        "  to_categorical(y_train), # just to make sure the outputs are not considered numeric (because, ya know, they are numbers...)\n",
        "  epochs=5, # go 5 times through the whole dataset\n",
        "  batch_size=32, # send 32 images at a time before you tweak the network again, to make it faster\n",
        ")"
      ]
    },
    {
      "cell_type": "code",
      "execution_count": null,
      "metadata": {
        "colab": {
          "base_uri": "https://localhost:8080/"
        },
        "id": "al2ApLikefwM",
        "outputId": "24c60758-d070-48f7-9c67-4fdbe7d9e9c7"
      },
      "outputs": [],
      "source": [
        "# Evaluate the model.\n",
        "model.evaluate(\n",
        "  x_test,\n",
        "  to_categorical(y_test)\n",
        ")"
      ]
    },
    {
      "cell_type": "code",
      "execution_count": null,
      "metadata": {
        "colab": {
          "base_uri": "https://localhost:8080/"
        },
        "id": "EvDdwzYPo8wH",
        "outputId": "72036513-a437-497f-ec8e-70517a881a03"
      },
      "outputs": [],
      "source": [
        "# Predict on the first 5 test images.\n",
        "predictions = model.predict(x_test[:5])\n",
        "\n",
        "# Print our model's predictions.\n",
        "print(np.argmax(predictions, axis=1))"
      ]
    },
    {
      "cell_type": "code",
      "execution_count": null,
      "metadata": {
        "colab": {
          "base_uri": "https://localhost:8080/",
          "height": 1000
        },
        "id": "KJJO31CJo8yy",
        "outputId": "bec967b2-fc27-40f2-d605-0334904bdac7"
      },
      "outputs": [],
      "source": [
        "for i in range(5):\n",
        "  plt.imshow(x_test_original[i].reshape(28, 28), cmap = 'gray')\n",
        "  plt.show()"
      ]
    },
    {
      "cell_type": "code",
      "execution_count": null,
      "metadata": {
        "id": "-1JBEhlpfc39"
      },
      "outputs": [],
      "source": []
    },
    {
      "cell_type": "markdown",
      "metadata": {
        "id": "ZjRvnuWBfaZq"
      },
      "source": [
        "# Check errors"
      ]
    },
    {
      "cell_type": "code",
      "execution_count": null,
      "metadata": {
        "colab": {
          "base_uri": "https://localhost:8080/"
        },
        "id": "0_pzhEEnPeL4",
        "outputId": "031e4d6d-c9a1-4d65-dd00-eef76682a101"
      },
      "outputs": [],
      "source": [
        "some_errors = list(map(np.argmax,model.predict(x_test[200:300])))-y_test[200:300]\n",
        "some_errors"
      ]
    },
    {
      "cell_type": "code",
      "execution_count": null,
      "metadata": {
        "colab": {
          "base_uri": "https://localhost:8080/"
        },
        "id": "JkaGstWcQBw0",
        "outputId": "82542218-3177-406f-f07f-07f0da30bd73"
      },
      "outputs": [],
      "source": [
        "list(some_errors).index(-2)"
      ]
    },
    {
      "cell_type": "code",
      "execution_count": null,
      "metadata": {},
      "outputs": [],
      "source": [
        "plt.imshow(x_test_original[47].reshape(28, 28), cmap = 'gray')\n",
        "plt.show()"
      ]
    },
    {
      "cell_type": "code",
      "execution_count": null,
      "metadata": {
        "colab": {
          "base_uri": "https://localhost:8080/"
        },
        "id": "WnlIuvpHLOLo",
        "outputId": "fc06bd5d-0b6a-4c49-8177-c88de24f4b13"
      },
      "outputs": [],
      "source": [
        "model.predict(x_test[:3])"
      ]
    },
    {
      "cell_type": "code",
      "execution_count": null,
      "metadata": {
        "colab": {
          "base_uri": "https://localhost:8080/",
          "height": 430
        },
        "id": "Ia7iIwRKduk8",
        "outputId": "7ab46238-bdc6-4282-c466-454687aa8d40"
      },
      "outputs": [],
      "source": [
        "plt.imshow(x_test_original[247].reshape(28,28), cmap = 'gray')\n",
        "plt.show()"
      ]
    },
    {
      "cell_type": "code",
      "execution_count": null,
      "metadata": {
        "colab": {
          "base_uri": "https://localhost:8080/"
        },
        "id": "2cU5LVOkelE8",
        "outputId": "f968d084-e85d-4fc6-cecd-402b708cce96"
      },
      "outputs": [],
      "source": [
        "y_test[247]"
      ]
    },
    {
      "cell_type": "code",
      "execution_count": null,
      "metadata": {
        "colab": {
          "base_uri": "https://localhost:8080/"
        },
        "id": "MS3tL33eepXY",
        "outputId": "cb2d4051-83ca-4c80-ecd3-7477d34c5c19"
      },
      "outputs": [],
      "source": [
        "np.argmax(model.predict(np.array([x_test[247]])))"
      ]
    },
    {
      "cell_type": "code",
      "execution_count": null,
      "metadata": {
        "id": "tTBhntCX2zh-"
      },
      "outputs": [],
      "source": []
    }
  ],
  "metadata": {
    "colab": {
      "provenance": []
    },
    "kernelspec": {
      "display_name": "Python 3",
      "name": "python3"
    },
    "language_info": {
      "codemirror_mode": {
        "name": "ipython",
        "version": 3
      },
      "file_extension": ".py",
      "mimetype": "text/x-python",
      "name": "python",
      "nbconvert_exporter": "python",
      "pygments_lexer": "ipython3",
      "version": "3.8.10"
    }
  },
  "nbformat": 4,
  "nbformat_minor": 0
}
