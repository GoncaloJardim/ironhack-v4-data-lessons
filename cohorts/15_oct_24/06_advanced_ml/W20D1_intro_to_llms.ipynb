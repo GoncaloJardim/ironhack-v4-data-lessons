{
 "cells": [
  {
   "cell_type": "markdown",
   "id": "dc8bbd15",
   "metadata": {
    "toc": true
   },
   "source": [
    "<h1>Table of Contents<span class=\"tocSkip\"></span></h1>\n",
    "<div class=\"toc\"><ul class=\"toc-item\"><li><span><a href=\"#Working-with-the-GPT-API\" data-toc-modified-id=\"Working-with-the-GPT-API-1\"><span class=\"toc-item-num\">1&nbsp;&nbsp;</span>Working with the GPT API</a></span><ul class=\"toc-item\"><li><span><a href=\"#Getting-an-API-KEY\" data-toc-modified-id=\"Getting-an-API-KEY-1.1\"><span class=\"toc-item-num\">1.1&nbsp;&nbsp;</span>Getting an API KEY</a></span></li><li><span><a href=\"#OpenAI-Python-Package-Installation\" data-toc-modified-id=\"OpenAI-Python-Package-Installation-1.2\"><span class=\"toc-item-num\">1.2&nbsp;&nbsp;</span>OpenAI Python Package Installation</a></span></li><li><span><a href=\"#Chat-Completions-API\" data-toc-modified-id=\"Chat-Completions-API-1.3\"><span class=\"toc-item-num\">1.3&nbsp;&nbsp;</span>Chat Completions API</a></span><ul class=\"toc-item\"><li><span><a href=\"#Chat-completions-response-format\" data-toc-modified-id=\"Chat-completions-response-format-1.3.1\"><span class=\"toc-item-num\">1.3.1&nbsp;&nbsp;</span>Chat completions response format</a></span></li><li><span><a href=\"#Conversation-history\" data-toc-modified-id=\"Conversation-history-1.3.2\"><span class=\"toc-item-num\">1.3.2&nbsp;&nbsp;</span>Conversation history</a></span></li><li><span><a href=\"#Creating-a-basic-conversation-loop\" data-toc-modified-id=\"Creating-a-basic-conversation-loop-1.3.3\"><span class=\"toc-item-num\">1.3.3&nbsp;&nbsp;</span>Creating a basic conversation loop</a></span></li><li><span><a href=\"#Request-parameters\" data-toc-modified-id=\"Request-parameters-1.3.4\"><span class=\"toc-item-num\">1.3.4&nbsp;&nbsp;</span>Request parameters</a></span></li></ul></li><li><span><a href=\"#Using-Chat-Completion-for-non-chat-scenarios\" data-toc-modified-id=\"Using-Chat-Completion-for-non-chat-scenarios-1.4\"><span class=\"toc-item-num\">1.4&nbsp;&nbsp;</span>Using Chat Completion for non-chat scenarios</a></span><ul class=\"toc-item\"><li><span><a href=\"#Sentiment-Analysis\" data-toc-modified-id=\"Sentiment-Analysis-1.4.1\"><span class=\"toc-item-num\">1.4.1&nbsp;&nbsp;</span>Sentiment Analysis</a></span></li><li><span><a href=\"#Language-Translation\" data-toc-modified-id=\"Language-Translation-1.4.2\"><span class=\"toc-item-num\">1.4.2&nbsp;&nbsp;</span>Language Translation</a></span></li></ul></li></ul></li><li><span><a href=\"#Extra:-creating-a-chatbot-with-gradio-for-front-end-UI\" data-toc-modified-id=\"Extra:-creating-a-chatbot-with-gradio-for-front-end-UI-2\"><span class=\"toc-item-num\">2&nbsp;&nbsp;</span>Extra: creating a chatbot with gradio for front-end UI</a></span></li></ul></div>"
   ]
  },
  {
   "cell_type": "markdown",
   "id": "48c60b66-7b38-4e30-a7f0-dc37873d8f13",
   "metadata": {
    "id": "48c60b66-7b38-4e30-a7f0-dc37873d8f13"
   },
   "source": [
    "# Working with the GPT API"
   ]
  },
  {
   "cell_type": "markdown",
   "id": "7429d764-4d64-46f7-acd0-8d627d461db4",
   "metadata": {
    "id": "7429d764-4d64-46f7-acd0-8d627d461db4"
   },
   "source": [
    "## Getting an API KEY"
   ]
  },
  {
   "cell_type": "markdown",
   "id": "5b4bc63a-e1d2-47ff-9e1b-4eddbdcf1976",
   "metadata": {
    "id": "5b4bc63a-e1d2-47ff-9e1b-4eddbdcf1976"
   },
   "source": [
    "The API empowers you with greater control and versatility to work with the GPT model (model inside ChatGPT). It also allows seamless integration with other applications.\n",
    "\n",
    "To access the model through the API, you will need an API key. For this demo, you'll be using your LT's API KEY.\n",
    "\n",
    "*To obtain your own API key, you'll need to create an account and set up billing. You can create your account at https://platform.openai.com/.*"
   ]
  },
  {
   "cell_type": "markdown",
   "id": "9cb399d5-1876-41e5-9116-af97170e786f",
   "metadata": {
    "id": "9cb399d5-1876-41e5-9116-af97170e786f"
   },
   "source": [
    "In this demo, we will read the api key from a txt file. Create a `key.txt` and paste the key your lead teacher gave you in that file.\n",
    "\n",
    "Alternatively, save it as an environment variable and read it as it follows\n",
    "\n",
    "```python\n",
    "import os\n",
    "\n",
    "api_key = os.getenv(\"OPENAI_API_KEY\")\n",
    "```"
   ]
  },
  {
   "cell_type": "code",
   "execution_count": 1,
   "id": "040e7cbb-d253-46c0-a9da-c59fd9209fd0",
   "metadata": {
    "id": "040e7cbb-d253-46c0-a9da-c59fd9209fd0"
   },
   "outputs": [],
   "source": [
    "with open(\"key.txt\", \"r\") as file:\n",
    "    api_key = file.read().strip()\n"
   ]
  },
  {
   "cell_type": "markdown",
   "id": "2705056f-6395-4983-85fc-a56e06a1caff",
   "metadata": {
    "id": "2705056f-6395-4983-85fc-a56e06a1caff"
   },
   "source": [
    "## OpenAI Python Package Installation"
   ]
  },
  {
   "cell_type": "markdown",
   "id": "3fac44c1-7500-4f77-b5b4-0a8f467c669d",
   "metadata": {
    "id": "3fac44c1-7500-4f77-b5b4-0a8f467c669d"
   },
   "source": [
    "To utilize the GPT API, you'll need to have the OpenAI Python package installed.\n",
    "\n",
    "You can easily install it by running the command pip install --upgrade openai. *Adding the --upgrade flag ensures that you have the most up-to-date version, in case you installed openai before, as the GPT API is a recently introduced feature.*"
   ]
  },
  {
   "cell_type": "code",
   "execution_count": 2,
   "id": "ae581f1d-c234-4afb-9040-5545661cae33",
   "metadata": {
    "id": "ae581f1d-c234-4afb-9040-5545661cae33"
   },
   "outputs": [
    {
     "name": "stdout",
     "output_type": "stream",
     "text": [
      "Requirement already satisfied: openai in /Library/Frameworks/Python.framework/Versions/3.8/lib/python3.8/site-packages (1.31.0)\n",
      "Collecting openai\n",
      "  Using cached openai-1.64.0-py3-none-any.whl.metadata (27 kB)\n",
      "Requirement already satisfied: anyio<5,>=3.5.0 in /Library/Frameworks/Python.framework/Versions/3.8/lib/python3.8/site-packages (from openai) (4.0.0)\n",
      "Requirement already satisfied: distro<2,>=1.7.0 in /Library/Frameworks/Python.framework/Versions/3.8/lib/python3.8/site-packages (from openai) (1.9.0)\n",
      "Requirement already satisfied: httpx<1,>=0.23.0 in /Library/Frameworks/Python.framework/Versions/3.8/lib/python3.8/site-packages (from openai) (0.27.2)\n",
      "Collecting jiter<1,>=0.4.0 (from openai)\n",
      "  Downloading jiter-0.8.2-cp38-cp38-macosx_11_0_arm64.whl.metadata (5.2 kB)\n",
      "Requirement already satisfied: pydantic<3,>=1.9.0 in /Library/Frameworks/Python.framework/Versions/3.8/lib/python3.8/site-packages (from openai) (2.3.0)\n",
      "Requirement already satisfied: sniffio in /Library/Frameworks/Python.framework/Versions/3.8/lib/python3.8/site-packages (from openai) (1.3.0)\n",
      "Requirement already satisfied: tqdm>4 in /Library/Frameworks/Python.framework/Versions/3.8/lib/python3.8/site-packages (from openai) (4.66.1)\n",
      "Requirement already satisfied: typing-extensions<5,>=4.11 in /Users/goncalojardim/Library/Python/3.8/lib/python/site-packages (from openai) (4.12.2)\n",
      "Requirement already satisfied: idna>=2.8 in /Library/Frameworks/Python.framework/Versions/3.8/lib/python3.8/site-packages (from anyio<5,>=3.5.0->openai) (3.4)\n",
      "Requirement already satisfied: exceptiongroup>=1.0.2 in /Library/Frameworks/Python.framework/Versions/3.8/lib/python3.8/site-packages (from anyio<5,>=3.5.0->openai) (1.1.3)\n",
      "Requirement already satisfied: certifi in /Library/Frameworks/Python.framework/Versions/3.8/lib/python3.8/site-packages (from httpx<1,>=0.23.0->openai) (2023.7.22)\n",
      "Requirement already satisfied: httpcore==1.* in /Library/Frameworks/Python.framework/Versions/3.8/lib/python3.8/site-packages (from httpx<1,>=0.23.0->openai) (1.0.5)\n",
      "Requirement already satisfied: h11<0.15,>=0.13 in /Library/Frameworks/Python.framework/Versions/3.8/lib/python3.8/site-packages (from httpcore==1.*->httpx<1,>=0.23.0->openai) (0.14.0)\n",
      "Requirement already satisfied: annotated-types>=0.4.0 in /Library/Frameworks/Python.framework/Versions/3.8/lib/python3.8/site-packages (from pydantic<3,>=1.9.0->openai) (0.5.0)\n",
      "Requirement already satisfied: pydantic-core==2.6.3 in /Library/Frameworks/Python.framework/Versions/3.8/lib/python3.8/site-packages (from pydantic<3,>=1.9.0->openai) (2.6.3)\n",
      "Using cached openai-1.64.0-py3-none-any.whl (472 kB)\n",
      "Downloading jiter-0.8.2-cp38-cp38-macosx_11_0_arm64.whl (300 kB)\n",
      "Installing collected packages: jiter, openai\n",
      "  Attempting uninstall: openai\n",
      "    Found existing installation: openai 1.31.0\n",
      "    Uninstalling openai-1.31.0:\n",
      "      Successfully uninstalled openai-1.31.0\n",
      "Successfully installed jiter-0.8.2 openai-1.64.0\n",
      "\n",
      "\u001b[1m[\u001b[0m\u001b[34;49mnotice\u001b[0m\u001b[1;39;49m]\u001b[0m\u001b[39;49m A new release of pip is available: \u001b[0m\u001b[31;49m24.3.1\u001b[0m\u001b[39;49m -> \u001b[0m\u001b[32;49m25.0.1\u001b[0m\n",
      "\u001b[1m[\u001b[0m\u001b[34;49mnotice\u001b[0m\u001b[1;39;49m]\u001b[0m\u001b[39;49m To update, run: \u001b[0m\u001b[32;49mpip install --upgrade pip\u001b[0m\n"
     ]
    }
   ],
   "source": [
    "!pip install --upgrade openai"
   ]
  },
  {
   "cell_type": "code",
   "execution_count": 3,
   "id": "73da737a-e8a0-4784-8493-c5a10c1ba7e6",
   "metadata": {
    "id": "73da737a-e8a0-4784-8493-c5a10c1ba7e6"
   },
   "outputs": [],
   "source": [
    "import openai\n",
    "\n",
    "# load and set our key\n",
    "openai.api_key = api_key"
   ]
  },
  {
   "cell_type": "markdown",
   "id": "45af63c0-b790-4170-99b4-d99f29721a7c",
   "metadata": {
    "id": "45af63c0-b790-4170-99b4-d99f29721a7c"
   },
   "source": [
    "## Chat Completions API\n",
    "\n",
    "To use a GPT model via the OpenAI API, you’ll send a request containing the inputs and your API key, and receive a response containing the model’s output.\n",
    "\n",
    "As of July 2023 there are two main APIs endpoints to work with GPT models.\n",
    "- Completions API endpoint: only for the older legacy models\n",
    "- Chat Completions API endpoint: to access the latest models, gpt-4 and gpt-3.5-turbo."
   ]
  },
  {
   "cell_type": "markdown",
   "id": "2f4c3462-715c-47b0-9ff4-9443958f16ac",
   "metadata": {
    "id": "2f4c3462-715c-47b0-9ff4-9443958f16ac"
   },
   "source": [
    "Chat models in Chat Completions API take as mandatory parameters:\n",
    "- **List of messages as input**\n",
    "- **Model**: we will use gpt-3.5-turbo\n",
    "\n",
    "They return a **model-generated message as output**.\n",
    "\n",
    "An example API call looks as follows:"
   ]
  },
  {
   "cell_type": "code",
   "execution_count": 4,
   "id": "42ce9a9c-78cf-44d4-9fe2-dc1f22e6ee76",
   "metadata": {
    "id": "42ce9a9c-78cf-44d4-9fe2-dc1f22e6ee76"
   },
   "outputs": [],
   "source": [
    "# Use the new API format\n",
    "client = openai.OpenAI(api_key=api_key)\n",
    "\n",
    "\n",
    "response = client.chat.completions.create(\n",
    "    model=\"gpt-3.5-turbo\",\n",
    "    messages=[\n",
    "        {\"role\": \"system\", \"content\": \"You are a famous chef. Share your best cooking tips and tricks.\"},\n",
    "        {\"role\": \"user\", \"content\": \"What are the ingredients for making pancakes?\"}\n",
    "    ]\n",
    ")\n",
    "\n"
   ]
  },
  {
   "cell_type": "markdown",
   "id": "7dacaa46-141f-488b-a062-cdc68e853fb4",
   "metadata": {
    "id": "7dacaa46-141f-488b-a062-cdc68e853fb4"
   },
   "source": [
    "In conversations using the Chat Completion API, each message has a **role (\"system,\" \"user,\" or \"assistant\").** Typically, a conversation starts with a system message to set the assistant's behavior, followed by alternating user and assistant messages.\n",
    "- The system message is optional and can be used to customize the assistant's personality or provide specific instructions\n",
    "- User messages contain requests or comments (prompts)\n",
    "- Assistant messages store previous assistant responses or serve as examples of desired behavior."
   ]
  },
  {
   "cell_type": "markdown",
   "id": "fe9de3c0-f9cf-488f-83e2-2dfa96a92b10",
   "metadata": {
    "id": "fe9de3c0-f9cf-488f-83e2-2dfa96a92b10"
   },
   "source": [
    "### Chat completions response format\n",
    "\n",
    "An example chat completions API response looks as follows:"
   ]
  },
  {
   "cell_type": "code",
   "execution_count": 5,
   "id": "3c1d1665-3e06-45a7-9035-9929b93d3d34",
   "metadata": {
    "id": "3c1d1665-3e06-45a7-9035-9929b93d3d34"
   },
   "outputs": [
    {
     "data": {
      "text/plain": [
       "ChatCompletion(id='chatcmpl-B4uXiIfGxhrsQEZJQiwqcLHvyRiR1', choices=[Choice(finish_reason='stop', index=0, logprobs=None, message=ChatCompletionMessage(content='The basic ingredients needed to make pancakes are:\\n\\n- All-purpose flour\\n- Baking powder\\n- Salt\\n- Sugar\\n- Milk\\n- Eggs\\n- Butter or oil\\n\\nYou can also customize your pancakes by adding ingredients like blueberries, chocolate chips, bananas, or nuts. Remember to have maple syrup, butter, or your favorite pancake toppings on hand as well!', refusal=None, role='assistant', audio=None, function_call=None, tool_calls=None))], created=1740510362, model='gpt-3.5-turbo-0125', object='chat.completion', service_tier='default', system_fingerprint=None, usage=CompletionUsage(completion_tokens=77, prompt_tokens=33, total_tokens=110, completion_tokens_details=CompletionTokensDetails(accepted_prediction_tokens=0, audio_tokens=0, reasoning_tokens=0, rejected_prediction_tokens=0), prompt_tokens_details=PromptTokensDetails(audio_tokens=0, cached_tokens=0)))"
      ]
     },
     "execution_count": 5,
     "metadata": {},
     "output_type": "execute_result"
    }
   ],
   "source": [
    "response"
   ]
  },
  {
   "cell_type": "markdown",
   "id": "bbefb398-23c9-42e7-aed3-e23b96df0a7c",
   "metadata": {
    "id": "bbefb398-23c9-42e7-aed3-e23b96df0a7c"
   },
   "source": [
    "In Python, the assistant’s reply can be extracted with response['choices'][0]['message']['content']."
   ]
  },
  {
   "cell_type": "code",
   "execution_count": 6,
   "id": "7477c92c-8761-4aac-8a5a-c44db8515079",
   "metadata": {
    "id": "7477c92c-8761-4aac-8a5a-c44db8515079"
   },
   "outputs": [
    {
     "name": "stdout",
     "output_type": "stream",
     "text": [
      "The basic ingredients needed to make pancakes are:\n",
      "\n",
      "- All-purpose flour\n",
      "- Baking powder\n",
      "- Salt\n",
      "- Sugar\n",
      "- Milk\n",
      "- Eggs\n",
      "- Butter or oil\n",
      "\n",
      "You can also customize your pancakes by adding ingredients like blueberries, chocolate chips, bananas, or nuts. Remember to have maple syrup, butter, or your favorite pancake toppings on hand as well!\n"
     ]
    }
   ],
   "source": [
    "# Print the AI's response\n",
    "print(response.choices[0].message.content)"
   ]
  },
  {
   "cell_type": "markdown",
   "id": "4a19981b-1908-4184-aab9-fc77a369e143",
   "metadata": {
    "id": "4a19981b-1908-4184-aab9-fc77a369e143"
   },
   "source": [
    "\n",
    "\n",
    "Every response includes a finish_reason. The possible values for finish_reason are:\n",
    "\n",
    "- stop: API returned complete model output.\n",
    "- length: Incomplete model output due to max_tokens parameter or token limit.\n",
    "- content_filter: Omitted content due to a flag from our content filters.\n",
    "- null: API response still in progress or incomplete.\n",
    "\n"
   ]
  },
  {
   "cell_type": "markdown",
   "id": "d3d21189-e888-4f55-b42d-cf7e7b6a2547",
   "metadata": {
    "id": "d3d21189-e888-4f55-b42d-cf7e7b6a2547"
   },
   "source": [
    "### Conversation history"
   ]
  },
  {
   "cell_type": "markdown",
   "id": "72e62b68-2c6d-4825-92dc-4cf79fdcbb26",
   "metadata": {
    "id": "72e62b68-2c6d-4825-92dc-4cf79fdcbb26"
   },
   "source": [
    "Since it recommended Baking Powder, let's ask how much in another prompt:"
   ]
  },
  {
   "cell_type": "code",
   "execution_count": 7,
   "id": "3fa6ffe1-be5d-4217-b1b5-a5c25029db8a",
   "metadata": {
    "id": "3fa6ffe1-be5d-4217-b1b5-a5c25029db8a"
   },
   "outputs": [],
   "source": [
    "response = client.chat.completions.create(\n",
    "  model=\"gpt-3.5-turbo\",\n",
    "  messages=[\n",
    "    {\"role\": \"user\", \"content\": \"How much Baking Powder do you recommend for this recipe?\"}\n",
    "  ]\n",
    ")"
   ]
  },
  {
   "cell_type": "code",
   "execution_count": 8,
   "id": "dd4bf4ca-6025-45a6-96d4-ec14b59dfb3d",
   "metadata": {
    "id": "dd4bf4ca-6025-45a6-96d4-ec14b59dfb3d"
   },
   "outputs": [
    {
     "name": "stdout",
     "output_type": "stream",
     "text": [
      "I apologize, but I need to know the specific recipe you are referring to in order to provide an accurate recommendation for the amount of baking powder needed. Can you please provide more information or the specific recipe you are inquiring about?\n"
     ]
    }
   ],
   "source": [
    "print(response.choices[0].message.content)"
   ]
  },
  {
   "cell_type": "markdown",
   "id": "a4c5f3d8-11d0-49d8-88fd-5b47b2789f9d",
   "metadata": {
    "id": "a4c5f3d8-11d0-49d8-88fd-5b47b2789f9d"
   },
   "source": [
    "We can see that the history was not saved."
   ]
  },
  {
   "cell_type": "markdown",
   "id": "8e85b63e-475b-4330-8c8e-7791074e7dbb",
   "metadata": {
    "id": "8e85b63e-475b-4330-8c8e-7791074e7dbb"
   },
   "source": [
    "**Including conversation history is crucial** when user instructions refer to prior messages. We can do that by sending all the prompts, with its role, in the *messages* parameter."
   ]
  },
  {
   "cell_type": "code",
   "execution_count": 9,
   "id": "d95a8d4d-921e-4331-89a8-3bda3576af06",
   "metadata": {
    "id": "d95a8d4d-921e-4331-89a8-3bda3576af06"
   },
   "outputs": [],
   "source": [
    "response = client.chat.completions.create(\n",
    "  model=\"gpt-3.5-turbo\",\n",
    "  messages=[\n",
    "    {\"role\": \"system\", \"content\": \"You are a famous chef. Share your best cooking tips and tricks.\"},\n",
    "    {\"role\": \"user\", \"content\": \"What are the ingredients for making pancakes?\"},\n",
    "    {\"role\": \"assistant\", \"content\": \"To make pancakes, you'll need flour, eggs, milk, baking powder, and a pinch of salt.\"}, # we shortened it for our demo purpose\n",
    "    {\"role\": \"user\", \"content\": \"Can I use almond milk instead of regular milk?\"}\n",
    "  ]\n",
    ")"
   ]
  },
  {
   "cell_type": "code",
   "execution_count": 10,
   "id": "108988dd-38a2-428b-a0e3-9d18613da8f9",
   "metadata": {
    "id": "108988dd-38a2-428b-a0e3-9d18613da8f9"
   },
   "outputs": [
    {
     "name": "stdout",
     "output_type": "stream",
     "text": [
      "Yes, you can absolutely use almond milk as a substitute for regular milk in pancake batter. Just note that almond milk may lend a slightly nutty flavor to the pancakes, which can be a nice addition depending on your preferences.\n"
     ]
    }
   ],
   "source": [
    "print(response.choices[0].message.content)"
   ]
  },
  {
   "cell_type": "markdown",
   "id": "41f3508d-c5e3-4475-b32f-7886984beb60",
   "metadata": {
    "id": "41f3508d-c5e3-4475-b32f-7886984beb60"
   },
   "source": [
    "**Each user instruction relies on the prior messages in the conversation history to make sense.**\n",
    "\n",
    "Since the language models don't have inherent memory of past requests, it's important to include the relevant conversation history in each API request. If the conversation exceeds the model's token limit, it may need to be truncated or shortened while ensuring the essential context and instructions are retained."
   ]
  },
  {
   "cell_type": "markdown",
   "id": "5a446a56-43b9-47de-9e1d-d69ea9051219",
   "metadata": {
    "id": "5a446a56-43b9-47de-9e1d-d69ea9051219"
   },
   "source": [
    "### Creating a basic conversation loop\n",
    "\n",
    "This example demonstrates a conversation loop that performs the following tasks:\n",
    "\n",
    "1. Takes console input continuously and formats it as the user's role content within the messages array.\n",
    "2. Prints the model's response to the console and formats it as the assistant's role content within the messages array.\n",
    "\n",
    "This approach ensures that each time a new question is asked, the ongoing conversation transcript is sent along with the latest question. Since the model lacks memory, it's crucial to include an updated transcript with each new question. Otherwise, the model may lose context from previous questions and answers."
   ]
  },
  {
   "cell_type": "code",
   "execution_count": 11,
   "id": "d90675cd-823b-4c68-8bac-6d0149a72297",
   "metadata": {
    "id": "d90675cd-823b-4c68-8bac-6d0149a72297"
   },
   "outputs": [],
   "source": [
    "message_history=[{\"role\": \"system\", \"content\": \"You are a helpful assistant.\"}]\n",
    "\n",
    "def gpt_response(inp, message_history):\n",
    "    # We save the user's input\n",
    "    message_history.append({\"role\": \"user\", \"content\": f\"{inp}\"})\n",
    "\n",
    "    # Generate a response from the chatbot model\n",
    "    completion = client.chat.completions.create(\n",
    "      model=\"gpt-3.5-turbo\",\n",
    "      messages=message_history\n",
    "    )\n",
    "\n",
    "    # We save the assistant response\n",
    "    message_history.append({\"role\": \"assistant\", \"content\": completion.choices[0].message.content})\n",
    "\n",
    "\n",
    "    return message_history"
   ]
  },
  {
   "cell_type": "code",
   "execution_count": 12,
   "id": "67bfa9fb-ce9a-4545-bea6-9a479a8edf84",
   "metadata": {
    "id": "67bfa9fb-ce9a-4545-bea6-9a479a8edf84"
   },
   "outputs": [
    {
     "name": "stdout",
     "output_type": "stream",
     "text": [
      "Data analytics is the process of examining large datasets to uncover hidden patterns, correlations, trends, and insights that can help businesses make more informed decisions. By utilizing various tools, techniques, and algorithms, data analysts can extract valuable information from data sources such as databases, spreadsheets, and big data platforms. Data analytics plays a crucial role in areas such as business intelligence, marketing optimization, risk management, and performance evaluation. It helps organizations understand their customers better, improve operational efficiency, identify new opportunities, and mitigate potential risks.\n",
      "Web development and data analytics are two distinct fields within the realm of technology.\n",
      "\n",
      "Web development involves the design, creation, and maintenance of websites and web applications. Web developers use programming languages such as HTML, CSS, and JavaScript to build websites that are functional, interactive, and visually appealing. They work on the client-side (frontend) and server-side (backend) components of websites, ensuring that they are responsive, user-friendly, and optimized for various devices and browsers.\n",
      "\n",
      "On the other hand, data analytics focuses on analyzing and interpreting large datasets to extract valuable insights and inform decision-making. Data analysts use tools like statistical analysis, data mining, and machine learning to uncover patterns, trends, and correlations in data. They often work with databases, spreadsheets, and data visualization tools to manipulate and present data in a meaningful way for organizations to gain actionable insights.\n",
      "\n",
      "In summary, web development is more concerned with building and maintaining websites and web applications, while data analytics is focused on extracting insights and making data-driven decisions based on large datasets.\n",
      "Your first question was: \"Tell me something about data analytics\"\n",
      "Exiting chat...\n"
     ]
    }
   ],
   "source": [
    "while True:\n",
    "    user_input = input(\"> \")\n",
    "    if user_input.lower() == \"exit\":\n",
    "        print(\"Exiting chat...\")\n",
    "        break  # Exit loop\n",
    "\n",
    "    message_history = gpt_response(user_input, message_history)\n",
    "    print(message_history[-1][\"content\"])  # Print assistant's last response"
   ]
  },
  {
   "cell_type": "markdown",
   "id": "5e6e41f0-c2c2-4ac7-ab3b-7adccb7b7a50",
   "metadata": {
    "id": "5e6e41f0-c2c2-4ac7-ab3b-7adccb7b7a50"
   },
   "source": [
    "Let's check the message history to see if it has all the conversation."
   ]
  },
  {
   "cell_type": "code",
   "execution_count": null,
   "id": "3ee52100-283d-4745-b618-c24ac36a658d",
   "metadata": {
    "id": "3ee52100-283d-4745-b618-c24ac36a658d"
   },
   "outputs": [],
   "source": [
    "message_history"
   ]
  },
  {
   "cell_type": "markdown",
   "id": "f0d87d2a-f898-4864-8f89-74463bbccf5b",
   "metadata": {
    "id": "f0d87d2a-f898-4864-8f89-74463bbccf5b"
   },
   "source": [
    "### Request parameters"
   ]
  },
  {
   "cell_type": "markdown",
   "id": "3e1e409d-2c31-4fed-bded-05573da8343e",
   "metadata": {
    "id": "3e1e409d-2c31-4fed-bded-05573da8343e"
   },
   "source": [
    "Let's take a look at some request parameters."
   ]
  },
  {
   "cell_type": "markdown",
   "id": "eea9c50f-7852-454a-ad30-69a7c23a2a48",
   "metadata": {
    "id": "eea9c50f-7852-454a-ad30-69a7c23a2a48"
   },
   "source": [
    "- **Model**: Model type (e.g., GPT-3.5 turbo., GPT 4)\n",
    "- **Prompt**: expects a list of messages in a chat-based format\n",
    "- **Temperature (default 1)**: sampling temperature. Between 0 and 2. Higher value means more diverse and random output, while a lower value makes it more focused and deterministic.\n",
    "- **Max tokens (default 16)**: limits the length of the generated response (max length)"
   ]
  },
  {
   "cell_type": "code",
   "execution_count": 13,
   "id": "7cc0e101-8dbc-4673-b3fd-b012ad16eb0d",
   "metadata": {
    "id": "7cc0e101-8dbc-4673-b3fd-b012ad16eb0d"
   },
   "outputs": [],
   "source": [
    "# Lets rewrite the gpt_response function to include possible parameters\n",
    "\n",
    "def gpt_response(inp, message_history, **params):\n",
    "    # We save the user's input\n",
    "    message_history.append({\"role\": \"user\", \"content\": f\"{inp}\"})\n",
    "\n",
    "    # Generate a response from the chatbot model\n",
    "    completion_params = {\n",
    "        \"model\": \"gpt-3.5-turbo\",\n",
    "        \"messages\": message_history,\n",
    "        **params  # Include additional parameters\n",
    "    }\n",
    "\n",
    "    completion = client.chat.completions.create(**completion_params) # Include additional parameters\n",
    "\n",
    "    # We save the assistant response\n",
    "    message_history.append({\"role\": \"assistant\", \"content\": f\"{completion.choices[0].message.content}\"})\n",
    "\n",
    "    return message_history"
   ]
  },
  {
   "cell_type": "markdown",
   "id": "184f677e-d938-4a93-8395-5a0476c3f823",
   "metadata": {
    "id": "184f677e-d938-4a93-8395-5a0476c3f823"
   },
   "source": [
    "Lets explore different settings by using a max_tokens value of 100 and testing three temperature levels (0, 1, and 2) to generate responses from the model, completing the prompt \"My favourite animal is.\""
   ]
  },
  {
   "cell_type": "code",
   "execution_count": null,
   "id": "61e662eb-2ec3-4620-a8a7-3a10b1e2358e",
   "metadata": {
    "id": "61e662eb-2ec3-4620-a8a7-3a10b1e2358e"
   },
   "outputs": [],
   "source": [
    "message_history=[{\"role\": \"system\", \"content\": \"Complete the prompt.\"}]\n",
    "\n",
    "for i in [0,1,2]:\n",
    "    message_history = gpt_response(\"My favourite animal is \",\n",
    "                                   message_history,\n",
    "                                   max_tokens=100,\n",
    "                                   temperature=i)\n",
    "    print(message_history[-1][\"content\"]+\"\\n\") # Print the last response"
   ]
  },
  {
   "cell_type": "markdown",
   "id": "8a199af8-3690-4dd2-b6d3-9eeb3e852608",
   "metadata": {
    "id": "8a199af8-3690-4dd2-b6d3-9eeb3e852608"
   },
   "source": [
    "- **top_p** (Defaults to 1)\n",
    "An alternative to sampling with temperature, called nucleus sampling, where the model considers the results of the tokens with top_p probability mass. So 0.1 means only the tokens comprising the top 10% probability mass are considered.\n",
    "\n",
    "A higher value gives access to more tokens (and more diversity) and a lower value is more deterministic.\n",
    "\n",
    "We generally recommend altering this or temperature but not both.\n",
    "\n"
   ]
  },
  {
   "cell_type": "markdown",
   "id": "b65c39d3-9d50-4cc0-b39d-26410cfa3a51",
   "metadata": {
    "id": "b65c39d3-9d50-4cc0-b39d-26410cfa3a51"
   },
   "source": [
    "Lets explore different settings by using a max_tokens value of 100 and testing two top_p levels (0 and 1) to generate responses from the model, completing the prompt \"My favourite animal is.\""
   ]
  },
  {
   "cell_type": "code",
   "execution_count": null,
   "id": "66e3323f-f839-45f9-a653-66d7be6af63b",
   "metadata": {
    "id": "66e3323f-f839-45f9-a653-66d7be6af63b"
   },
   "outputs": [],
   "source": [
    "message_history=[{\"role\": \"system\", \"content\": \"Complete the prompt.\"}]\n",
    "\n",
    "for i in [0,1]:\n",
    "    message_history = gpt_response(\"My favourite animal is \",\n",
    "                                   message_history,\n",
    "                                   max_tokens=100,\n",
    "                                   top_p=i)\n",
    "    print(message_history[-1][\"content\"]+\"\\n\") # Print the last response"
   ]
  },
  {
   "cell_type": "markdown",
   "id": "cdcb50d3-2cc5-42b6-9af9-8101e826e349",
   "metadata": {
    "id": "cdcb50d3-2cc5-42b6-9af9-8101e826e349"
   },
   "source": [
    "- **presence_penalty** (Defaults to 0)\n",
    "Number between -2.0 and 2.0. Positive values penalize new tokens based on whether they appear in the text so far, increasing the model's likelihood to talk about new topics. **Higher values promote creativity by penalising the model when it uses predefined tokens.**"
   ]
  },
  {
   "cell_type": "markdown",
   "id": "0c3416cd-17f9-4be7-8098-b1fdb8177ede",
   "metadata": {
    "id": "0c3416cd-17f9-4be7-8098-b1fdb8177ede"
   },
   "source": [
    "- **frequency_penalty** (Defaults to 0)\n",
    "Number between -2.0 and 2.0. Positive values penalize new tokens based on their existing frequency in the text so far, decreasing the model's likelihood to repeat the same line verbatim. **Higher values penalise the model for repetition and reward variety.**\n"
   ]
  },
  {
   "cell_type": "markdown",
   "id": "9c356ccf-0eb6-4ff7-afd6-9b1d8f958b0c",
   "metadata": {
    "id": "9c356ccf-0eb6-4ff7-afd6-9b1d8f958b0c"
   },
   "source": [
    "Lets explore different settings by using a max_tokens value of 100 and testing two presence penalty and frequency penalty levels (-2 and 2) to generate responses from the model, using the prompt \"generate 20 ways to say you can't buy that because you're broke\""
   ]
  },
  {
   "cell_type": "code",
   "execution_count": null,
   "id": "5e17a621-13b1-4afa-a528-3e70fd5071e7",
   "metadata": {
    "id": "5e17a621-13b1-4afa-a528-3e70fd5071e7"
   },
   "outputs": [],
   "source": [
    "message_history=[]\n",
    "\n",
    "for i in [-2,2]:\n",
    "    message_history = gpt_response(\"generate 20 ways to say you can't buy that because you're broke\",\n",
    "                                   message_history,\n",
    "                                   max_tokens=100,\n",
    "                                   presence_penalty=i,\n",
    "                                   frequency_penalty=i)\n",
    "    print(message_history[-1][\"content\"]+\"\\n\")# Print the last response"
   ]
  },
  {
   "cell_type": "markdown",
   "id": "413709d5-199a-4afb-81e7-02486a7bf084",
   "metadata": {
    "id": "413709d5-199a-4afb-81e7-02486a7bf084"
   },
   "source": [
    "## Using Chat Completion for non-chat scenarios\n",
    "The Chat Completion API is designed to work with multi-turn conversations, but it also works well for non-chat scenarios."
   ]
  },
  {
   "cell_type": "markdown",
   "id": "a2c6ecec-2568-4c64-ba66-31ade5729634",
   "metadata": {
    "id": "a2c6ecec-2568-4c64-ba66-31ade5729634"
   },
   "source": [
    "### Sentiment Analysis"
   ]
  },
  {
   "cell_type": "markdown",
   "id": "843f9fff-5608-400c-9222-d2f4e1ae8db1",
   "metadata": {
    "id": "843f9fff-5608-400c-9222-d2f4e1ae8db1"
   },
   "source": [
    "Lets set up a sentiment analysis scenario where a user inputs a tweet, and the program generates responses using GPT, providing sentiment predictions until interrupted."
   ]
  },
  {
   "cell_type": "markdown",
   "id": "beb85b49-1fa6-42cb-a770-1494dcfd0566",
   "metadata": {
    "id": "beb85b49-1fa6-42cb-a770-1494dcfd0566"
   },
   "source": [
    "We will give the role *system* the task to decide whether a Tweet's sentiment is positive, neutral, or negative.\n",
    "We include as a user pre-prompt the example \"I loved the new Batman movie! Sentiment:\", and an example assistant answer \"Positive\"."
   ]
  },
  {
   "cell_type": "code",
   "execution_count": 14,
   "id": "d7ef458f-b55b-4d15-b5ce-7d26e40761af",
   "metadata": {
    "id": "d7ef458f-b55b-4d15-b5ce-7d26e40761af"
   },
   "outputs": [
    {
     "name": "stdout",
     "output_type": "stream",
     "text": [
      "Write a tweet: \n",
      "Neutral\n",
      "Positive\n",
      "Exiting chat...\n"
     ]
    }
   ],
   "source": [
    "# Lets give an example of sentiment analysis\n",
    "message_history=[{\"role\": \"system\", \"content\": \"Decide whether a Tweet's sentiment is positive, neutral, or negative.\"},\n",
    "             {\"role\": \"user\", \"content\": \"Tweet: \\\"I loved the new Batman movie!\\\"\\nSentiment:\"},\n",
    "              {\"role\": \"assistant\", \"content\": \"Positive\"}\n",
    "  ]\n",
    "print(\"Write a tweet: \")\n",
    "\n",
    "while(True):\n",
    "\n",
    "    user_input = input(\"> \")\n",
    "    if user_input.lower() == \"exit\":\n",
    "      print(\"Exiting chat...\")\n",
    "      break  # Exit loop\n",
    "    message_history = gpt_response(input(\"> \"),\n",
    "                                   message_history,\n",
    "                                   temperature=0,\n",
    "                                   max_tokens=60,\n",
    "                                   frequency_penalty=0.5)\n",
    "    print(message_history[-1][\"content\"])"
   ]
  },
  {
   "cell_type": "markdown",
   "id": "75b5fdca-17c4-4910-9e68-54a5922c5fc1",
   "metadata": {
    "id": "75b5fdca-17c4-4910-9e68-54a5922c5fc1"
   },
   "source": [
    "### Language Translation"
   ]
  },
  {
   "cell_type": "markdown",
   "id": "4d297f56-e4ae-48c5-a5bc-7b9e3470881f",
   "metadata": {
    "id": "4d297f56-e4ae-48c5-a5bc-7b9e3470881f"
   },
   "source": [
    "Lets set up a translation scenario where a user inputs a phrase to be translated into Spanish and Portuguese. The program generates responses using GPT, providing translations until interrupted."
   ]
  },
  {
   "cell_type": "markdown",
   "id": "92d1b764-5cf8-4e5b-8fe4-35a62c92313f",
   "metadata": {
    "id": "92d1b764-5cf8-4e5b-8fe4-35a62c92313f"
   },
   "source": [
    "We will give as a system pre-prompt *Translate this into Spanish, Portuguese, Italian*"
   ]
  },
  {
   "cell_type": "code",
   "execution_count": null,
   "id": "26a0fa03-7b43-446d-8118-2f49facb2fc8",
   "metadata": {
    "id": "26a0fa03-7b43-446d-8118-2f49facb2fc8"
   },
   "outputs": [],
   "source": [
    "message_history=[{\"role\": \"system\", \"content\": \"Translate this into Spanish, Portuguese, Italian\"}\n",
    "  ]\n",
    "print(\"Write a phrase to translate to Spanish, Portuguese and Italian: \")\n",
    "\n",
    "while(True):\n",
    "\n",
    "    user_input = input(\"> \")\n",
    "\n",
    "    if user_input.lower() == \"exit\":\n",
    "      print(\"Exiting chat...\")\n",
    "      break  # Exit loop\n",
    "    \n",
    "    message_history = gpt_response(user_input, message_history,temperature=0.3,max_tokens=60)\n",
    "    print(message_history[-1][\"content\"])"
   ]
  },
  {
   "cell_type": "markdown",
   "id": "44b193c4-956a-42aa-b00b-23ddb07865bb",
   "metadata": {
    "id": "44b193c4-956a-42aa-b00b-23ddb07865bb"
   },
   "source": [
    "# Extra: creating a chatbot with gradio for front-end UI"
   ]
  },
  {
   "cell_type": "markdown",
   "id": "710ae714-b13a-42a3-a13a-6213ed7ff1b4",
   "metadata": {
    "id": "710ae714-b13a-42a3-a13a-6213ed7ff1b4"
   },
   "source": [
    "Gradio is a Python library that allows you to quickly create customizable UIs for machine learning models, or for any kind of Python function or code snippet, with just a few lines of code. It simplifies the process of deploying and sharing models or code by generating interactive interfaces for input and output data."
   ]
  },
  {
   "cell_type": "markdown",
   "id": "1d14a415-9fe0-49f6-8693-4576d2c74ac7",
   "metadata": {
    "id": "1d14a415-9fe0-49f6-8693-4576d2c74ac7"
   },
   "source": [
    "To create a chatbot with Gradio for the front-end user interface, follow these steps:"
   ]
  },
  {
   "cell_type": "markdown",
   "id": "ca8f1e1a-26f4-4b96-8fef-51436880d4a4",
   "metadata": {
    "id": "ca8f1e1a-26f4-4b96-8fef-51436880d4a4"
   },
   "source": [
    "1. Install the necessary packages"
   ]
  },
  {
   "cell_type": "code",
   "execution_count": 15,
   "id": "87de7b14-5c2f-4456-8ef8-6907d2d96e7b",
   "metadata": {
    "id": "87de7b14-5c2f-4456-8ef8-6907d2d96e7b"
   },
   "outputs": [
    {
     "name": "stdout",
     "output_type": "stream",
     "text": [
      "Collecting gradio\n",
      "  Downloading gradio-4.44.1-py3-none-any.whl.metadata (15 kB)\n",
      "Requirement already satisfied: openai in /Library/Frameworks/Python.framework/Versions/3.8/lib/python3.8/site-packages (1.64.0)\n",
      "Collecting aiofiles<24.0,>=22.0 (from gradio)\n",
      "  Using cached aiofiles-23.2.1-py3-none-any.whl.metadata (9.7 kB)\n",
      "Requirement already satisfied: anyio<5.0,>=3.0 in /Library/Frameworks/Python.framework/Versions/3.8/lib/python3.8/site-packages (from gradio) (4.0.0)\n",
      "Collecting fastapi<1.0 (from gradio)\n",
      "  Using cached fastapi-0.115.8-py3-none-any.whl.metadata (27 kB)\n",
      "Collecting ffmpy (from gradio)\n",
      "  Using cached ffmpy-0.5.0-py3-none-any.whl.metadata (3.0 kB)\n",
      "Collecting gradio-client==1.3.0 (from gradio)\n",
      "  Downloading gradio_client-1.3.0-py3-none-any.whl.metadata (7.1 kB)\n",
      "Requirement already satisfied: httpx>=0.24.1 in /Library/Frameworks/Python.framework/Versions/3.8/lib/python3.8/site-packages (from gradio) (0.27.2)\n",
      "Collecting huggingface-hub>=0.19.3 (from gradio)\n",
      "  Using cached huggingface_hub-0.29.1-py3-none-any.whl.metadata (13 kB)\n",
      "Requirement already satisfied: importlib-resources<7.0,>=1.3 in /Library/Frameworks/Python.framework/Versions/3.8/lib/python3.8/site-packages (from gradio) (6.4.0)\n",
      "Requirement already satisfied: jinja2<4.0 in /Library/Frameworks/Python.framework/Versions/3.8/lib/python3.8/site-packages (from gradio) (3.1.2)\n",
      "Requirement already satisfied: markupsafe~=2.0 in /Library/Frameworks/Python.framework/Versions/3.8/lib/python3.8/site-packages (from gradio) (2.1.3)\n",
      "Requirement already satisfied: matplotlib~=3.0 in /Library/Frameworks/Python.framework/Versions/3.8/lib/python3.8/site-packages (from gradio) (3.7.5)\n",
      "Requirement already satisfied: numpy<3.0,>=1.0 in /Library/Frameworks/Python.framework/Versions/3.8/lib/python3.8/site-packages (from gradio) (1.24.4)\n",
      "Requirement already satisfied: orjson~=3.0 in /Library/Frameworks/Python.framework/Versions/3.8/lib/python3.8/site-packages (from gradio) (3.10.3)\n",
      "Requirement already satisfied: packaging in /Users/goncalojardim/Library/Python/3.8/lib/python/site-packages (from gradio) (24.1)\n",
      "Requirement already satisfied: pandas<3.0,>=1.0 in /Library/Frameworks/Python.framework/Versions/3.8/lib/python3.8/site-packages (from gradio) (2.0.3)\n",
      "Requirement already satisfied: pillow<11.0,>=8.0 in /Library/Frameworks/Python.framework/Versions/3.8/lib/python3.8/site-packages (from gradio) (10.3.0)\n",
      "Requirement already satisfied: pydantic>=2.0 in /Library/Frameworks/Python.framework/Versions/3.8/lib/python3.8/site-packages (from gradio) (2.3.0)\n",
      "Collecting pydub (from gradio)\n",
      "  Using cached pydub-0.25.1-py2.py3-none-any.whl.metadata (1.4 kB)\n",
      "Collecting python-multipart>=0.0.9 (from gradio)\n",
      "  Using cached python_multipart-0.0.20-py3-none-any.whl.metadata (1.8 kB)\n",
      "Requirement already satisfied: pyyaml<7.0,>=5.0 in /Library/Frameworks/Python.framework/Versions/3.8/lib/python3.8/site-packages (from gradio) (6.0.1)\n",
      "Collecting ruff>=0.2.2 (from gradio)\n",
      "  Using cached ruff-0.9.7-py3-none-macosx_11_0_arm64.whl.metadata (25 kB)\n",
      "Collecting semantic-version~=2.0 (from gradio)\n",
      "  Using cached semantic_version-2.10.0-py2.py3-none-any.whl.metadata (9.7 kB)\n",
      "Collecting tomlkit==0.12.0 (from gradio)\n",
      "  Downloading tomlkit-0.12.0-py3-none-any.whl.metadata (2.7 kB)\n",
      "Collecting typer<1.0,>=0.12 (from gradio)\n",
      "  Using cached typer-0.15.1-py3-none-any.whl.metadata (15 kB)\n",
      "Requirement already satisfied: typing-extensions~=4.0 in /Users/goncalojardim/Library/Python/3.8/lib/python/site-packages (from gradio) (4.12.2)\n",
      "Collecting urllib3~=2.0 (from gradio)\n",
      "  Using cached urllib3-2.2.3-py3-none-any.whl.metadata (6.5 kB)\n",
      "Collecting uvicorn>=0.14.0 (from gradio)\n",
      "  Downloading uvicorn-0.33.0-py3-none-any.whl.metadata (6.6 kB)\n",
      "Requirement already satisfied: fsspec in /Library/Frameworks/Python.framework/Versions/3.8/lib/python3.8/site-packages (from gradio-client==1.3.0->gradio) (2023.10.0)\n",
      "Requirement already satisfied: websockets<13.0,>=10.0 in /Library/Frameworks/Python.framework/Versions/3.8/lib/python3.8/site-packages (from gradio-client==1.3.0->gradio) (12.0)\n",
      "Requirement already satisfied: distro<2,>=1.7.0 in /Library/Frameworks/Python.framework/Versions/3.8/lib/python3.8/site-packages (from openai) (1.9.0)\n",
      "Requirement already satisfied: jiter<1,>=0.4.0 in /Library/Frameworks/Python.framework/Versions/3.8/lib/python3.8/site-packages (from openai) (0.8.2)\n",
      "Requirement already satisfied: sniffio in /Library/Frameworks/Python.framework/Versions/3.8/lib/python3.8/site-packages (from openai) (1.3.0)\n",
      "Requirement already satisfied: tqdm>4 in /Library/Frameworks/Python.framework/Versions/3.8/lib/python3.8/site-packages (from openai) (4.66.1)\n",
      "Requirement already satisfied: idna>=2.8 in /Library/Frameworks/Python.framework/Versions/3.8/lib/python3.8/site-packages (from anyio<5.0,>=3.0->gradio) (3.4)\n",
      "Requirement already satisfied: exceptiongroup>=1.0.2 in /Library/Frameworks/Python.framework/Versions/3.8/lib/python3.8/site-packages (from anyio<5.0,>=3.0->gradio) (1.1.3)\n",
      "Collecting starlette<0.46.0,>=0.40.0 (from fastapi<1.0->gradio)\n",
      "  Downloading starlette-0.44.0-py3-none-any.whl.metadata (6.3 kB)\n",
      "Requirement already satisfied: certifi in /Library/Frameworks/Python.framework/Versions/3.8/lib/python3.8/site-packages (from httpx>=0.24.1->gradio) (2023.7.22)\n",
      "Requirement already satisfied: httpcore==1.* in /Library/Frameworks/Python.framework/Versions/3.8/lib/python3.8/site-packages (from httpx>=0.24.1->gradio) (1.0.5)\n",
      "Requirement already satisfied: h11<0.15,>=0.13 in /Library/Frameworks/Python.framework/Versions/3.8/lib/python3.8/site-packages (from httpcore==1.*->httpx>=0.24.1->gradio) (0.14.0)\n",
      "Requirement already satisfied: filelock in /Library/Frameworks/Python.framework/Versions/3.8/lib/python3.8/site-packages (from huggingface-hub>=0.19.3->gradio) (3.12.3)\n",
      "Requirement already satisfied: requests in /Library/Frameworks/Python.framework/Versions/3.8/lib/python3.8/site-packages (from huggingface-hub>=0.19.3->gradio) (2.31.0)\n",
      "Requirement already satisfied: zipp>=3.1.0 in /Users/goncalojardim/Library/Python/3.8/lib/python/site-packages (from importlib-resources<7.0,>=1.3->gradio) (3.20.2)\n",
      "Requirement already satisfied: contourpy>=1.0.1 in /Library/Frameworks/Python.framework/Versions/3.8/lib/python3.8/site-packages (from matplotlib~=3.0->gradio) (1.1.1)\n",
      "Requirement already satisfied: cycler>=0.10 in /Library/Frameworks/Python.framework/Versions/3.8/lib/python3.8/site-packages (from matplotlib~=3.0->gradio) (0.12.1)\n",
      "Requirement already satisfied: fonttools>=4.22.0 in /Library/Frameworks/Python.framework/Versions/3.8/lib/python3.8/site-packages (from matplotlib~=3.0->gradio) (4.53.0)\n",
      "Requirement already satisfied: kiwisolver>=1.0.1 in /Library/Frameworks/Python.framework/Versions/3.8/lib/python3.8/site-packages (from matplotlib~=3.0->gradio) (1.4.5)\n",
      "Requirement already satisfied: pyparsing>=2.3.1 in /Library/Frameworks/Python.framework/Versions/3.8/lib/python3.8/site-packages (from matplotlib~=3.0->gradio) (3.1.2)\n",
      "Requirement already satisfied: python-dateutil>=2.7 in /Users/goncalojardim/Library/Python/3.8/lib/python/site-packages (from matplotlib~=3.0->gradio) (2.9.0.post0)\n",
      "Requirement already satisfied: pytz>=2020.1 in /Library/Frameworks/Python.framework/Versions/3.8/lib/python3.8/site-packages (from pandas<3.0,>=1.0->gradio) (2024.1)\n",
      "Requirement already satisfied: tzdata>=2022.1 in /Library/Frameworks/Python.framework/Versions/3.8/lib/python3.8/site-packages (from pandas<3.0,>=1.0->gradio) (2024.1)\n",
      "Requirement already satisfied: annotated-types>=0.4.0 in /Library/Frameworks/Python.framework/Versions/3.8/lib/python3.8/site-packages (from pydantic>=2.0->gradio) (0.5.0)\n",
      "Requirement already satisfied: pydantic-core==2.6.3 in /Library/Frameworks/Python.framework/Versions/3.8/lib/python3.8/site-packages (from pydantic>=2.0->gradio) (2.6.3)\n",
      "Requirement already satisfied: click>=8.0.0 in /Library/Frameworks/Python.framework/Versions/3.8/lib/python3.8/site-packages (from typer<1.0,>=0.12->gradio) (8.1.7)\n",
      "Requirement already satisfied: shellingham>=1.3.0 in /Library/Frameworks/Python.framework/Versions/3.8/lib/python3.8/site-packages (from typer<1.0,>=0.12->gradio) (1.5.4)\n",
      "Collecting rich>=10.11.0 (from typer<1.0,>=0.12->gradio)\n",
      "  Using cached rich-13.9.4-py3-none-any.whl.metadata (18 kB)\n",
      "Requirement already satisfied: six>=1.5 in /Users/goncalojardim/Library/Python/3.8/lib/python/site-packages (from python-dateutil>=2.7->matplotlib~=3.0->gradio) (1.16.0)\n",
      "Collecting markdown-it-py>=2.2.0 (from rich>=10.11.0->typer<1.0,>=0.12->gradio)\n",
      "  Using cached markdown_it_py-3.0.0-py3-none-any.whl.metadata (6.9 kB)\n",
      "Requirement already satisfied: pygments<3.0.0,>=2.13.0 in /Users/goncalojardim/Library/Python/3.8/lib/python/site-packages (from rich>=10.11.0->typer<1.0,>=0.12->gradio) (2.18.0)\n",
      "Requirement already satisfied: charset-normalizer<4,>=2 in /Library/Frameworks/Python.framework/Versions/3.8/lib/python3.8/site-packages (from requests->huggingface-hub>=0.19.3->gradio) (3.2.0)\n",
      "Collecting mdurl~=0.1 (from markdown-it-py>=2.2.0->rich>=10.11.0->typer<1.0,>=0.12->gradio)\n",
      "  Using cached mdurl-0.1.2-py3-none-any.whl.metadata (1.6 kB)\n",
      "Downloading gradio-4.44.1-py3-none-any.whl (18.1 MB)\n",
      "\u001b[2K   \u001b[90m━━━━━━━━━━━━━━━━━━━━━━━━━━━━━━━━━━━━━━━━\u001b[0m \u001b[32m18.1/18.1 MB\u001b[0m \u001b[31m8.1 MB/s\u001b[0m eta \u001b[36m0:00:00\u001b[0ma \u001b[36m0:00:01\u001b[0m\n",
      "\u001b[?25hDownloading gradio_client-1.3.0-py3-none-any.whl (318 kB)\n",
      "Downloading tomlkit-0.12.0-py3-none-any.whl (37 kB)\n",
      "Using cached aiofiles-23.2.1-py3-none-any.whl (15 kB)\n",
      "Using cached fastapi-0.115.8-py3-none-any.whl (94 kB)\n",
      "Using cached huggingface_hub-0.29.1-py3-none-any.whl (468 kB)\n",
      "Using cached python_multipart-0.0.20-py3-none-any.whl (24 kB)\n",
      "Using cached ruff-0.9.7-py3-none-macosx_11_0_arm64.whl (11.2 MB)\n",
      "Using cached semantic_version-2.10.0-py2.py3-none-any.whl (15 kB)\n",
      "Using cached typer-0.15.1-py3-none-any.whl (44 kB)\n",
      "Using cached urllib3-2.2.3-py3-none-any.whl (126 kB)\n",
      "Downloading uvicorn-0.33.0-py3-none-any.whl (62 kB)\n",
      "Using cached ffmpy-0.5.0-py3-none-any.whl (6.0 kB)\n",
      "Using cached pydub-0.25.1-py2.py3-none-any.whl (32 kB)\n",
      "Using cached rich-13.9.4-py3-none-any.whl (242 kB)\n",
      "Downloading starlette-0.44.0-py3-none-any.whl (73 kB)\n",
      "Using cached markdown_it_py-3.0.0-py3-none-any.whl (87 kB)\n",
      "Using cached mdurl-0.1.2-py3-none-any.whl (10.0 kB)\n",
      "Installing collected packages: pydub, uvicorn, urllib3, tomlkit, semantic-version, ruff, python-multipart, mdurl, ffmpy, aiofiles, starlette, markdown-it-py, rich, huggingface-hub, fastapi, typer, gradio-client, gradio\n",
      "  Attempting uninstall: urllib3\n",
      "    Found existing installation: urllib3 1.26.16\n",
      "    Uninstalling urllib3-1.26.16:\n",
      "      Successfully uninstalled urllib3-1.26.16\n",
      "  Attempting uninstall: tomlkit\n",
      "    Found existing installation: tomlkit 0.12.1\n",
      "    Uninstalling tomlkit-0.12.1:\n",
      "      Successfully uninstalled tomlkit-0.12.1\n",
      "  Attempting uninstall: huggingface-hub\n",
      "    Found existing installation: huggingface-hub 0.17.3\n",
      "    Uninstalling huggingface-hub-0.17.3:\n",
      "      Successfully uninstalled huggingface-hub-0.17.3\n",
      "\u001b[31mERROR: pip's dependency resolver does not currently take into account all the packages that are installed. This behaviour is the source of the following dependency conflicts.\n",
      "google-auth 2.22.0 requires urllib3<2.0, but you have urllib3 2.2.3 which is incompatible.\n",
      "tokenizers 0.14.1 requires huggingface_hub<0.18,>=0.16.4, but you have huggingface-hub 0.29.1 which is incompatible.\u001b[0m\u001b[31m\n",
      "\u001b[0mSuccessfully installed aiofiles-23.2.1 fastapi-0.115.8 ffmpy-0.5.0 gradio-4.44.1 gradio-client-1.3.0 huggingface-hub-0.29.1 markdown-it-py-3.0.0 mdurl-0.1.2 pydub-0.25.1 python-multipart-0.0.20 rich-13.9.4 ruff-0.9.7 semantic-version-2.10.0 starlette-0.44.0 tomlkit-0.12.0 typer-0.15.1 urllib3-2.2.3 uvicorn-0.33.0\n",
      "\n",
      "\u001b[1m[\u001b[0m\u001b[34;49mnotice\u001b[0m\u001b[1;39;49m]\u001b[0m\u001b[39;49m A new release of pip is available: \u001b[0m\u001b[31;49m24.3.1\u001b[0m\u001b[39;49m -> \u001b[0m\u001b[32;49m25.0.1\u001b[0m\n",
      "\u001b[1m[\u001b[0m\u001b[34;49mnotice\u001b[0m\u001b[1;39;49m]\u001b[0m\u001b[39;49m To update, run: \u001b[0m\u001b[32;49mpip install --upgrade pip\u001b[0m\n"
     ]
    }
   ],
   "source": [
    "!pip install gradio openai"
   ]
  },
  {
   "cell_type": "markdown",
   "id": "93819469-c55a-488f-b4fa-6d5e21e597a8",
   "metadata": {
    "id": "93819469-c55a-488f-b4fa-6d5e21e597a8"
   },
   "source": [
    "2. Import the required libraries"
   ]
  },
  {
   "cell_type": "code",
   "execution_count": 16,
   "id": "49384515-5e93-4f89-acbb-884154a8768a",
   "metadata": {
    "id": "49384515-5e93-4f89-acbb-884154a8768a"
   },
   "outputs": [],
   "source": [
    "import gradio as gr\n"
   ]
  },
  {
   "cell_type": "markdown",
   "id": "b39d1c73-f986-494e-96b7-77aa4ba421bf",
   "metadata": {
    "id": "b39d1c73-f986-494e-96b7-77aa4ba421bf"
   },
   "source": [
    "3. Set up your OpenAI API credentials by assigning your API key to openai.api_key"
   ]
  },
  {
   "cell_type": "code",
   "execution_count": null,
   "id": "c1d7b881-19b9-478c-8c5b-5bcd85c52a80",
   "metadata": {
    "id": "c1d7b881-19b9-478c-8c5b-5bcd85c52a80"
   },
   "outputs": [],
   "source": [
    "# openai.api_key = \"YOUR_API_KEY\""
   ]
  },
  {
   "cell_type": "markdown",
   "id": "a3520acd-ed0e-47ee-b213-9b45142774e6",
   "metadata": {
    "id": "a3520acd-ed0e-47ee-b213-9b45142774e6"
   },
   "source": [
    "4. Define a function that generates chatbot responses based on user input"
   ]
  },
  {
   "cell_type": "code",
   "execution_count": 17,
   "id": "ffd0385d-822a-42ab-8f8d-067ae2cc09c7",
   "metadata": {
    "id": "ffd0385d-822a-42ab-8f8d-067ae2cc09c7"
   },
   "outputs": [],
   "source": [
    "# Set up the conversation history with user and assistant messages\n",
    "message_history = [{\"role\": \"system\", \"content\": f\"Respond my prompts in a Harry Potter style\"},\n",
    "                   {\"role\": \"assistant\", \"content\": f\"OK\"}]\n",
    "\n",
    "def gpt_response_ui(inp):\n",
    "    global message_history\n",
    "\n",
    "    message_history = gpt_response(inp, message_history, max_tokens = 50)\n",
    "\n",
    "    # Get pairs (as tuples) of msg[\"content\"] from message history,representing one exchange between the user and the chatbot, skipping the pre-prompt\n",
    "    response = [(message_history[i][\"content\"], message_history[i+1][\"content\"]) for i in range(2, len(message_history)-1, 2)]  # convert to tuples of list\n",
    "    return response"
   ]
  },
  {
   "cell_type": "markdown",
   "id": "c42101a7-55bc-4052-9a5a-368d2472579d",
   "metadata": {
    "id": "c42101a7-55bc-4052-9a5a-368d2472579d"
   },
   "source": [
    "5. Define the Gradio interface"
   ]
  },
  {
   "cell_type": "code",
   "execution_count": 18,
   "id": "060004ad-f547-48a4-8d0e-b52ca38d957a",
   "metadata": {
    "id": "060004ad-f547-48a4-8d0e-b52ca38d957a"
   },
   "outputs": [],
   "source": [
    "with gr.Blocks() as demo: #creates a Gradio interface\n",
    "\n",
    "    chatbot = gr.Chatbot() #creates a chatbot instance\n",
    "\n",
    "    with gr.Row(): #creates a row within the Gradio interface to contain components\n",
    "        txt = gr.Textbox(show_label=False, placeholder=\"Enter text and press enter\") #text input field\n",
    "        # `show_label=False` parameter hides the label associated with the textbox\n",
    "\n",
    "    txt.submit(gpt_response_ui, txt, chatbot) #sets the submit action to the `gpt_response` function\n",
    "    txt.submit(lambda :\"\", None, txt) #this clears the textbox when the user submits their input"
   ]
  },
  {
   "cell_type": "markdown",
   "id": "a68df5c2-c3e2-41a8-9b7b-ca6fdf4d600b",
   "metadata": {
    "id": "a68df5c2-c3e2-41a8-9b7b-ca6fdf4d600b"
   },
   "source": [
    "6. Run the Gradio interface"
   ]
  },
  {
   "cell_type": "code",
   "execution_count": 19,
   "id": "3398916f-bb1e-4eda-b9f2-73ceba2695e3",
   "metadata": {
    "id": "3398916f-bb1e-4eda-b9f2-73ceba2695e3"
   },
   "outputs": [
    {
     "name": "stdout",
     "output_type": "stream",
     "text": [
      "Running on local URL:  http://127.0.0.1:7861\n",
      "Running on public URL: https://eaa041eddafb3b48b8.gradio.live\n",
      "\n",
      "This share link expires in 72 hours. For free permanent hosting and GPU upgrades, run `gradio deploy` from Terminal to deploy to Spaces (https://huggingface.co/spaces)\n"
     ]
    },
    {
     "data": {
      "text/html": [
       "<div><iframe src=\"https://eaa041eddafb3b48b8.gradio.live\" width=\"100%\" height=\"500\" allow=\"autoplay; camera; microphone; clipboard-read; clipboard-write;\" frameborder=\"0\" allowfullscreen></iframe></div>"
      ],
      "text/plain": [
       "<IPython.core.display.HTML object>"
      ]
     },
     "metadata": {},
     "output_type": "display_data"
    },
    {
     "data": {
      "text/plain": []
     },
     "execution_count": 19,
     "metadata": {},
     "output_type": "execute_result"
    }
   ],
   "source": [
    "demo.launch(share=True) #To create a public link, set `share=True` in `launch()`."
   ]
  },
  {
   "cell_type": "markdown",
   "id": "b03d0ae4-659d-4324-a253-b31c54fdc97f",
   "metadata": {
    "id": "b03d0ae4-659d-4324-a253-b31c54fdc97f"
   },
   "source": [
    "Source Inspiration: MIT License - Copyright (c) 2023 Harrison"
   ]
  }
 ],
 "metadata": {
  "colab": {
   "provenance": []
  },
  "kernelspec": {
   "display_name": "Python 3",
   "language": "python",
   "name": "python3"
  },
  "language_info": {
   "codemirror_mode": {
    "name": "ipython",
    "version": 3
   },
   "file_extension": ".py",
   "mimetype": "text/x-python",
   "name": "python",
   "nbconvert_exporter": "python",
   "pygments_lexer": "ipython3",
   "version": "3.8.10"
  },
  "toc": {
   "base_numbering": 1,
   "nav_menu": {},
   "number_sections": true,
   "sideBar": true,
   "skip_h1_title": false,
   "title_cell": "Table of Contents",
   "title_sidebar": "Contents",
   "toc_cell": true,
   "toc_position": {},
   "toc_section_display": true,
   "toc_window_display": false
  }
 },
 "nbformat": 4,
 "nbformat_minor": 5
}
