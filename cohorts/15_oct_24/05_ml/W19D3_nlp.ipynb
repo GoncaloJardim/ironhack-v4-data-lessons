{
  "cells": [
    {
      "cell_type": "code",
      "execution_count": 1,
      "metadata": {
        "id": "YZl6x21RYTwt"
      },
      "outputs": [],
      "source": [
        "import pandas as pd\n",
        "import nltk\n",
        "from nltk.stem import WordNetLemmatizer\n",
        "from nltk.corpus import stopwords\n",
        "from sklearn.feature_extraction.text import CountVectorizer\n",
        "#from sklearn.feature_extraction.text import TfidfVectorizer"
      ]
    },
    {
      "cell_type": "code",
      "execution_count": 2,
      "metadata": {
        "id": "JyGc-ug-FQg7"
      },
      "outputs": [],
      "source": [
        "text= \"\"\"US President Joe Biden says his administration is looking into what happened at a food distribution site in Gaza — where local health officials say more than 100 people were killed and hundreds more injured — and he admitted the incident is going to complicate negotiations in the region.\n",
        "\n",
        "“We’re checking that out right now; there are two competing versions of what happened. I don’t have an answer yet,” the president told CNN’s Arlette Saenz at the White House on Thursday.\n",
        "\n",
        "Asked by Saenz if he worried the deaths would complicate negotiations, he responded: “Oh, I know it will.”\n",
        "\n",
        "But Biden still expressed optimism that a deal on the hostages and a potential ceasefire could be reached soon. \"\"\""
      ]
    },
    {
      "cell_type": "code",
      "execution_count": 10,
      "metadata": {
        "id": "LDzmoXCosE-6"
      },
      "outputs": [],
      "source": [
        "text=\"\"\"President-elect Joe Biden and his transition team are preparing for an early, all-out push to pass an ambitious new stimulus bill, while also drawing up plans for a flurry of executive actions aimed at delivering on campaign promises and undoing the Trump administration's efforts to undermine key government agencies.\n",
        "Biden will be inaugurated in January with a pressing mandate to confront simultaneous and interwoven public health, economic and racial crises. At the same time, his team will take over the work of spearheading one of the most complicated, politically fraught mass vaccination campaigns in American history.\n",
        "Biden's agenda for his first 100 days in office will, according to both those close to him and outside groups in contact with his top aides, center on two key avenues of action: the passage of a broad economic aid package and, where legislation is not necessary, a series of executive actions aimed at advancing his priorities. Containing the Covid-19 pandemic, launching an economic recovery and tackling racial inequality are his most urgent priorities, transition officials say.\"\"\""
      ]
    },
    {
      "cell_type": "code",
      "execution_count": 8,
      "metadata": {
        "colab": {
          "base_uri": "https://localhost:8080/"
        },
        "id": "PLjXsXqzacqc",
        "outputId": "780db1c0-bbf7-418b-a3bc-3a1ba26af856"
      },
      "outputs": [
        {
          "name": "stderr",
          "output_type": "stream",
          "text": [
            "[nltk_data] Downloading package punkt_tab to\n",
            "[nltk_data]     /Users/goncalojardim/Desktop/Personal/IH/ironhack-v4-\n",
            "[nltk_data]     data-lessons/nlp_env/nltk_data...\n",
            "[nltk_data]   Package punkt_tab is already up-to-date!\n"
          ]
        },
        {
          "data": {
            "text/plain": [
              "['actions',\n",
              " 'aimed',\n",
              " 'at',\n",
              " 'advancing',\n",
              " 'his',\n",
              " 'priorities',\n",
              " '.',\n",
              " 'Containing',\n",
              " 'the',\n",
              " 'Covid-19',\n",
              " 'pandemic',\n",
              " ',',\n",
              " 'launching',\n",
              " 'an',\n",
              " 'economic',\n",
              " 'recovery',\n",
              " 'and',\n",
              " 'tackling',\n",
              " 'racial',\n",
              " 'inequality',\n",
              " 'are',\n",
              " 'his',\n",
              " 'most',\n",
              " 'urgent',\n",
              " 'priorities',\n",
              " ',',\n",
              " 'transition',\n",
              " 'officials',\n",
              " 'say',\n",
              " '.']"
            ]
          },
          "execution_count": 8,
          "metadata": {},
          "output_type": "execute_result"
        }
      ],
      "source": [
        "# this performs word tokenization -> this is used in simple models where each word is a feature\n",
        "from nltk.tokenize import word_tokenize\n",
        "nltk.download('punkt_tab', download_dir='/Users/goncalojardim/Desktop/Personal/IH/ironhack-v4-data-lessons/nlp_env/nltk_data')\n",
        "\n",
        "tokens = word_tokenize(text)\n",
        "tokens[-30:]"
      ]
    },
    {
      "cell_type": "code",
      "execution_count": 11,
      "metadata": {
        "colab": {
          "base_uri": "https://localhost:8080/"
        },
        "id": "G8ebc1CTzigA",
        "outputId": "59444b49-d6f5-4b88-c233-23fffcb4973b"
      },
      "outputs": [
        {
          "data": {
            "text/plain": [
              "['Joe',\n",
              " 'Biden',\n",
              " 'and',\n",
              " 'his',\n",
              " 'transition',\n",
              " 'team',\n",
              " 'are',\n",
              " 'preparing',\n",
              " 'for',\n",
              " 'an',\n",
              " 'early',\n",
              " 'push',\n",
              " 'to',\n",
              " 'pass',\n",
              " 'an']"
            ]
          },
          "execution_count": 11,
          "metadata": {},
          "output_type": "execute_result"
        }
      ],
      "source": [
        "# we often remove punctuation after tokenization since punctuation is unlikely to be a good predictive feature\n",
        "tokens = [word for word in tokens if word.isalnum()]\n",
        "tokens[:15]"
      ]
    },
    {
      "cell_type": "code",
      "execution_count": 12,
      "metadata": {
        "colab": {
          "base_uri": "https://localhost:8080/"
        },
        "id": "ci7FNYAGbZV7",
        "outputId": "1fb12d82-4538-43ff-ca2a-a98b7ad259a3"
      },
      "outputs": [
        {
          "data": {
            "text/plain": [
              "[\"President-elect Joe Biden and his transition team are preparing for an early, all-out push to pass an ambitious new stimulus bill, while also drawing up plans for a flurry of executive actions aimed at delivering on campaign promises and undoing the Trump administration's efforts to undermine key government agencies.\",\n",
              " 'Biden will be inaugurated in January with a pressing mandate to confront simultaneous and interwoven public health, economic and racial crises.',\n",
              " 'At the same time, his team will take over the work of spearheading one of the most complicated, politically fraught mass vaccination campaigns in American history.',\n",
              " \"Biden's agenda for his first 100 days in office will, according to both those close to him and outside groups in contact with his top aides, center on two key avenues of action: the passage of a broad economic aid package and, where legislation is not necessary, a series of executive actions aimed at advancing his priorities.\",\n",
              " 'Containing the Covid-19 pandemic, launching an economic recovery and tackling racial inequality are his most urgent priorities, transition officials say.']"
            ]
          },
          "execution_count": 12,
          "metadata": {},
          "output_type": "execute_result"
        }
      ],
      "source": [
        "# Alternative\n",
        "# this performs sentence tokenizations -> can be used if you want to treat each sentence as a \"feature\"\n",
        "from nltk.tokenize import sent_tokenize\n",
        "sent_tokenize(text)"
      ]
    },
    {
      "cell_type": "code",
      "execution_count": 18,
      "metadata": {
        "colab": {
          "base_uri": "https://localhost:8080/"
        },
        "id": "5AMgqkEesfqr",
        "outputId": "59e5ba76-4580-436e-fcce-7809a2df8dde"
      },
      "outputs": [
        {
          "name": "stderr",
          "output_type": "stream",
          "text": [
            "[nltk_data] Downloading package averaged_perceptron_tagger_eng to\n",
            "[nltk_data]     /Users/goncalojardim/nltk_data...\n",
            "[nltk_data]   Package averaged_perceptron_tagger_eng is already up-to-\n",
            "[nltk_data]       date!\n"
          ]
        },
        {
          "data": {
            "text/plain": [
              "[('Joe', 'NNP'),\n",
              " ('Biden', 'NNP'),\n",
              " ('and', 'CC'),\n",
              " ('his', 'PRP$'),\n",
              " ('transition', 'NN'),\n",
              " ('team', 'NN'),\n",
              " ('are', 'VBP'),\n",
              " ('preparing', 'VBG'),\n",
              " ('for', 'IN'),\n",
              " ('an', 'DT'),\n",
              " ('early', 'JJ'),\n",
              " ('push', 'NN'),\n",
              " ('to', 'TO'),\n",
              " ('pass', 'VB'),\n",
              " ('an', 'DT'),\n",
              " ('ambitious', 'JJ'),\n",
              " ('new', 'JJ'),\n",
              " ('stimulus', 'NN'),\n",
              " ('bill', 'NN'),\n",
              " ('while', 'IN'),\n",
              " ('also', 'RB'),\n",
              " ('drawing', 'VBG'),\n",
              " ('up', 'RP'),\n",
              " ('plans', 'NNS'),\n",
              " ('for', 'IN'),\n",
              " ('a', 'DT'),\n",
              " ('flurry', 'NN'),\n",
              " ('of', 'IN'),\n",
              " ('executive', 'JJ'),\n",
              " ('actions', 'NNS')]"
            ]
          },
          "execution_count": 18,
          "metadata": {},
          "output_type": "execute_result"
        }
      ],
      "source": [
        "# Part of speech can be a useful feature in itself, but is also heavily used in making lemmatization and stemming more effective\n",
        "nltk.download('averaged_perceptron_tagger_eng')\n",
        "nltk.pos_tag(tokens,lang='eng')[:30]\n",
        "#explanation of all these codes can be found here: https://medium.com/@gianpaul.r/tokenization-and-parts-of-speech-pos-tagging-in-pythons-nltk-library-2d30f70af13b"
      ]
    },
    {
      "cell_type": "code",
      "execution_count": null,
      "metadata": {
        "colab": {
          "base_uri": "https://localhost:8080/"
        },
        "id": "Vpq-YUJ7fc6t",
        "outputId": "dcb724ac-f23b-4d74-81da-da7b232b15aa"
      },
      "outputs": [],
      "source": [
        "# stemming can be done as cleaning technique -> treats prefixes and suffixes.\n",
        "from nltk.stem import PorterStemmer\n",
        "\n",
        "ps = PorterStemmer()\n",
        "stemmed = [ps.stem(w) for w in tokens]\n",
        "stemmed[:15]"
      ]
    },
    {
      "cell_type": "code",
      "execution_count": 17,
      "metadata": {
        "colab": {
          "base_uri": "https://localhost:8080/"
        },
        "id": "cEgJ4I8Hgo28",
        "outputId": "397839d3-2692-4624-bea4-15f4cba5d796"
      },
      "outputs": [
        {
          "name": "stderr",
          "output_type": "stream",
          "text": [
            "[nltk_data] Downloading package wordnet to\n",
            "[nltk_data]     /Users/goncalojardim/nltk_data...\n",
            "[nltk_data]   Package wordnet is already up-to-date!\n",
            "[nltk_data] Downloading package omw-1.4 to\n",
            "[nltk_data]     /Users/goncalojardim/nltk_data...\n",
            "[nltk_data]   Package omw-1.4 is already up-to-date!\n"
          ]
        },
        {
          "data": {
            "text/plain": [
              "['Joe',\n",
              " 'Biden',\n",
              " 'and',\n",
              " 'his',\n",
              " 'transition',\n",
              " 'team',\n",
              " 'are',\n",
              " 'preparing',\n",
              " 'for',\n",
              " 'an',\n",
              " 'early',\n",
              " 'push',\n",
              " 'to',\n",
              " 'pas',\n",
              " 'an',\n",
              " 'ambitious',\n",
              " 'new',\n",
              " 'stimulus',\n",
              " 'bill',\n",
              " 'while',\n",
              " 'also',\n",
              " 'drawing',\n",
              " 'up',\n",
              " 'plan',\n",
              " 'for',\n",
              " 'a',\n",
              " 'flurry',\n",
              " 'of',\n",
              " 'executive',\n",
              " 'action']"
            ]
          },
          "execution_count": 17,
          "metadata": {},
          "output_type": "execute_result"
        }
      ],
      "source": [
        "# lemmatization is a more context aware version of stemming, where we take the actual roots of individual words\n",
        "# the problem is that such a dictionary may not exist for all languages and that it does not know what to do with new words\n",
        "nltk.download('wordnet') # wordnet is the most well known lemmatizer for english\n",
        "nltk.download('omw-1.4')\n",
        "from nltk.stem import WordNetLemmatizer\n",
        "from nltk.corpus import wordnet\n",
        "\n",
        "\n",
        "lemmatizer = WordNetLemmatizer()\n",
        "lemmatized = [lemmatizer.lemmatize(word) for word in tokens]\n",
        "lemmatized[:30]"
      ]
    },
    {
      "cell_type": "code",
      "execution_count": 19,
      "metadata": {
        "colab": {
          "base_uri": "https://localhost:8080/",
          "height": 143
        },
        "id": "jHC45jlvuyN6",
        "outputId": "12626329-91a9-455e-f140-78ab639c160a"
      },
      "outputs": [
        {
          "data": {
            "text/plain": [
              "'wa'"
            ]
          },
          "metadata": {},
          "output_type": "display_data"
        },
        {
          "data": {
            "text/plain": [
              "'be'"
            ]
          },
          "metadata": {},
          "output_type": "display_data"
        },
        {
          "data": {
            "text/plain": [
              "'better'"
            ]
          },
          "metadata": {},
          "output_type": "display_data"
        },
        {
          "data": {
            "text/plain": [
              "'good'"
            ]
          },
          "metadata": {},
          "output_type": "display_data"
        },
        {
          "data": {
            "text/plain": [
              "'canning'"
            ]
          },
          "metadata": {},
          "output_type": "display_data"
        },
        {
          "data": {
            "text/plain": [
              "'canning'"
            ]
          },
          "metadata": {},
          "output_type": "display_data"
        },
        {
          "data": {
            "text/plain": [
              "'can'"
            ]
          },
          "metadata": {},
          "output_type": "display_data"
        }
      ],
      "source": [
        "# lemmatization may still be a bit weak, mostly because the lemmatizer would like a bit more information about context to make decisions\n",
        "display(lemmatizer.lemmatize(\"was\"))\n",
        "display(lemmatizer.lemmatize(\"was\",wordnet.VERB))\n",
        "display(lemmatizer.lemmatize(\"better\"))\n",
        "display(lemmatizer.lemmatize(\"better\",wordnet.ADJ))\n",
        "display(lemmatizer.lemmatize(\"canning\"))\n",
        "display(lemmatizer.lemmatize(\"canning\",wordnet.NOUN))\n",
        "display(lemmatizer.lemmatize(\"canning\",wordnet.VERB))"
      ]
    },
    {
      "cell_type": "code",
      "execution_count": 20,
      "metadata": {
        "colab": {
          "base_uri": "https://localhost:8080/"
        },
        "id": "4P6i0MpYrawb",
        "outputId": "6bec4d8d-da3a-4d65-ba63-fa5f2b258c5f"
      },
      "outputs": [
        {
          "name": "stderr",
          "output_type": "stream",
          "text": [
            "[nltk_data] Downloading package averaged_perceptron_tagger to\n",
            "[nltk_data]     /Users/goncalojardim/nltk_data...\n",
            "[nltk_data]   Package averaged_perceptron_tagger is already up-to-\n",
            "[nltk_data]       date!\n"
          ]
        },
        {
          "data": {
            "text/plain": [
              "['Joe',\n",
              " 'Biden',\n",
              " 'and',\n",
              " 'his',\n",
              " 'transition',\n",
              " 'team',\n",
              " 'be',\n",
              " 'prepare',\n",
              " 'for',\n",
              " 'an',\n",
              " 'early',\n",
              " 'push',\n",
              " 'to',\n",
              " 'pas',\n",
              " 'an']"
            ]
          },
          "execution_count": 20,
          "metadata": {},
          "output_type": "execute_result"
        }
      ],
      "source": [
        "# let's apply this to the all the newsfeed\n",
        "nltk.download('averaged_perceptron_tagger')\n",
        "\n",
        "# unfortunately pos_tag and lemmatize use different codes for parts of speech\n",
        "def get_wordnet_pos(word):\n",
        "    tag = nltk.pos_tag([word])[0][1][0].upper() # gets first letter of POS categorization\n",
        "    tag_dict = {\"J\": wordnet.ADJ,\n",
        "                \"N\": wordnet.NOUN,\n",
        "                \"V\": wordnet.VERB,\n",
        "                \"R\": wordnet.ADV\n",
        "            }\n",
        "    return tag_dict.get(tag, wordnet.NOUN) # get returns second argument if first key does not exist\n",
        "\n",
        "lemmatizer = WordNetLemmatizer()\n",
        "lemmatized = [lemmatizer.lemmatize(word,get_wordnet_pos(word)) for word in tokens]\n",
        "lemmatized[:15]\n"
      ]
    },
    {
      "cell_type": "code",
      "execution_count": 21,
      "metadata": {
        "colab": {
          "base_uri": "https://localhost:8080/"
        },
        "id": "dPRDgJFo0cCw",
        "outputId": "959aee89-7c57-467b-e8c2-8e1e89416e2b"
      },
      "outputs": [
        {
          "name": "stderr",
          "output_type": "stream",
          "text": [
            "[nltk_data] Downloading package stopwords to\n",
            "[nltk_data]     /Users/goncalojardim/nltk_data...\n",
            "[nltk_data]   Package stopwords is already up-to-date!\n"
          ]
        },
        {
          "data": {
            "text/plain": [
              "['Joe',\n",
              " 'Biden',\n",
              " 'transition',\n",
              " 'team',\n",
              " 'prepare',\n",
              " 'early',\n",
              " 'push',\n",
              " 'ambitious',\n",
              " 'stimulus',\n",
              " 'bill',\n",
              " 'draw',\n",
              " 'plan',\n",
              " 'flurry',\n",
              " 'executive',\n",
              " 'action']"
            ]
          },
          "execution_count": 21,
          "metadata": {},
          "output_type": "execute_result"
        }
      ],
      "source": [
        "#removal of stopwords allows us to reduce the noise in the data to focus on the signal\n",
        "from nltk.corpus import stopwords\n",
        "nltk.download('stopwords')\n",
        "\n",
        "without_sw = [word for word in lemmatized if not word in stopwords.words()]\n",
        "without_sw[:15]"
      ]
    },
    {
      "cell_type": "code",
      "execution_count": 22,
      "metadata": {
        "colab": {
          "base_uri": "https://localhost:8080/",
          "height": 87
        },
        "id": "BCBqKEUP36wf",
        "outputId": "6ae6beed-5b58-4efe-acae-aceff6e88422"
      },
      "outputs": [
        {
          "data": {
            "text/plain": [
              "'Joe Biden transition team prepare early push ambitious stimulus bill draw plan flurry executive action aim deliver campaign promise undo Trump administration effort undermine key government agency Biden inaugurate January press mandate confront simultaneous interwoven public health economic racial crisis At time team work spearhead complicate politically fraught mass vaccination campaign American history Biden agenda 100 day office accord close group contact top aide center key avenue action passage broad economic aid package legislation series executive action aim advance priority Containing pandemic launch economic recovery tackle racial inequality urgent priority transition official'"
            ]
          },
          "execution_count": 22,
          "metadata": {},
          "output_type": "execute_result"
        }
      ],
      "source": [
        "\" \".join(without_sw)"
      ]
    },
    {
      "cell_type": "code",
      "execution_count": 23,
      "metadata": {
        "colab": {
          "base_uri": "https://localhost:8080/",
          "height": 35
        },
        "id": "iQ4dR4FEZ65J",
        "outputId": "b2dbd7ff-7757-46f0-d4ca-8a502adc2f89"
      },
      "outputs": [
        {
          "data": {
            "text/plain": [
              "'\\nBiden will be inaugurated in January with a pressing mandate to confront simultaneous and interwoven public health, economic and racial crises'"
            ]
          },
          "execution_count": 23,
          "metadata": {},
          "output_type": "execute_result"
        }
      ],
      "source": [
        "text.split('.')[1]"
      ]
    },
    {
      "cell_type": "code",
      "execution_count": null,
      "metadata": {
        "colab": {
          "base_uri": "https://localhost:8080/"
        },
        "id": "kh709ylUdQw1",
        "outputId": "2aa18313-ff43-47ba-d3e2-7523a25f38bb"
      },
      "outputs": [],
      "source": [
        "without_sw"
      ]
    },
    {
      "cell_type": "code",
      "execution_count": 24,
      "metadata": {
        "colab": {
          "base_uri": "https://localhost:8080/",
          "height": 74
        },
        "id": "Oqk5EIM915rt",
        "outputId": "3c4b6419-6c97-4cb1-c3d5-3eb03b395a59"
      },
      "outputs": [
        {
          "data": {
            "text/html": [
              "<style>#sk-container-id-1 {\n",
              "  /* Definition of color scheme common for light and dark mode */\n",
              "  --sklearn-color-text: #000;\n",
              "  --sklearn-color-text-muted: #666;\n",
              "  --sklearn-color-line: gray;\n",
              "  /* Definition of color scheme for unfitted estimators */\n",
              "  --sklearn-color-unfitted-level-0: #fff5e6;\n",
              "  --sklearn-color-unfitted-level-1: #f6e4d2;\n",
              "  --sklearn-color-unfitted-level-2: #ffe0b3;\n",
              "  --sklearn-color-unfitted-level-3: chocolate;\n",
              "  /* Definition of color scheme for fitted estimators */\n",
              "  --sklearn-color-fitted-level-0: #f0f8ff;\n",
              "  --sklearn-color-fitted-level-1: #d4ebff;\n",
              "  --sklearn-color-fitted-level-2: #b3dbfd;\n",
              "  --sklearn-color-fitted-level-3: cornflowerblue;\n",
              "\n",
              "  /* Specific color for light theme */\n",
              "  --sklearn-color-text-on-default-background: var(--sg-text-color, var(--theme-code-foreground, var(--jp-content-font-color1, black)));\n",
              "  --sklearn-color-background: var(--sg-background-color, var(--theme-background, var(--jp-layout-color0, white)));\n",
              "  --sklearn-color-border-box: var(--sg-text-color, var(--theme-code-foreground, var(--jp-content-font-color1, black)));\n",
              "  --sklearn-color-icon: #696969;\n",
              "\n",
              "  @media (prefers-color-scheme: dark) {\n",
              "    /* Redefinition of color scheme for dark theme */\n",
              "    --sklearn-color-text-on-default-background: var(--sg-text-color, var(--theme-code-foreground, var(--jp-content-font-color1, white)));\n",
              "    --sklearn-color-background: var(--sg-background-color, var(--theme-background, var(--jp-layout-color0, #111)));\n",
              "    --sklearn-color-border-box: var(--sg-text-color, var(--theme-code-foreground, var(--jp-content-font-color1, white)));\n",
              "    --sklearn-color-icon: #878787;\n",
              "  }\n",
              "}\n",
              "\n",
              "#sk-container-id-1 {\n",
              "  color: var(--sklearn-color-text);\n",
              "}\n",
              "\n",
              "#sk-container-id-1 pre {\n",
              "  padding: 0;\n",
              "}\n",
              "\n",
              "#sk-container-id-1 input.sk-hidden--visually {\n",
              "  border: 0;\n",
              "  clip: rect(1px 1px 1px 1px);\n",
              "  clip: rect(1px, 1px, 1px, 1px);\n",
              "  height: 1px;\n",
              "  margin: -1px;\n",
              "  overflow: hidden;\n",
              "  padding: 0;\n",
              "  position: absolute;\n",
              "  width: 1px;\n",
              "}\n",
              "\n",
              "#sk-container-id-1 div.sk-dashed-wrapped {\n",
              "  border: 1px dashed var(--sklearn-color-line);\n",
              "  margin: 0 0.4em 0.5em 0.4em;\n",
              "  box-sizing: border-box;\n",
              "  padding-bottom: 0.4em;\n",
              "  background-color: var(--sklearn-color-background);\n",
              "}\n",
              "\n",
              "#sk-container-id-1 div.sk-container {\n",
              "  /* jupyter's `normalize.less` sets `[hidden] { display: none; }`\n",
              "     but bootstrap.min.css set `[hidden] { display: none !important; }`\n",
              "     so we also need the `!important` here to be able to override the\n",
              "     default hidden behavior on the sphinx rendered scikit-learn.org.\n",
              "     See: https://github.com/scikit-learn/scikit-learn/issues/21755 */\n",
              "  display: inline-block !important;\n",
              "  position: relative;\n",
              "}\n",
              "\n",
              "#sk-container-id-1 div.sk-text-repr-fallback {\n",
              "  display: none;\n",
              "}\n",
              "\n",
              "div.sk-parallel-item,\n",
              "div.sk-serial,\n",
              "div.sk-item {\n",
              "  /* draw centered vertical line to link estimators */\n",
              "  background-image: linear-gradient(var(--sklearn-color-text-on-default-background), var(--sklearn-color-text-on-default-background));\n",
              "  background-size: 2px 100%;\n",
              "  background-repeat: no-repeat;\n",
              "  background-position: center center;\n",
              "}\n",
              "\n",
              "/* Parallel-specific style estimator block */\n",
              "\n",
              "#sk-container-id-1 div.sk-parallel-item::after {\n",
              "  content: \"\";\n",
              "  width: 100%;\n",
              "  border-bottom: 2px solid var(--sklearn-color-text-on-default-background);\n",
              "  flex-grow: 1;\n",
              "}\n",
              "\n",
              "#sk-container-id-1 div.sk-parallel {\n",
              "  display: flex;\n",
              "  align-items: stretch;\n",
              "  justify-content: center;\n",
              "  background-color: var(--sklearn-color-background);\n",
              "  position: relative;\n",
              "}\n",
              "\n",
              "#sk-container-id-1 div.sk-parallel-item {\n",
              "  display: flex;\n",
              "  flex-direction: column;\n",
              "}\n",
              "\n",
              "#sk-container-id-1 div.sk-parallel-item:first-child::after {\n",
              "  align-self: flex-end;\n",
              "  width: 50%;\n",
              "}\n",
              "\n",
              "#sk-container-id-1 div.sk-parallel-item:last-child::after {\n",
              "  align-self: flex-start;\n",
              "  width: 50%;\n",
              "}\n",
              "\n",
              "#sk-container-id-1 div.sk-parallel-item:only-child::after {\n",
              "  width: 0;\n",
              "}\n",
              "\n",
              "/* Serial-specific style estimator block */\n",
              "\n",
              "#sk-container-id-1 div.sk-serial {\n",
              "  display: flex;\n",
              "  flex-direction: column;\n",
              "  align-items: center;\n",
              "  background-color: var(--sklearn-color-background);\n",
              "  padding-right: 1em;\n",
              "  padding-left: 1em;\n",
              "}\n",
              "\n",
              "\n",
              "/* Toggleable style: style used for estimator/Pipeline/ColumnTransformer box that is\n",
              "clickable and can be expanded/collapsed.\n",
              "- Pipeline and ColumnTransformer use this feature and define the default style\n",
              "- Estimators will overwrite some part of the style using the `sk-estimator` class\n",
              "*/\n",
              "\n",
              "/* Pipeline and ColumnTransformer style (default) */\n",
              "\n",
              "#sk-container-id-1 div.sk-toggleable {\n",
              "  /* Default theme specific background. It is overwritten whether we have a\n",
              "  specific estimator or a Pipeline/ColumnTransformer */\n",
              "  background-color: var(--sklearn-color-background);\n",
              "}\n",
              "\n",
              "/* Toggleable label */\n",
              "#sk-container-id-1 label.sk-toggleable__label {\n",
              "  cursor: pointer;\n",
              "  display: flex;\n",
              "  width: 100%;\n",
              "  margin-bottom: 0;\n",
              "  padding: 0.5em;\n",
              "  box-sizing: border-box;\n",
              "  text-align: center;\n",
              "  align-items: start;\n",
              "  justify-content: space-between;\n",
              "  gap: 0.5em;\n",
              "}\n",
              "\n",
              "#sk-container-id-1 label.sk-toggleable__label .caption {\n",
              "  font-size: 0.6rem;\n",
              "  font-weight: lighter;\n",
              "  color: var(--sklearn-color-text-muted);\n",
              "}\n",
              "\n",
              "#sk-container-id-1 label.sk-toggleable__label-arrow:before {\n",
              "  /* Arrow on the left of the label */\n",
              "  content: \"▸\";\n",
              "  float: left;\n",
              "  margin-right: 0.25em;\n",
              "  color: var(--sklearn-color-icon);\n",
              "}\n",
              "\n",
              "#sk-container-id-1 label.sk-toggleable__label-arrow:hover:before {\n",
              "  color: var(--sklearn-color-text);\n",
              "}\n",
              "\n",
              "/* Toggleable content - dropdown */\n",
              "\n",
              "#sk-container-id-1 div.sk-toggleable__content {\n",
              "  max-height: 0;\n",
              "  max-width: 0;\n",
              "  overflow: hidden;\n",
              "  text-align: left;\n",
              "  /* unfitted */\n",
              "  background-color: var(--sklearn-color-unfitted-level-0);\n",
              "}\n",
              "\n",
              "#sk-container-id-1 div.sk-toggleable__content.fitted {\n",
              "  /* fitted */\n",
              "  background-color: var(--sklearn-color-fitted-level-0);\n",
              "}\n",
              "\n",
              "#sk-container-id-1 div.sk-toggleable__content pre {\n",
              "  margin: 0.2em;\n",
              "  border-radius: 0.25em;\n",
              "  color: var(--sklearn-color-text);\n",
              "  /* unfitted */\n",
              "  background-color: var(--sklearn-color-unfitted-level-0);\n",
              "}\n",
              "\n",
              "#sk-container-id-1 div.sk-toggleable__content.fitted pre {\n",
              "  /* unfitted */\n",
              "  background-color: var(--sklearn-color-fitted-level-0);\n",
              "}\n",
              "\n",
              "#sk-container-id-1 input.sk-toggleable__control:checked~div.sk-toggleable__content {\n",
              "  /* Expand drop-down */\n",
              "  max-height: 200px;\n",
              "  max-width: 100%;\n",
              "  overflow: auto;\n",
              "}\n",
              "\n",
              "#sk-container-id-1 input.sk-toggleable__control:checked~label.sk-toggleable__label-arrow:before {\n",
              "  content: \"▾\";\n",
              "}\n",
              "\n",
              "/* Pipeline/ColumnTransformer-specific style */\n",
              "\n",
              "#sk-container-id-1 div.sk-label input.sk-toggleable__control:checked~label.sk-toggleable__label {\n",
              "  color: var(--sklearn-color-text);\n",
              "  background-color: var(--sklearn-color-unfitted-level-2);\n",
              "}\n",
              "\n",
              "#sk-container-id-1 div.sk-label.fitted input.sk-toggleable__control:checked~label.sk-toggleable__label {\n",
              "  background-color: var(--sklearn-color-fitted-level-2);\n",
              "}\n",
              "\n",
              "/* Estimator-specific style */\n",
              "\n",
              "/* Colorize estimator box */\n",
              "#sk-container-id-1 div.sk-estimator input.sk-toggleable__control:checked~label.sk-toggleable__label {\n",
              "  /* unfitted */\n",
              "  background-color: var(--sklearn-color-unfitted-level-2);\n",
              "}\n",
              "\n",
              "#sk-container-id-1 div.sk-estimator.fitted input.sk-toggleable__control:checked~label.sk-toggleable__label {\n",
              "  /* fitted */\n",
              "  background-color: var(--sklearn-color-fitted-level-2);\n",
              "}\n",
              "\n",
              "#sk-container-id-1 div.sk-label label.sk-toggleable__label,\n",
              "#sk-container-id-1 div.sk-label label {\n",
              "  /* The background is the default theme color */\n",
              "  color: var(--sklearn-color-text-on-default-background);\n",
              "}\n",
              "\n",
              "/* On hover, darken the color of the background */\n",
              "#sk-container-id-1 div.sk-label:hover label.sk-toggleable__label {\n",
              "  color: var(--sklearn-color-text);\n",
              "  background-color: var(--sklearn-color-unfitted-level-2);\n",
              "}\n",
              "\n",
              "/* Label box, darken color on hover, fitted */\n",
              "#sk-container-id-1 div.sk-label.fitted:hover label.sk-toggleable__label.fitted {\n",
              "  color: var(--sklearn-color-text);\n",
              "  background-color: var(--sklearn-color-fitted-level-2);\n",
              "}\n",
              "\n",
              "/* Estimator label */\n",
              "\n",
              "#sk-container-id-1 div.sk-label label {\n",
              "  font-family: monospace;\n",
              "  font-weight: bold;\n",
              "  display: inline-block;\n",
              "  line-height: 1.2em;\n",
              "}\n",
              "\n",
              "#sk-container-id-1 div.sk-label-container {\n",
              "  text-align: center;\n",
              "}\n",
              "\n",
              "/* Estimator-specific */\n",
              "#sk-container-id-1 div.sk-estimator {\n",
              "  font-family: monospace;\n",
              "  border: 1px dotted var(--sklearn-color-border-box);\n",
              "  border-radius: 0.25em;\n",
              "  box-sizing: border-box;\n",
              "  margin-bottom: 0.5em;\n",
              "  /* unfitted */\n",
              "  background-color: var(--sklearn-color-unfitted-level-0);\n",
              "}\n",
              "\n",
              "#sk-container-id-1 div.sk-estimator.fitted {\n",
              "  /* fitted */\n",
              "  background-color: var(--sklearn-color-fitted-level-0);\n",
              "}\n",
              "\n",
              "/* on hover */\n",
              "#sk-container-id-1 div.sk-estimator:hover {\n",
              "  /* unfitted */\n",
              "  background-color: var(--sklearn-color-unfitted-level-2);\n",
              "}\n",
              "\n",
              "#sk-container-id-1 div.sk-estimator.fitted:hover {\n",
              "  /* fitted */\n",
              "  background-color: var(--sklearn-color-fitted-level-2);\n",
              "}\n",
              "\n",
              "/* Specification for estimator info (e.g. \"i\" and \"?\") */\n",
              "\n",
              "/* Common style for \"i\" and \"?\" */\n",
              "\n",
              ".sk-estimator-doc-link,\n",
              "a:link.sk-estimator-doc-link,\n",
              "a:visited.sk-estimator-doc-link {\n",
              "  float: right;\n",
              "  font-size: smaller;\n",
              "  line-height: 1em;\n",
              "  font-family: monospace;\n",
              "  background-color: var(--sklearn-color-background);\n",
              "  border-radius: 1em;\n",
              "  height: 1em;\n",
              "  width: 1em;\n",
              "  text-decoration: none !important;\n",
              "  margin-left: 0.5em;\n",
              "  text-align: center;\n",
              "  /* unfitted */\n",
              "  border: var(--sklearn-color-unfitted-level-1) 1pt solid;\n",
              "  color: var(--sklearn-color-unfitted-level-1);\n",
              "}\n",
              "\n",
              ".sk-estimator-doc-link.fitted,\n",
              "a:link.sk-estimator-doc-link.fitted,\n",
              "a:visited.sk-estimator-doc-link.fitted {\n",
              "  /* fitted */\n",
              "  border: var(--sklearn-color-fitted-level-1) 1pt solid;\n",
              "  color: var(--sklearn-color-fitted-level-1);\n",
              "}\n",
              "\n",
              "/* On hover */\n",
              "div.sk-estimator:hover .sk-estimator-doc-link:hover,\n",
              ".sk-estimator-doc-link:hover,\n",
              "div.sk-label-container:hover .sk-estimator-doc-link:hover,\n",
              ".sk-estimator-doc-link:hover {\n",
              "  /* unfitted */\n",
              "  background-color: var(--sklearn-color-unfitted-level-3);\n",
              "  color: var(--sklearn-color-background);\n",
              "  text-decoration: none;\n",
              "}\n",
              "\n",
              "div.sk-estimator.fitted:hover .sk-estimator-doc-link.fitted:hover,\n",
              ".sk-estimator-doc-link.fitted:hover,\n",
              "div.sk-label-container:hover .sk-estimator-doc-link.fitted:hover,\n",
              ".sk-estimator-doc-link.fitted:hover {\n",
              "  /* fitted */\n",
              "  background-color: var(--sklearn-color-fitted-level-3);\n",
              "  color: var(--sklearn-color-background);\n",
              "  text-decoration: none;\n",
              "}\n",
              "\n",
              "/* Span, style for the box shown on hovering the info icon */\n",
              ".sk-estimator-doc-link span {\n",
              "  display: none;\n",
              "  z-index: 9999;\n",
              "  position: relative;\n",
              "  font-weight: normal;\n",
              "  right: .2ex;\n",
              "  padding: .5ex;\n",
              "  margin: .5ex;\n",
              "  width: min-content;\n",
              "  min-width: 20ex;\n",
              "  max-width: 50ex;\n",
              "  color: var(--sklearn-color-text);\n",
              "  box-shadow: 2pt 2pt 4pt #999;\n",
              "  /* unfitted */\n",
              "  background: var(--sklearn-color-unfitted-level-0);\n",
              "  border: .5pt solid var(--sklearn-color-unfitted-level-3);\n",
              "}\n",
              "\n",
              ".sk-estimator-doc-link.fitted span {\n",
              "  /* fitted */\n",
              "  background: var(--sklearn-color-fitted-level-0);\n",
              "  border: var(--sklearn-color-fitted-level-3);\n",
              "}\n",
              "\n",
              ".sk-estimator-doc-link:hover span {\n",
              "  display: block;\n",
              "}\n",
              "\n",
              "/* \"?\"-specific style due to the `<a>` HTML tag */\n",
              "\n",
              "#sk-container-id-1 a.estimator_doc_link {\n",
              "  float: right;\n",
              "  font-size: 1rem;\n",
              "  line-height: 1em;\n",
              "  font-family: monospace;\n",
              "  background-color: var(--sklearn-color-background);\n",
              "  border-radius: 1rem;\n",
              "  height: 1rem;\n",
              "  width: 1rem;\n",
              "  text-decoration: none;\n",
              "  /* unfitted */\n",
              "  color: var(--sklearn-color-unfitted-level-1);\n",
              "  border: var(--sklearn-color-unfitted-level-1) 1pt solid;\n",
              "}\n",
              "\n",
              "#sk-container-id-1 a.estimator_doc_link.fitted {\n",
              "  /* fitted */\n",
              "  border: var(--sklearn-color-fitted-level-1) 1pt solid;\n",
              "  color: var(--sklearn-color-fitted-level-1);\n",
              "}\n",
              "\n",
              "/* On hover */\n",
              "#sk-container-id-1 a.estimator_doc_link:hover {\n",
              "  /* unfitted */\n",
              "  background-color: var(--sklearn-color-unfitted-level-3);\n",
              "  color: var(--sklearn-color-background);\n",
              "  text-decoration: none;\n",
              "}\n",
              "\n",
              "#sk-container-id-1 a.estimator_doc_link.fitted:hover {\n",
              "  /* fitted */\n",
              "  background-color: var(--sklearn-color-fitted-level-3);\n",
              "}\n",
              "</style><div id=\"sk-container-id-1\" class=\"sk-top-container\"><div class=\"sk-text-repr-fallback\"><pre>CountVectorizer()</pre><b>In a Jupyter environment, please rerun this cell to show the HTML representation or trust the notebook. <br />On GitHub, the HTML representation is unable to render, please try loading this page with nbviewer.org.</b></div><div class=\"sk-container\" hidden><div class=\"sk-item\"><div class=\"sk-estimator fitted sk-toggleable\"><input class=\"sk-toggleable__control sk-hidden--visually\" id=\"sk-estimator-id-1\" type=\"checkbox\" checked><label for=\"sk-estimator-id-1\" class=\"sk-toggleable__label fitted sk-toggleable__label-arrow\"><div><div>CountVectorizer</div></div><div><a class=\"sk-estimator-doc-link fitted\" rel=\"noreferrer\" target=\"_blank\" href=\"https://scikit-learn.org/1.6/modules/generated/sklearn.feature_extraction.text.CountVectorizer.html\">?<span>Documentation for CountVectorizer</span></a><span class=\"sk-estimator-doc-link fitted\">i<span>Fitted</span></span></div></label><div class=\"sk-toggleable__content fitted\"><pre>CountVectorizer()</pre></div> </div></div></div></div>"
            ],
            "text/plain": [
              "CountVectorizer()"
            ]
          },
          "execution_count": 24,
          "metadata": {},
          "output_type": "execute_result"
        }
      ],
      "source": [
        "from sklearn.feature_extraction.text import CountVectorizer\n",
        "bow_vect = CountVectorizer()\n",
        "# fit creates one entry for each different word seen\n",
        "bow_vect.fit([\" \".join(without_sw)])"
      ]
    },
    {
      "cell_type": "code",
      "execution_count": 25,
      "metadata": {
        "colab": {
          "base_uri": "https://localhost:8080/"
        },
        "id": "xL0968bwds6q",
        "outputId": "4dfda9a8-f5c9-4d7d-9115-5a036b089cc5"
      },
      "outputs": [
        {
          "data": {
            "text/plain": [
              "{'100',\n",
              " 'American',\n",
              " 'At',\n",
              " 'Biden',\n",
              " 'Containing',\n",
              " 'January',\n",
              " 'Joe',\n",
              " 'Trump',\n",
              " 'accord',\n",
              " 'action',\n",
              " 'administration',\n",
              " 'advance',\n",
              " 'agency',\n",
              " 'agenda',\n",
              " 'aid',\n",
              " 'aide',\n",
              " 'aim',\n",
              " 'ambitious',\n",
              " 'avenue',\n",
              " 'bill',\n",
              " 'broad',\n",
              " 'campaign',\n",
              " 'center',\n",
              " 'close',\n",
              " 'complicate',\n",
              " 'confront',\n",
              " 'contact',\n",
              " 'crisis',\n",
              " 'day',\n",
              " 'deliver',\n",
              " 'draw',\n",
              " 'early',\n",
              " 'economic',\n",
              " 'effort',\n",
              " 'executive',\n",
              " 'flurry',\n",
              " 'fraught',\n",
              " 'government',\n",
              " 'group',\n",
              " 'health',\n",
              " 'history',\n",
              " 'inaugurate',\n",
              " 'inequality',\n",
              " 'interwoven',\n",
              " 'key',\n",
              " 'launch',\n",
              " 'legislation',\n",
              " 'mandate',\n",
              " 'mass',\n",
              " 'office',\n",
              " 'official',\n",
              " 'package',\n",
              " 'pandemic',\n",
              " 'passage',\n",
              " 'plan',\n",
              " 'politically',\n",
              " 'prepare',\n",
              " 'press',\n",
              " 'priority',\n",
              " 'promise',\n",
              " 'public',\n",
              " 'push',\n",
              " 'racial',\n",
              " 'recovery',\n",
              " 'series',\n",
              " 'simultaneous',\n",
              " 'spearhead',\n",
              " 'stimulus',\n",
              " 'tackle',\n",
              " 'team',\n",
              " 'time',\n",
              " 'top',\n",
              " 'transition',\n",
              " 'undermine',\n",
              " 'undo',\n",
              " 'urgent',\n",
              " 'vaccination',\n",
              " 'work'}"
            ]
          },
          "execution_count": 25,
          "metadata": {},
          "output_type": "execute_result"
        }
      ],
      "source": [
        "set(without_sw)"
      ]
    },
    {
      "cell_type": "code",
      "execution_count": 26,
      "metadata": {
        "colab": {
          "base_uri": "https://localhost:8080/"
        },
        "id": "yWcjuCLI1ny4",
        "outputId": "5d9a4519-c2dc-497c-8729-681eb024b054"
      },
      "outputs": [
        {
          "data": {
            "text/plain": [
              "array([[0, 0, 1, 1, 0, 1, 0, 0, 0, 1, 1, 0, 0, 0, 1, 1, 0, 1, 0, 0, 0, 0,\n",
              "        0, 0, 0, 0, 1, 1, 1, 0, 1, 1, 1, 0, 1, 0, 0, 0, 0, 0, 0, 0, 1, 1,\n",
              "        0, 0, 0, 0, 0, 0, 0, 0, 0, 1, 0, 1, 0, 0, 1, 0, 1, 0, 0, 0, 0, 0,\n",
              "        1, 0, 1, 0, 0, 1, 1, 1, 1, 0, 0, 0]])"
            ]
          },
          "execution_count": 26,
          "metadata": {},
          "output_type": "execute_result"
        }
      ],
      "source": [
        "bow_vect.transform(['Joe Biden transition team prepare early push ambitious stimulus bill draw plan flurry executive action aim deliver campaign promise undo Trump administration effort undermine key government agency']).toarray()"
      ]
    },
    {
      "cell_type": "code",
      "execution_count": 27,
      "metadata": {
        "colab": {
          "base_uri": "https://localhost:8080/"
        },
        "id": "x2s4dykkqL19",
        "outputId": "6b179e94-3384-42ac-ce1b-97880860e7e6"
      },
      "outputs": [
        {
          "data": {
            "text/plain": [
              "array([[0, 0, 0, 0, 0, 0, 0, 0, 0, 0, 0, 0, 0, 0, 0, 0, 0, 0, 0, 0, 0, 0,\n",
              "        0, 0, 0, 0, 0, 0, 0, 2, 0, 0, 0, 0, 0, 0, 0, 0, 0, 0, 0, 0, 0, 0,\n",
              "        0, 0, 0, 0, 0, 0, 0, 0, 0, 0, 0, 0, 0, 0, 0, 0, 0, 0, 0, 0, 0, 0,\n",
              "        0, 0, 0, 0, 0, 0, 0, 0, 0, 0, 0, 0]])"
            ]
          },
          "execution_count": 27,
          "metadata": {},
          "output_type": "execute_result"
        }
      ],
      "source": [
        "bow_vect.transform(['economic economic']).toarray()"
      ]
    },
    {
      "cell_type": "code",
      "execution_count": 28,
      "metadata": {
        "colab": {
          "base_uri": "https://localhost:8080/"
        },
        "id": "lgMKeihKhKfH",
        "outputId": "05e505aa-bff9-4e99-e7d9-c182e8a8ad73"
      },
      "outputs": [
        {
          "data": {
            "text/plain": [
              "array([[0, 0, 0, 0, 0, 0, 0, 0, 0, 0, 2, 0, 0, 0, 0, 0, 0, 0, 0, 0, 0, 0,\n",
              "        0, 0, 0, 0, 0, 0, 0, 1, 0, 0, 0, 0, 0, 0, 0, 0, 0, 0, 0, 0, 1, 0,\n",
              "        0, 0, 0, 0, 0, 0, 0, 0, 0, 0, 0, 0, 0, 0, 0, 0, 0, 0, 0, 0, 0, 0,\n",
              "        0, 0, 0, 0, 0, 0, 0, 0, 0, 0, 0, 1]])"
            ]
          },
          "execution_count": 28,
          "metadata": {},
          "output_type": "execute_result"
        }
      ],
      "source": [
        "bow_vect.transform(['Joe work ambitious ambitious ambitoud economic rabbit']).toarray()"
      ]
    },
    {
      "cell_type": "code",
      "execution_count": 29,
      "metadata": {
        "colab": {
          "base_uri": "https://localhost:8080/"
        },
        "id": "ewJAxZOqSriL",
        "outputId": "2e2ca413-5680-4392-8b7e-56e47b22c482"
      },
      "outputs": [
        {
          "data": {
            "text/plain": [
              "array([[1, 0, 0, 0, 0, 0, 0, 0, 0, 0, 0, 0, 0, 0, 0, 0, 0, 0, 0, 0, 0, 0,\n",
              "        0, 0, 0, 0, 0, 0, 0, 0, 0, 0, 0, 0, 0, 0, 0, 0, 0, 0, 0, 0, 0, 0,\n",
              "        0, 0, 0, 0, 0, 0, 0, 0, 0, 0, 0, 0, 0, 0, 0, 0, 0, 0, 0, 0, 0, 0,\n",
              "        0, 0, 0, 0, 0, 0, 0, 0, 0, 0, 0, 0]])"
            ]
          },
          "execution_count": 29,
          "metadata": {},
          "output_type": "execute_result"
        }
      ],
      "source": [
        "bow_vect.transform(['100']).toarray()"
      ]
    },
    {
      "cell_type": "code",
      "execution_count": 30,
      "metadata": {
        "colab": {
          "base_uri": "https://localhost:8080/"
        },
        "id": "QcQpNkUfeabH",
        "outputId": "52d7c1b9-09fd-4f79-821a-534b5cc58bf1"
      },
      "outputs": [
        {
          "data": {
            "text/plain": [
              "array([[0, 0, 0, 0, 0, 0, 0, 0, 0, 0, 0, 0, 0, 0, 0, 0, 0, 0, 0, 0, 0, 0,\n",
              "        0, 0, 0, 0, 0, 0, 0, 0, 0, 0, 0, 0, 0, 0, 0, 0, 0, 0, 0, 0, 0, 0,\n",
              "        0, 0, 0, 0, 0, 0, 0, 0, 0, 0, 0, 0, 0, 0, 0, 0, 0, 0, 0, 0, 0, 0,\n",
              "        0, 0, 0, 0, 0, 0, 0, 0, 0, 0, 0, 0]])"
            ]
          },
          "execution_count": 30,
          "metadata": {},
          "output_type": "execute_result"
        }
      ],
      "source": [
        "bow_vect.transform(['goncalo']).toarray()"
      ]
    },
    {
      "cell_type": "code",
      "execution_count": 31,
      "metadata": {
        "colab": {
          "base_uri": "https://localhost:8080/"
        },
        "id": "bNkASYyV2DH3",
        "outputId": "3e9df696-3584-4f5f-fa0c-8cf737135175"
      },
      "outputs": [
        {
          "data": {
            "text/plain": [
              "array([[0, 1, 0, 0, 0, 0, 0, 0, 0, 0, 0, 0, 0, 0, 0, 2, 0, 0, 0, 0, 0, 0,\n",
              "        0, 0, 0, 0, 0, 0, 0, 0, 0, 0, 0, 0, 0, 0, 0, 0, 0, 0, 0, 0, 0, 0,\n",
              "        0, 0, 0, 0, 0, 0, 0, 0, 0, 0, 0, 0, 0, 0, 0, 0, 0, 0, 0, 0, 0, 0,\n",
              "        1, 0, 0, 0, 0, 0, 0, 0, 0, 0, 0, 0]])"
            ]
          },
          "execution_count": 31,
          "metadata": {},
          "output_type": "execute_result"
        }
      ],
      "source": [
        "#transform only considers the words that have been seen in fit\n",
        "bow_vect.transform(['accord stimulus bill bill goncalo']).toarray()"
      ]
    },
    {
      "cell_type": "markdown",
      "metadata": {
        "id": "R2O3h0Cztetj"
      },
      "source": [
        "# News clustering example"
      ]
    },
    {
      "cell_type": "code",
      "execution_count": 34,
      "metadata": {
        "colab": {
          "base_uri": "https://localhost:8080/",
          "height": 240
        },
        "id": "YgOIJ55E15xv",
        "outputId": "a92426dc-49ab-437a-fd4b-14098c81a894"
      },
      "outputs": [
        {
          "data": {
            "text/html": [
              "<div>\n",
              "<style scoped>\n",
              "    .dataframe tbody tr th:only-of-type {\n",
              "        vertical-align: middle;\n",
              "    }\n",
              "\n",
              "    .dataframe tbody tr th {\n",
              "        vertical-align: top;\n",
              "    }\n",
              "\n",
              "    .dataframe thead th {\n",
              "        text-align: right;\n",
              "    }\n",
              "</style>\n",
              "<table border=\"1\" class=\"dataframe\">\n",
              "  <thead>\n",
              "    <tr style=\"text-align: right;\">\n",
              "      <th></th>\n",
              "      <th>news</th>\n",
              "    </tr>\n",
              "  </thead>\n",
              "  <tbody>\n",
              "    <tr>\n",
              "      <th>0</th>\n",
              "      <td>SAN FRANCISCO (CBS.MW) -- Dell Inc. said Thurs...</td>\n",
              "    </tr>\n",
              "    <tr>\n",
              "      <th>1</th>\n",
              "      <td>American Phil Mickelson registered a 59 to win...</td>\n",
              "    </tr>\n",
              "    <tr>\n",
              "      <th>2</th>\n",
              "      <td>French President Jacques Chirac and British Pr...</td>\n",
              "    </tr>\n",
              "    <tr>\n",
              "      <th>3</th>\n",
              "      <td>As many as 15,000 New Zealanders will be force...</td>\n",
              "    </tr>\n",
              "    <tr>\n",
              "      <th>4</th>\n",
              "      <td>The group led by al Qaeda ally Abu Musab  al-Z...</td>\n",
              "    </tr>\n",
              "    <tr>\n",
              "      <th>5</th>\n",
              "      <td>The number of US call centers is expected to d...</td>\n",
              "    </tr>\n",
              "    <tr>\n",
              "      <th>6</th>\n",
              "      <td>PITCHING: Braves left-hander Mike Hampton, al...</td>\n",
              "    </tr>\n",
              "    <tr>\n",
              "      <th>7</th>\n",
              "      <td>Bank of America Corp. has said it #39;s bringi...</td>\n",
              "    </tr>\n",
              "    <tr>\n",
              "      <th>8</th>\n",
              "      <td>It appears Dario Franchitti of Scotland is get...</td>\n",
              "    </tr>\n",
              "    <tr>\n",
              "      <th>9</th>\n",
              "      <td>Two days ago, before he would add another chap...</td>\n",
              "    </tr>\n",
              "  </tbody>\n",
              "</table>\n",
              "</div>"
            ],
            "text/plain": [
              "                                                news\n",
              "0  SAN FRANCISCO (CBS.MW) -- Dell Inc. said Thurs...\n",
              "1  American Phil Mickelson registered a 59 to win...\n",
              "2  French President Jacques Chirac and British Pr...\n",
              "3  As many as 15,000 New Zealanders will be force...\n",
              "4  The group led by al Qaeda ally Abu Musab  al-Z...\n",
              "5  The number of US call centers is expected to d...\n",
              "6   PITCHING: Braves left-hander Mike Hampton, al...\n",
              "7  Bank of America Corp. has said it #39;s bringi...\n",
              "8  It appears Dario Franchitti of Scotland is get...\n",
              "9  Two days ago, before he would add another chap..."
            ]
          },
          "execution_count": 34,
          "metadata": {},
          "output_type": "execute_result"
        }
      ],
      "source": [
        "# corpus of 120k news headlines, here shortened to 10k\n",
        "url = \"https://raw.githubusercontent.com/GoncaloJardim/ironhack-v4-data-lessons/main/data/news.csv\"\n",
        "\n",
        "\n",
        "all_news = pd.read_csv(url)\n",
        "all_news.head(10)"
      ]
    },
    {
      "cell_type": "code",
      "execution_count": 35,
      "metadata": {
        "colab": {
          "base_uri": "https://localhost:8080/"
        },
        "id": "d6GIucs6We0f",
        "outputId": "76d79895-6c0d-4abc-8e46-dc0cc2180db2"
      },
      "outputs": [
        {
          "data": {
            "text/plain": [
              "(10000, 1)"
            ]
          },
          "execution_count": 35,
          "metadata": {},
          "output_type": "execute_result"
        }
      ],
      "source": [
        "all_news.shape"
      ]
    },
    {
      "cell_type": "code",
      "execution_count": 37,
      "metadata": {
        "colab": {
          "base_uri": "https://localhost:8080/",
          "height": 52
        },
        "id": "A1yquYlKtKt-",
        "outputId": "48a49f99-f646-4970-9086-4ba0ad952e7b"
      },
      "outputs": [
        {
          "data": {
            "text/plain": [
              "'American Phil Mickelson registered a 59 to win the Grand Slam of Golf in Kauai, Hawaii. The Masters champion had an eagle putt on the 18th for a record 58 but missed and tapped in for a birdie and a 59, equalling the lowest score in stroke-play history.'"
            ]
          },
          "execution_count": 37,
          "metadata": {},
          "output_type": "execute_result"
        }
      ],
      "source": [
        "all_news.iloc[1]['news']"
      ]
    },
    {
      "cell_type": "code",
      "execution_count": 38,
      "metadata": {
        "colab": {
          "base_uri": "https://localhost:8080/",
          "height": 327
        },
        "id": "XCzORQ3jEvcE",
        "outputId": "8ad04b7e-b777-4191-ad83-1af3cd7bcacf"
      },
      "outputs": [
        {
          "data": {
            "text/html": [
              "<div>\n",
              "<style scoped>\n",
              "    .dataframe tbody tr th:only-of-type {\n",
              "        vertical-align: middle;\n",
              "    }\n",
              "\n",
              "    .dataframe tbody tr th {\n",
              "        vertical-align: top;\n",
              "    }\n",
              "\n",
              "    .dataframe thead th {\n",
              "        text-align: right;\n",
              "    }\n",
              "</style>\n",
              "<table border=\"1\" class=\"dataframe\">\n",
              "  <thead>\n",
              "    <tr style=\"text-align: right;\">\n",
              "      <th></th>\n",
              "      <th>news</th>\n",
              "      <th>tokenized</th>\n",
              "    </tr>\n",
              "  </thead>\n",
              "  <tbody>\n",
              "    <tr>\n",
              "      <th>0</th>\n",
              "      <td>SAN FRANCISCO (CBS.MW) -- Dell Inc. said Thurs...</td>\n",
              "      <td>[san, francisco, dell, said, thursday, its, pr...</td>\n",
              "    </tr>\n",
              "    <tr>\n",
              "      <th>1</th>\n",
              "      <td>American Phil Mickelson registered a 59 to win...</td>\n",
              "      <td>[american, phil, mickelson, registered, a, to,...</td>\n",
              "    </tr>\n",
              "    <tr>\n",
              "      <th>2</th>\n",
              "      <td>French President Jacques Chirac and British Pr...</td>\n",
              "      <td>[french, president, jacques, chirac, and, brit...</td>\n",
              "    </tr>\n",
              "    <tr>\n",
              "      <th>3</th>\n",
              "      <td>As many as 15,000 New Zealanders will be force...</td>\n",
              "      <td>[as, many, as, new, zealanders, will, be, forc...</td>\n",
              "    </tr>\n",
              "    <tr>\n",
              "      <th>4</th>\n",
              "      <td>The group led by al Qaeda ally Abu Musab  al-Z...</td>\n",
              "      <td>[the, group, led, by, al, qaeda, ally, abu, mu...</td>\n",
              "    </tr>\n",
              "  </tbody>\n",
              "</table>\n",
              "</div>"
            ],
            "text/plain": [
              "                                                news  \\\n",
              "0  SAN FRANCISCO (CBS.MW) -- Dell Inc. said Thurs...   \n",
              "1  American Phil Mickelson registered a 59 to win...   \n",
              "2  French President Jacques Chirac and British Pr...   \n",
              "3  As many as 15,000 New Zealanders will be force...   \n",
              "4  The group led by al Qaeda ally Abu Musab  al-Z...   \n",
              "\n",
              "                                           tokenized  \n",
              "0  [san, francisco, dell, said, thursday, its, pr...  \n",
              "1  [american, phil, mickelson, registered, a, to,...  \n",
              "2  [french, president, jacques, chirac, and, brit...  \n",
              "3  [as, many, as, new, zealanders, will, be, forc...  \n",
              "4  [the, group, led, by, al, qaeda, ally, abu, mu...  "
            ]
          },
          "execution_count": 38,
          "metadata": {},
          "output_type": "execute_result"
        }
      ],
      "source": [
        "# same process as before, but for all lines\n",
        "#tokenize, lowercase, remove punctuation\n",
        "\n",
        "def tokenizer_and_remove_punctuation(row):\n",
        "  tokens = word_tokenize(row['news'])\n",
        "  return [word.lower() for word in tokens if word.isalpha()]\n",
        "\n",
        "all_news['tokenized'] = all_news.apply(tokenizer_and_remove_punctuation,axis=1)\n",
        "all_news.head()"
      ]
    },
    {
      "cell_type": "code",
      "execution_count": 39,
      "metadata": {
        "colab": {
          "base_uri": "https://localhost:8080/",
          "height": 414
        },
        "id": "HnvmW_m_Eve8",
        "outputId": "27f13363-669a-447e-9a66-55d58670c9bd"
      },
      "outputs": [
        {
          "data": {
            "text/html": [
              "<div>\n",
              "<style scoped>\n",
              "    .dataframe tbody tr th:only-of-type {\n",
              "        vertical-align: middle;\n",
              "    }\n",
              "\n",
              "    .dataframe tbody tr th {\n",
              "        vertical-align: top;\n",
              "    }\n",
              "\n",
              "    .dataframe thead th {\n",
              "        text-align: right;\n",
              "    }\n",
              "</style>\n",
              "<table border=\"1\" class=\"dataframe\">\n",
              "  <thead>\n",
              "    <tr style=\"text-align: right;\">\n",
              "      <th></th>\n",
              "      <th>news</th>\n",
              "      <th>tokenized</th>\n",
              "      <th>lemmatized</th>\n",
              "    </tr>\n",
              "  </thead>\n",
              "  <tbody>\n",
              "    <tr>\n",
              "      <th>0</th>\n",
              "      <td>SAN FRANCISCO (CBS.MW) -- Dell Inc. said Thurs...</td>\n",
              "      <td>[san, francisco, dell, said, thursday, its, pr...</td>\n",
              "      <td>[san, francisco, dell, say, thursday, it, prof...</td>\n",
              "    </tr>\n",
              "    <tr>\n",
              "      <th>1</th>\n",
              "      <td>American Phil Mickelson registered a 59 to win...</td>\n",
              "      <td>[american, phil, mickelson, registered, a, to,...</td>\n",
              "      <td>[american, phil, mickelson, register, a, to, w...</td>\n",
              "    </tr>\n",
              "    <tr>\n",
              "      <th>2</th>\n",
              "      <td>French President Jacques Chirac and British Pr...</td>\n",
              "      <td>[french, president, jacques, chirac, and, brit...</td>\n",
              "      <td>[french, president, jacques, chirac, and, brit...</td>\n",
              "    </tr>\n",
              "    <tr>\n",
              "      <th>3</th>\n",
              "      <td>As many as 15,000 New Zealanders will be force...</td>\n",
              "      <td>[as, many, as, new, zealanders, will, be, forc...</td>\n",
              "      <td>[a, many, a, new, zealander, will, be, force, ...</td>\n",
              "    </tr>\n",
              "    <tr>\n",
              "      <th>4</th>\n",
              "      <td>The group led by al Qaeda ally Abu Musab  al-Z...</td>\n",
              "      <td>[the, group, led, by, al, qaeda, ally, abu, mu...</td>\n",
              "      <td>[the, group, lead, by, al, qaeda, ally, abu, m...</td>\n",
              "    </tr>\n",
              "  </tbody>\n",
              "</table>\n",
              "</div>"
            ],
            "text/plain": [
              "                                                news  \\\n",
              "0  SAN FRANCISCO (CBS.MW) -- Dell Inc. said Thurs...   \n",
              "1  American Phil Mickelson registered a 59 to win...   \n",
              "2  French President Jacques Chirac and British Pr...   \n",
              "3  As many as 15,000 New Zealanders will be force...   \n",
              "4  The group led by al Qaeda ally Abu Musab  al-Z...   \n",
              "\n",
              "                                           tokenized  \\\n",
              "0  [san, francisco, dell, said, thursday, its, pr...   \n",
              "1  [american, phil, mickelson, registered, a, to,...   \n",
              "2  [french, president, jacques, chirac, and, brit...   \n",
              "3  [as, many, as, new, zealanders, will, be, forc...   \n",
              "4  [the, group, led, by, al, qaeda, ally, abu, mu...   \n",
              "\n",
              "                                          lemmatized  \n",
              "0  [san, francisco, dell, say, thursday, it, prof...  \n",
              "1  [american, phil, mickelson, register, a, to, w...  \n",
              "2  [french, president, jacques, chirac, and, brit...  \n",
              "3  [a, many, a, new, zealander, will, be, force, ...  \n",
              "4  [the, group, lead, by, al, qaeda, ally, abu, m...  "
            ]
          },
          "execution_count": 39,
          "metadata": {},
          "output_type": "execute_result"
        }
      ],
      "source": [
        "# lemmatize with part of speech helpers\n",
        "\n",
        "lemmatizer = WordNetLemmatizer()\n",
        "\n",
        "def lemmatizer_with_pos(row):\n",
        "  return [lemmatizer.lemmatize(word,get_wordnet_pos(word)) for word in row['tokenized']]\n",
        "\n",
        "all_news['lemmatized'] = all_news.apply(lemmatizer_with_pos,axis=1)\n",
        "all_news.head()"
      ]
    },
    {
      "cell_type": "code",
      "execution_count": 40,
      "metadata": {
        "colab": {
          "base_uri": "https://localhost:8080/",
          "height": 483
        },
        "id": "vViv80x-GsAT",
        "outputId": "077c4915-caf0-41a1-c4e6-e038a45f3d33"
      },
      "outputs": [
        {
          "data": {
            "text/html": [
              "<div>\n",
              "<style scoped>\n",
              "    .dataframe tbody tr th:only-of-type {\n",
              "        vertical-align: middle;\n",
              "    }\n",
              "\n",
              "    .dataframe tbody tr th {\n",
              "        vertical-align: top;\n",
              "    }\n",
              "\n",
              "    .dataframe thead th {\n",
              "        text-align: right;\n",
              "    }\n",
              "</style>\n",
              "<table border=\"1\" class=\"dataframe\">\n",
              "  <thead>\n",
              "    <tr style=\"text-align: right;\">\n",
              "      <th></th>\n",
              "      <th>news</th>\n",
              "      <th>tokenized</th>\n",
              "      <th>lemmatized</th>\n",
              "      <th>no_stopwords</th>\n",
              "    </tr>\n",
              "  </thead>\n",
              "  <tbody>\n",
              "    <tr>\n",
              "      <th>0</th>\n",
              "      <td>SAN FRANCISCO (CBS.MW) -- Dell Inc. said Thurs...</td>\n",
              "      <td>[san, francisco, dell, said, thursday, its, pr...</td>\n",
              "      <td>[san, francisco, dell, say, thursday, it, prof...</td>\n",
              "      <td>[profit, laptop, percent, rise, san, earlier, ...</td>\n",
              "    </tr>\n",
              "    <tr>\n",
              "      <th>1</th>\n",
              "      <td>American Phil Mickelson registered a 59 to win...</td>\n",
              "      <td>[american, phil, mickelson, registered, a, to,...</td>\n",
              "      <td>[american, phil, mickelson, register, a, to, w...</td>\n",
              "      <td>[hawaii, low, record, grand, tapped, kauai, ma...</td>\n",
              "    </tr>\n",
              "    <tr>\n",
              "      <th>2</th>\n",
              "      <td>French President Jacques Chirac and British Pr...</td>\n",
              "      <td>[french, president, jacques, chirac, and, brit...</td>\n",
              "      <td>[french, president, jacques, chirac, and, brit...</td>\n",
              "      <td>[number, tony, french, chirac, international, ...</td>\n",
              "    </tr>\n",
              "    <tr>\n",
              "      <th>3</th>\n",
              "      <td>As many as 15,000 New Zealanders will be force...</td>\n",
              "      <td>[as, many, as, new, zealanders, will, be, forc...</td>\n",
              "      <td>[a, many, a, new, zealander, will, be, force, ...</td>\n",
              "      <td>[pain, found, attack, alternative, zealander, ...</td>\n",
              "    </tr>\n",
              "    <tr>\n",
              "      <th>4</th>\n",
              "      <td>The group led by al Qaeda ally Abu Musab  al-Z...</td>\n",
              "      <td>[the, group, led, by, al, qaeda, ally, abu, mu...</td>\n",
              "      <td>[the, group, lead, by, al, qaeda, ally, abu, m...</td>\n",
              "      <td>[behead, found, musab, lead, islamist, stateme...</td>\n",
              "    </tr>\n",
              "  </tbody>\n",
              "</table>\n",
              "</div>"
            ],
            "text/plain": [
              "                                                news  \\\n",
              "0  SAN FRANCISCO (CBS.MW) -- Dell Inc. said Thurs...   \n",
              "1  American Phil Mickelson registered a 59 to win...   \n",
              "2  French President Jacques Chirac and British Pr...   \n",
              "3  As many as 15,000 New Zealanders will be force...   \n",
              "4  The group led by al Qaeda ally Abu Musab  al-Z...   \n",
              "\n",
              "                                           tokenized  \\\n",
              "0  [san, francisco, dell, said, thursday, its, pr...   \n",
              "1  [american, phil, mickelson, registered, a, to,...   \n",
              "2  [french, president, jacques, chirac, and, brit...   \n",
              "3  [as, many, as, new, zealanders, will, be, forc...   \n",
              "4  [the, group, led, by, al, qaeda, ally, abu, mu...   \n",
              "\n",
              "                                          lemmatized  \\\n",
              "0  [san, francisco, dell, say, thursday, it, prof...   \n",
              "1  [american, phil, mickelson, register, a, to, w...   \n",
              "2  [french, president, jacques, chirac, and, brit...   \n",
              "3  [a, many, a, new, zealander, will, be, force, ...   \n",
              "4  [the, group, lead, by, al, qaeda, ally, abu, m...   \n",
              "\n",
              "                                        no_stopwords  \n",
              "0  [profit, laptop, percent, rise, san, earlier, ...  \n",
              "1  [hawaii, low, record, grand, tapped, kauai, ma...  \n",
              "2  [number, tony, french, chirac, international, ...  \n",
              "3  [pain, found, attack, alternative, zealander, ...  \n",
              "4  [behead, found, musab, lead, islamist, stateme...  "
            ]
          },
          "execution_count": 40,
          "metadata": {},
          "output_type": "execute_result"
        }
      ],
      "source": [
        "# remove stopwords\n",
        "\n",
        "def remove_sw(row):\n",
        "  return list(set(row['lemmatized']).difference(stopwords.words()))\n",
        "\n",
        "all_news['no_stopwords'] = all_news.apply(remove_sw,axis=1)\n",
        "all_news.head()"
      ]
    },
    {
      "cell_type": "code",
      "execution_count": 41,
      "metadata": {
        "colab": {
          "base_uri": "https://localhost:8080/",
          "height": 570
        },
        "id": "CX2m2ZQQLYqo",
        "outputId": "feef0b18-2255-41b8-cd24-467d7cd72731"
      },
      "outputs": [
        {
          "data": {
            "text/html": [
              "<div>\n",
              "<style scoped>\n",
              "    .dataframe tbody tr th:only-of-type {\n",
              "        vertical-align: middle;\n",
              "    }\n",
              "\n",
              "    .dataframe tbody tr th {\n",
              "        vertical-align: top;\n",
              "    }\n",
              "\n",
              "    .dataframe thead th {\n",
              "        text-align: right;\n",
              "    }\n",
              "</style>\n",
              "<table border=\"1\" class=\"dataframe\">\n",
              "  <thead>\n",
              "    <tr style=\"text-align: right;\">\n",
              "      <th></th>\n",
              "      <th>news</th>\n",
              "      <th>tokenized</th>\n",
              "      <th>lemmatized</th>\n",
              "      <th>no_stopwords</th>\n",
              "      <th>clean_blob</th>\n",
              "    </tr>\n",
              "  </thead>\n",
              "  <tbody>\n",
              "    <tr>\n",
              "      <th>0</th>\n",
              "      <td>SAN FRANCISCO (CBS.MW) -- Dell Inc. said Thurs...</td>\n",
              "      <td>[san, francisco, dell, said, thursday, its, pr...</td>\n",
              "      <td>[san, francisco, dell, say, thursday, it, prof...</td>\n",
              "      <td>[profit, laptop, percent, rise, san, earlier, ...</td>\n",
              "      <td>profit laptop percent rise san earlier gear bo...</td>\n",
              "    </tr>\n",
              "    <tr>\n",
              "      <th>1</th>\n",
              "      <td>American Phil Mickelson registered a 59 to win...</td>\n",
              "      <td>[american, phil, mickelson, registered, a, to,...</td>\n",
              "      <td>[american, phil, mickelson, register, a, to, w...</td>\n",
              "      <td>[hawaii, low, record, grand, tapped, kauai, ma...</td>\n",
              "      <td>hawaii low record grand tapped kauai master wi...</td>\n",
              "    </tr>\n",
              "    <tr>\n",
              "      <th>2</th>\n",
              "      <td>French President Jacques Chirac and British Pr...</td>\n",
              "      <td>[french, president, jacques, chirac, and, brit...</td>\n",
              "      <td>[french, president, jacques, chirac, and, brit...</td>\n",
              "      <td>[number, tony, french, chirac, international, ...</td>\n",
              "      <td>number tony french chirac international relati...</td>\n",
              "    </tr>\n",
              "    <tr>\n",
              "      <th>3</th>\n",
              "      <td>As many as 15,000 New Zealanders will be force...</td>\n",
              "      <td>[as, many, as, new, zealanders, will, be, forc...</td>\n",
              "      <td>[a, many, a, new, zealander, will, be, force, ...</td>\n",
              "      <td>[pain, found, attack, alternative, zealander, ...</td>\n",
              "      <td>pain found attack alternative zealander double...</td>\n",
              "    </tr>\n",
              "    <tr>\n",
              "      <th>4</th>\n",
              "      <td>The group led by al Qaeda ally Abu Musab  al-Z...</td>\n",
              "      <td>[the, group, led, by, al, qaeda, ally, abu, mu...</td>\n",
              "      <td>[the, group, lead, by, al, qaeda, ally, abu, m...</td>\n",
              "      <td>[behead, found, musab, lead, islamist, stateme...</td>\n",
              "      <td>behead found musab lead islamist statement mos...</td>\n",
              "    </tr>\n",
              "  </tbody>\n",
              "</table>\n",
              "</div>"
            ],
            "text/plain": [
              "                                                news  \\\n",
              "0  SAN FRANCISCO (CBS.MW) -- Dell Inc. said Thurs...   \n",
              "1  American Phil Mickelson registered a 59 to win...   \n",
              "2  French President Jacques Chirac and British Pr...   \n",
              "3  As many as 15,000 New Zealanders will be force...   \n",
              "4  The group led by al Qaeda ally Abu Musab  al-Z...   \n",
              "\n",
              "                                           tokenized  \\\n",
              "0  [san, francisco, dell, said, thursday, its, pr...   \n",
              "1  [american, phil, mickelson, registered, a, to,...   \n",
              "2  [french, president, jacques, chirac, and, brit...   \n",
              "3  [as, many, as, new, zealanders, will, be, forc...   \n",
              "4  [the, group, led, by, al, qaeda, ally, abu, mu...   \n",
              "\n",
              "                                          lemmatized  \\\n",
              "0  [san, francisco, dell, say, thursday, it, prof...   \n",
              "1  [american, phil, mickelson, register, a, to, w...   \n",
              "2  [french, president, jacques, chirac, and, brit...   \n",
              "3  [a, many, a, new, zealander, will, be, force, ...   \n",
              "4  [the, group, lead, by, al, qaeda, ally, abu, m...   \n",
              "\n",
              "                                        no_stopwords  \\\n",
              "0  [profit, laptop, percent, rise, san, earlier, ...   \n",
              "1  [hawaii, low, record, grand, tapped, kauai, ma...   \n",
              "2  [number, tony, french, chirac, international, ...   \n",
              "3  [pain, found, attack, alternative, zealander, ...   \n",
              "4  [behead, found, musab, lead, islamist, stateme...   \n",
              "\n",
              "                                          clean_blob  \n",
              "0  profit laptop percent rise san earlier gear bo...  \n",
              "1  hawaii low record grand tapped kauai master wi...  \n",
              "2  number tony french chirac international relati...  \n",
              "3  pain found attack alternative zealander double...  \n",
              "4  behead found musab lead islamist statement mos...  "
            ]
          },
          "execution_count": 41,
          "metadata": {},
          "output_type": "execute_result"
        }
      ],
      "source": [
        "# put all this cleaning together\n",
        "\n",
        "def re_blob(row):\n",
        "  return \" \".join(row['no_stopwords'])\n",
        "\n",
        "all_news['clean_blob'] = all_news.apply(re_blob,axis=1)\n",
        "all_news.head()"
      ]
    },
    {
      "cell_type": "code",
      "execution_count": 42,
      "metadata": {
        "id": "mJ4qJpciFrsS"
      },
      "outputs": [],
      "source": [
        "#let's take only the most common 1000 words\n",
        "bow_vect = CountVectorizer(max_features=1000)\n",
        "# fit creates one entry for each different word seen\n",
        "X = bow_vect.fit_transform(all_news['clean_blob']).toarray()"
      ]
    },
    {
      "cell_type": "code",
      "execution_count": 43,
      "metadata": {
        "colab": {
          "base_uri": "https://localhost:8080/",
          "height": 35
        },
        "id": "VjLymaHbgcl0",
        "outputId": "6301f902-be38-4020-decc-04da401acb2d"
      },
      "outputs": [
        {
          "data": {
            "text/plain": [
              "'profit laptop percent rise san earlier gear boost thursday pc year francisco maker'"
            ]
          },
          "execution_count": 43,
          "metadata": {},
          "output_type": "execute_result"
        }
      ],
      "source": [
        "all_news['clean_blob'].iloc[0]"
      ]
    },
    {
      "cell_type": "code",
      "execution_count": 44,
      "metadata": {
        "colab": {
          "base_uri": "https://localhost:8080/",
          "height": 235
        },
        "id": "T803D7rhFrva",
        "outputId": "710a14d6-2d61-407d-9fa0-ed277b5fe33b"
      },
      "outputs": [
        {
          "data": {
            "text/html": [
              "<div>\n",
              "<style scoped>\n",
              "    .dataframe tbody tr th:only-of-type {\n",
              "        vertical-align: middle;\n",
              "    }\n",
              "\n",
              "    .dataframe tbody tr th {\n",
              "        vertical-align: top;\n",
              "    }\n",
              "\n",
              "    .dataframe thead th {\n",
              "        text-align: right;\n",
              "    }\n",
              "</style>\n",
              "<table border=\"1\" class=\"dataframe\">\n",
              "  <thead>\n",
              "    <tr style=\"text-align: right;\">\n",
              "      <th></th>\n",
              "      <th>abu</th>\n",
              "      <th>abuse</th>\n",
              "      <th>access</th>\n",
              "      <th>accord</th>\n",
              "      <th>account</th>\n",
              "      <th>accounting</th>\n",
              "      <th>accuse</th>\n",
              "      <th>acquire</th>\n",
              "      <th>acquisition</th>\n",
              "      <th>act</th>\n",
              "      <th>...</th>\n",
              "      <th>worth</th>\n",
              "      <th>wound</th>\n",
              "      <th>yahoo</th>\n",
              "      <th>yankee</th>\n",
              "      <th>yard</th>\n",
              "      <th>yasser</th>\n",
              "      <th>year</th>\n",
              "      <th>yesterday</th>\n",
              "      <th>york</th>\n",
              "      <th>young</th>\n",
              "    </tr>\n",
              "  </thead>\n",
              "  <tbody>\n",
              "    <tr>\n",
              "      <th>0</th>\n",
              "      <td>0</td>\n",
              "      <td>0</td>\n",
              "      <td>0</td>\n",
              "      <td>0</td>\n",
              "      <td>0</td>\n",
              "      <td>0</td>\n",
              "      <td>0</td>\n",
              "      <td>0</td>\n",
              "      <td>0</td>\n",
              "      <td>0</td>\n",
              "      <td>...</td>\n",
              "      <td>0</td>\n",
              "      <td>0</td>\n",
              "      <td>0</td>\n",
              "      <td>0</td>\n",
              "      <td>0</td>\n",
              "      <td>0</td>\n",
              "      <td>1</td>\n",
              "      <td>0</td>\n",
              "      <td>0</td>\n",
              "      <td>0</td>\n",
              "    </tr>\n",
              "    <tr>\n",
              "      <th>1</th>\n",
              "      <td>0</td>\n",
              "      <td>0</td>\n",
              "      <td>0</td>\n",
              "      <td>0</td>\n",
              "      <td>0</td>\n",
              "      <td>0</td>\n",
              "      <td>0</td>\n",
              "      <td>0</td>\n",
              "      <td>0</td>\n",
              "      <td>0</td>\n",
              "      <td>...</td>\n",
              "      <td>0</td>\n",
              "      <td>0</td>\n",
              "      <td>0</td>\n",
              "      <td>0</td>\n",
              "      <td>0</td>\n",
              "      <td>0</td>\n",
              "      <td>0</td>\n",
              "      <td>0</td>\n",
              "      <td>0</td>\n",
              "      <td>0</td>\n",
              "    </tr>\n",
              "    <tr>\n",
              "      <th>2</th>\n",
              "      <td>0</td>\n",
              "      <td>0</td>\n",
              "      <td>0</td>\n",
              "      <td>0</td>\n",
              "      <td>0</td>\n",
              "      <td>0</td>\n",
              "      <td>0</td>\n",
              "      <td>0</td>\n",
              "      <td>0</td>\n",
              "      <td>0</td>\n",
              "      <td>...</td>\n",
              "      <td>0</td>\n",
              "      <td>0</td>\n",
              "      <td>0</td>\n",
              "      <td>0</td>\n",
              "      <td>0</td>\n",
              "      <td>0</td>\n",
              "      <td>0</td>\n",
              "      <td>0</td>\n",
              "      <td>0</td>\n",
              "      <td>0</td>\n",
              "    </tr>\n",
              "    <tr>\n",
              "      <th>3</th>\n",
              "      <td>0</td>\n",
              "      <td>0</td>\n",
              "      <td>0</td>\n",
              "      <td>0</td>\n",
              "      <td>0</td>\n",
              "      <td>0</td>\n",
              "      <td>0</td>\n",
              "      <td>0</td>\n",
              "      <td>0</td>\n",
              "      <td>0</td>\n",
              "      <td>...</td>\n",
              "      <td>0</td>\n",
              "      <td>0</td>\n",
              "      <td>0</td>\n",
              "      <td>0</td>\n",
              "      <td>0</td>\n",
              "      <td>0</td>\n",
              "      <td>0</td>\n",
              "      <td>0</td>\n",
              "      <td>0</td>\n",
              "      <td>0</td>\n",
              "    </tr>\n",
              "    <tr>\n",
              "      <th>4</th>\n",
              "      <td>1</td>\n",
              "      <td>0</td>\n",
              "      <td>0</td>\n",
              "      <td>0</td>\n",
              "      <td>0</td>\n",
              "      <td>0</td>\n",
              "      <td>0</td>\n",
              "      <td>0</td>\n",
              "      <td>0</td>\n",
              "      <td>0</td>\n",
              "      <td>...</td>\n",
              "      <td>0</td>\n",
              "      <td>0</td>\n",
              "      <td>0</td>\n",
              "      <td>0</td>\n",
              "      <td>0</td>\n",
              "      <td>0</td>\n",
              "      <td>0</td>\n",
              "      <td>0</td>\n",
              "      <td>0</td>\n",
              "      <td>0</td>\n",
              "    </tr>\n",
              "  </tbody>\n",
              "</table>\n",
              "<p>5 rows × 1000 columns</p>\n",
              "</div>"
            ],
            "text/plain": [
              "   abu  abuse  access  accord  account  accounting  accuse  acquire  \\\n",
              "0    0      0       0       0        0           0       0        0   \n",
              "1    0      0       0       0        0           0       0        0   \n",
              "2    0      0       0       0        0           0       0        0   \n",
              "3    0      0       0       0        0           0       0        0   \n",
              "4    1      0       0       0        0           0       0        0   \n",
              "\n",
              "   acquisition  act  ...  worth  wound  yahoo  yankee  yard  yasser  year  \\\n",
              "0            0    0  ...      0      0      0       0     0       0     1   \n",
              "1            0    0  ...      0      0      0       0     0       0     0   \n",
              "2            0    0  ...      0      0      0       0     0       0     0   \n",
              "3            0    0  ...      0      0      0       0     0       0     0   \n",
              "4            0    0  ...      0      0      0       0     0       0     0   \n",
              "\n",
              "   yesterday  york  young  \n",
              "0          0     0      0  \n",
              "1          0     0      0  \n",
              "2          0     0      0  \n",
              "3          0     0      0  \n",
              "4          0     0      0  \n",
              "\n",
              "[5 rows x 1000 columns]"
            ]
          },
          "execution_count": 44,
          "metadata": {},
          "output_type": "execute_result"
        }
      ],
      "source": [
        "as_df = pd.DataFrame(X,columns=bow_vect.get_feature_names_out())\n",
        "as_df.head()"
      ]
    },
    {
      "cell_type": "code",
      "execution_count": 45,
      "metadata": {
        "colab": {
          "base_uri": "https://localhost:8080/"
        },
        "id": "VY1KjIAuFr2V",
        "outputId": "1a59bf28-4207-47df-c915-a4fef797ee92"
      },
      "outputs": [],
      "source": [
        "from sklearn.cluster import KMeans\n",
        "kmeans = KMeans(n_clusters=6,random_state=100)\n",
        "kmeans.fit(X)\n",
        "pred = kmeans.predict(X)"
      ]
    },
    {
      "cell_type": "code",
      "execution_count": 47,
      "metadata": {
        "colab": {
          "base_uri": "https://localhost:8080/",
          "height": 240
        },
        "id": "vV4UfDknFr6s",
        "outputId": "7fbb3921-0353-4ed6-aec8-b1a1a2bd9bf6"
      },
      "outputs": [
        {
          "data": {
            "text/html": [
              "<div>\n",
              "<style scoped>\n",
              "    .dataframe tbody tr th:only-of-type {\n",
              "        vertical-align: middle;\n",
              "    }\n",
              "\n",
              "    .dataframe tbody tr th {\n",
              "        vertical-align: top;\n",
              "    }\n",
              "\n",
              "    .dataframe thead th {\n",
              "        text-align: right;\n",
              "    }\n",
              "</style>\n",
              "<table border=\"1\" class=\"dataframe\">\n",
              "  <thead>\n",
              "    <tr style=\"text-align: right;\">\n",
              "      <th></th>\n",
              "      <th>news</th>\n",
              "      <th>class</th>\n",
              "    </tr>\n",
              "  </thead>\n",
              "  <tbody>\n",
              "    <tr>\n",
              "      <th>0</th>\n",
              "      <td>SAN FRANCISCO (CBS.MW) -- Dell Inc. said Thurs...</td>\n",
              "      <td>5</td>\n",
              "    </tr>\n",
              "    <tr>\n",
              "      <th>1</th>\n",
              "      <td>American Phil Mickelson registered a 59 to win...</td>\n",
              "      <td>2</td>\n",
              "    </tr>\n",
              "    <tr>\n",
              "      <th>2</th>\n",
              "      <td>French President Jacques Chirac and British Pr...</td>\n",
              "      <td>1</td>\n",
              "    </tr>\n",
              "    <tr>\n",
              "      <th>3</th>\n",
              "      <td>As many as 15,000 New Zealanders will be force...</td>\n",
              "      <td>4</td>\n",
              "    </tr>\n",
              "    <tr>\n",
              "      <th>4</th>\n",
              "      <td>The group led by al Qaeda ally Abu Musab  al-Z...</td>\n",
              "      <td>4</td>\n",
              "    </tr>\n",
              "  </tbody>\n",
              "</table>\n",
              "</div>"
            ],
            "text/plain": [
              "                                                news  class\n",
              "0  SAN FRANCISCO (CBS.MW) -- Dell Inc. said Thurs...      5\n",
              "1  American Phil Mickelson registered a 59 to win...      2\n",
              "2  French President Jacques Chirac and British Pr...      1\n",
              "3  As many as 15,000 New Zealanders will be force...      4\n",
              "4  The group led by al Qaeda ally Abu Musab  al-Z...      4"
            ]
          },
          "execution_count": 47,
          "metadata": {},
          "output_type": "execute_result"
        }
      ],
      "source": [
        "predict_df = pd.concat([all_news['news'],pd.DataFrame(pred,columns=['class'])],axis=1)\n",
        "predict_df.head()"
      ]
    },
    {
      "cell_type": "code",
      "execution_count": 48,
      "metadata": {
        "id": "BOIylt7Alfnz"
      },
      "outputs": [],
      "source": [
        "pd.set_option('display.max_colwidth', None)"
      ]
    },
    {
      "cell_type": "code",
      "execution_count": 49,
      "metadata": {
        "colab": {
          "base_uri": "https://localhost:8080/",
          "height": 493
        },
        "id": "_ACgfNccRG2W",
        "outputId": "fc48ae2e-b165-42fe-addc-02d45576b9cd"
      },
      "outputs": [
        {
          "data": {
            "text/html": [
              "<div>\n",
              "<style scoped>\n",
              "    .dataframe tbody tr th:only-of-type {\n",
              "        vertical-align: middle;\n",
              "    }\n",
              "\n",
              "    .dataframe tbody tr th {\n",
              "        vertical-align: top;\n",
              "    }\n",
              "\n",
              "    .dataframe thead th {\n",
              "        text-align: right;\n",
              "    }\n",
              "</style>\n",
              "<table border=\"1\" class=\"dataframe\">\n",
              "  <thead>\n",
              "    <tr style=\"text-align: right;\">\n",
              "      <th></th>\n",
              "      <th>news</th>\n",
              "      <th>class</th>\n",
              "    </tr>\n",
              "  </thead>\n",
              "  <tbody>\n",
              "    <tr>\n",
              "      <th>467</th>\n",
              "      <td>Israeli Prime Minister Ariel Sharon is not known for a kindly disposition toward the Palestinians, nor for a gentle approach to the issue of a Palestinian state.</td>\n",
              "      <td>0</td>\n",
              "    </tr>\n",
              "    <tr>\n",
              "      <th>526</th>\n",
              "      <td>An Israeli helicopter fired three missiles\\at an unknown target in a Gaza refugee camp on Wednesday,\\Palestinian witnesses said, one day after militants killed 16\\Israelis in bus bombings in southern Israel.</td>\n",
              "      <td>0</td>\n",
              "    </tr>\n",
              "    <tr>\n",
              "      <th>550</th>\n",
              "      <td>TWO Palestinian women, who planned to blow themselves up in a double suicide bombing in Tel Aviv, gave themselves up to Israeli troops at a West Bank checkpoint, Israeli military sources said today.</td>\n",
              "      <td>0</td>\n",
              "    </tr>\n",
              "    <tr>\n",
              "      <th>814</th>\n",
              "      <td>Israeli troops mistook three Egyptian police officers for Palestinian militants and shot them dead yesterday along the Gaza Strip #39;s border</td>\n",
              "      <td>0</td>\n",
              "    </tr>\n",
              "    <tr>\n",
              "      <th>822</th>\n",
              "      <td>Israel's High Court said on Thursday  it was upholding a decision by the country's attorney-general  to drop a bribery case against Prime Minister Ariel Sharon.</td>\n",
              "      <td>0</td>\n",
              "    </tr>\n",
              "    <tr>\n",
              "      <th>...</th>\n",
              "      <td>...</td>\n",
              "      <td>...</td>\n",
              "    </tr>\n",
              "    <tr>\n",
              "      <th>9771</th>\n",
              "      <td>Palestinian leader Mahmoud Abbas called\\Israel \"the Zionist enemy\" Tuesday, unprecedented language for\\the relative moderate who is expected to succeed Yasser Arafat.</td>\n",
              "      <td>0</td>\n",
              "    </tr>\n",
              "    <tr>\n",
              "      <th>9824</th>\n",
              "      <td>JERUSALEM : The Israeli cabinet was set to approve a package of compensation for settlers who are to be uprooted from their homes as part of Prime Minister Ariel Sharon #39;s Gaza pullout plan.</td>\n",
              "      <td>0</td>\n",
              "    </tr>\n",
              "    <tr>\n",
              "      <th>9919</th>\n",
              "      <td>JERUSALEM : Beleaguered Israeli Prime Minister Ariel Sharon persisted with plans to form a new government including the main opposition Labour party, bolstered by Washington #39;s backing for the expansion of West Bank settlements.</td>\n",
              "      <td>0</td>\n",
              "    </tr>\n",
              "    <tr>\n",
              "      <th>9948</th>\n",
              "      <td>Israel #39;s cabinet will today decide on a bill that would set out how to implement prime minister Ariel Sharon #39;s plan to withdraw Israeli settlers from the Gaza Strip.</td>\n",
              "      <td>0</td>\n",
              "    </tr>\n",
              "    <tr>\n",
              "      <th>9957</th>\n",
              "      <td>Israeli troops shot dead an unarmed mentally handicapped Palestinian during a raid on Tuesday on a West Bank refugee camp on the fourth anniversary of a Palestinian uprising.</td>\n",
              "      <td>0</td>\n",
              "    </tr>\n",
              "  </tbody>\n",
              "</table>\n",
              "<p>155 rows × 2 columns</p>\n",
              "</div>"
            ],
            "text/plain": [
              "                                                                                                                                                                                                                                         news  \\\n",
              "467                                                                         Israeli Prime Minister Ariel Sharon is not known for a kindly disposition toward the Palestinians, nor for a gentle approach to the issue of a Palestinian state.   \n",
              "526                           An Israeli helicopter fired three missiles\\at an unknown target in a Gaza refugee camp on Wednesday,\\Palestinian witnesses said, one day after militants killed 16\\Israelis in bus bombings in southern Israel.   \n",
              "550                                    TWO Palestinian women, who planned to blow themselves up in a double suicide bombing in Tel Aviv, gave themselves up to Israeli troops at a West Bank checkpoint, Israeli military sources said today.   \n",
              "814                                                                                           Israeli troops mistook three Egyptian police officers for Palestinian militants and shot them dead yesterday along the Gaza Strip #39;s border    \n",
              "822                                                                          Israel's High Court said on Thursday  it was upholding a decision by the country's attorney-general  to drop a bribery case against Prime Minister Ariel Sharon.   \n",
              "...                                                                                                                                                                                                                                       ...   \n",
              "9771                                                                   Palestinian leader Mahmoud Abbas called\\Israel \"the Zionist enemy\" Tuesday, unprecedented language for\\the relative moderate who is expected to succeed Yasser Arafat.   \n",
              "9824                                        JERUSALEM : The Israeli cabinet was set to approve a package of compensation for settlers who are to be uprooted from their homes as part of Prime Minister Ariel Sharon #39;s Gaza pullout plan.   \n",
              "9919  JERUSALEM : Beleaguered Israeli Prime Minister Ariel Sharon persisted with plans to form a new government including the main opposition Labour party, bolstered by Washington #39;s backing for the expansion of West Bank settlements.   \n",
              "9948                                                            Israel #39;s cabinet will today decide on a bill that would set out how to implement prime minister Ariel Sharon #39;s plan to withdraw Israeli settlers from the Gaza Strip.   \n",
              "9957                                                           Israeli troops shot dead an unarmed mentally handicapped Palestinian during a raid on Tuesday on a West Bank refugee camp on the fourth anniversary of a Palestinian uprising.   \n",
              "\n",
              "      class  \n",
              "467       0  \n",
              "526       0  \n",
              "550       0  \n",
              "814       0  \n",
              "822       0  \n",
              "...     ...  \n",
              "9771      0  \n",
              "9824      0  \n",
              "9919      0  \n",
              "9948      0  \n",
              "9957      0  \n",
              "\n",
              "[155 rows x 2 columns]"
            ]
          },
          "execution_count": 49,
          "metadata": {},
          "output_type": "execute_result"
        }
      ],
      "source": [
        "# War in Israel\n",
        "predict_df[predict_df['class']==0]"
      ]
    },
    {
      "cell_type": "code",
      "execution_count": 50,
      "metadata": {
        "colab": {
          "base_uri": "https://localhost:8080/",
          "height": 475
        },
        "id": "Ag0fW6pWQ28G",
        "outputId": "a71a14a6-c599-4683-e9af-6979fbd6cc92"
      },
      "outputs": [
        {
          "data": {
            "text/html": [
              "<div>\n",
              "<style scoped>\n",
              "    .dataframe tbody tr th:only-of-type {\n",
              "        vertical-align: middle;\n",
              "    }\n",
              "\n",
              "    .dataframe tbody tr th {\n",
              "        vertical-align: top;\n",
              "    }\n",
              "\n",
              "    .dataframe thead th {\n",
              "        text-align: right;\n",
              "    }\n",
              "</style>\n",
              "<table border=\"1\" class=\"dataframe\">\n",
              "  <thead>\n",
              "    <tr style=\"text-align: right;\">\n",
              "      <th></th>\n",
              "      <th>news</th>\n",
              "      <th>class</th>\n",
              "    </tr>\n",
              "  </thead>\n",
              "  <tbody>\n",
              "    <tr>\n",
              "      <th>2</th>\n",
              "      <td>French President Jacques Chirac and British Prime Minister Tony Blair maintained Thursday that relations between their countries were not strained by their disagreements over the Iraq war, as evidenced by their cooperation on a number of international</td>\n",
              "      <td>1</td>\n",
              "    </tr>\n",
              "    <tr>\n",
              "      <th>18</th>\n",
              "      <td>French Finance Minister Nicolas Sarkozy is resigning when he meets today with Prime Minister Jean- Pierre Raffarin, freeing him to use his new position as head of the ruling party to prepare for the 2007 presidential elections.</td>\n",
              "      <td>1</td>\n",
              "    </tr>\n",
              "    <tr>\n",
              "      <th>20</th>\n",
              "      <td>Texas authorities are investigating claims that a US mother left her seven adopted children in Nigeria and went to work in Iraq.</td>\n",
              "      <td>1</td>\n",
              "    </tr>\n",
              "    <tr>\n",
              "      <th>23</th>\n",
              "      <td>Indonesian police on Saturday released security camera images of a truck bombing outside the Australian Embassy, and investigators found traces of explosives in a room rented by two Malaysian militants wanted in the blast.    Also Saturday, around 1,000 members of a hardline Muslim group rallied in downtown Jakarta against Thursday's attack, which killed nine people, two of them suspected suicide bombers...</td>\n",
              "      <td>1</td>\n",
              "    </tr>\n",
              "    <tr>\n",
              "      <th>25</th>\n",
              "      <td>A special committee of independent directors at building products manufacturer Royal Group Technologies Ltd. (Woodbridge, ON) has fired president and CEO Douglas Dunsmuir and senior vice-president and CFO</td>\n",
              "      <td>1</td>\n",
              "    </tr>\n",
              "    <tr>\n",
              "      <th>...</th>\n",
              "      <td>...</td>\n",
              "      <td>...</td>\n",
              "    </tr>\n",
              "    <tr>\n",
              "      <th>9946</th>\n",
              "      <td>: Suspected Muslim insurgents attacked an army unit protecting Buddhist monks at a monastery early Friday, killing one of the soldiers as sectarian violence continued in southern Thailand, police said.</td>\n",
              "      <td>1</td>\n",
              "    </tr>\n",
              "    <tr>\n",
              "      <th>9949</th>\n",
              "      <td>Several workers are believed to have been killed and others injured after a contruction site collapsed at Dubai airport. The workers were trapped under rubble at the site of a \\$4.</td>\n",
              "      <td>1</td>\n",
              "    </tr>\n",
              "    <tr>\n",
              "      <th>9952</th>\n",
              "      <td>At least two people have been killed and 18 others injured in an explosion at a concert by an Indian Bollywood star in Colombo. Police said a hand-grenade ripped through the front stands as Shahrukh Khan ended his performance on Saturday.</td>\n",
              "      <td>1</td>\n",
              "    </tr>\n",
              "    <tr>\n",
              "      <th>9958</th>\n",
              "      <td>Their name means \"It's Time.\" Their slogan shows a ticking clock, and their ability to bring thousands of students to the streets is spooking the government as the country prepares for Sunday's pivotal presidential election.</td>\n",
              "      <td>1</td>\n",
              "    </tr>\n",
              "    <tr>\n",
              "      <th>9996</th>\n",
              "      <td>Washington shrugged off harsh verbal attacks from North Korea against US President George W. Bush, saying that the insults would not hinder efforts to end nuclear crisis on the peninsula.</td>\n",
              "      <td>1</td>\n",
              "    </tr>\n",
              "  </tbody>\n",
              "</table>\n",
              "<p>1202 rows × 2 columns</p>\n",
              "</div>"
            ],
            "text/plain": [
              "                                                                                                                                                                                                                                                                                                                                                                                                                            news  \\\n",
              "2                                                                                                                                                                   French President Jacques Chirac and British Prime Minister Tony Blair maintained Thursday that relations between their countries were not strained by their disagreements over the Iraq war, as evidenced by their cooperation on a number of international    \n",
              "18                                                                                                                                                                                           French Finance Minister Nicolas Sarkozy is resigning when he meets today with Prime Minister Jean- Pierre Raffarin, freeing him to use his new position as head of the ruling party to prepare for the 2007 presidential elections.   \n",
              "20                                                                                                                                                                                                                                                                                              Texas authorities are investigating claims that a US mother left her seven adopted children in Nigeria and went to work in Iraq.   \n",
              "23    Indonesian police on Saturday released security camera images of a truck bombing outside the Australian Embassy, and investigators found traces of explosives in a room rented by two Malaysian militants wanted in the blast.    Also Saturday, around 1,000 members of a hardline Muslim group rallied in downtown Jakarta against Thursday's attack, which killed nine people, two of them suspected suicide bombers...   \n",
              "25                                                                                                                                                                                                                 A special committee of independent directors at building products manufacturer Royal Group Technologies Ltd. (Woodbridge, ON) has fired president and CEO Douglas Dunsmuir and senior vice-president and CFO    \n",
              "...                                                                                                                                                                                                                                                                                                                                                                                                                          ...   \n",
              "9946                                                                                                                                                                                                                   : Suspected Muslim insurgents attacked an army unit protecting Buddhist monks at a monastery early Friday, killing one of the soldiers as sectarian violence continued in southern Thailand, police said.   \n",
              "9949                                                                                                                                                                                                                                        Several workers are believed to have been killed and others injured after a contruction site collapsed at Dubai airport. The workers were trapped under rubble at the site of a \\$4.   \n",
              "9952                                                                                                                                                                              At least two people have been killed and 18 others injured in an explosion at a concert by an Indian Bollywood star in Colombo. Police said a hand-grenade ripped through the front stands as Shahrukh Khan ended his performance on Saturday.   \n",
              "9958                                                                                                                                                                                            Their name means \"It's Time.\" Their slogan shows a ticking clock, and their ability to bring thousands of students to the streets is spooking the government as the country prepares for Sunday's pivotal presidential election.   \n",
              "9996                                                                                                                                                                                                                                 Washington shrugged off harsh verbal attacks from North Korea against US President George W. Bush, saying that the insults would not hinder efforts to end nuclear crisis on the peninsula.   \n",
              "\n",
              "      class  \n",
              "2         1  \n",
              "18        1  \n",
              "20        1  \n",
              "23        1  \n",
              "25        1  \n",
              "...     ...  \n",
              "9946      1  \n",
              "9949      1  \n",
              "9952      1  \n",
              "9958      1  \n",
              "9996      1  \n",
              "\n",
              "[1202 rows x 2 columns]"
            ]
          },
          "execution_count": 50,
          "metadata": {},
          "output_type": "execute_result"
        }
      ],
      "source": [
        "# Politics news/ Overall news\n",
        "predict_df[predict_df['class']==1]"
      ]
    },
    {
      "cell_type": "code",
      "execution_count": 51,
      "metadata": {
        "colab": {
          "base_uri": "https://localhost:8080/",
          "height": 475
        },
        "id": "N_HN_-vNPLye",
        "outputId": "067e5e76-ce98-4c56-e1b9-ce13facbf079"
      },
      "outputs": [
        {
          "data": {
            "text/html": [
              "<div>\n",
              "<style scoped>\n",
              "    .dataframe tbody tr th:only-of-type {\n",
              "        vertical-align: middle;\n",
              "    }\n",
              "\n",
              "    .dataframe tbody tr th {\n",
              "        vertical-align: top;\n",
              "    }\n",
              "\n",
              "    .dataframe thead th {\n",
              "        text-align: right;\n",
              "    }\n",
              "</style>\n",
              "<table border=\"1\" class=\"dataframe\">\n",
              "  <thead>\n",
              "    <tr style=\"text-align: right;\">\n",
              "      <th></th>\n",
              "      <th>news</th>\n",
              "      <th>class</th>\n",
              "    </tr>\n",
              "  </thead>\n",
              "  <tbody>\n",
              "    <tr>\n",
              "      <th>22</th>\n",
              "      <td>I.B.M. said that it was in talks to settle a lawsuit contending that a pension plan adopted by the company discriminated against 140,000 older workers.</td>\n",
              "      <td>3</td>\n",
              "    </tr>\n",
              "    <tr>\n",
              "      <th>26</th>\n",
              "      <td>The federal government releases a list Wednesday lauding Fortune 500 firms that make a major effort to ease commutes for their employees, which helps ease traffic congestion and air pollution. Intel is No. 1 on the list of 69 companies to be designated as Best Workplaces for Commuters by the EPA.</td>\n",
              "      <td>3</td>\n",
              "    </tr>\n",
              "    <tr>\n",
              "      <th>40</th>\n",
              "      <td>research) is being sued by several California cities and counties, which accuse the company of charging inflated prices due to its alleged monopoly control of the PC operating system market.</td>\n",
              "      <td>3</td>\n",
              "    </tr>\n",
              "    <tr>\n",
              "      <th>48</th>\n",
              "      <td>In an era of widespread media\\consolidation, Internet media company Yahoo Inc. \\believes television networks, movie studios and music companies\\should look to it as a partner rather than a merger candidate,\\Yahoo Chief Executive Terry Semel said on Tuesday.</td>\n",
              "      <td>3</td>\n",
              "    </tr>\n",
              "    <tr>\n",
              "      <th>63</th>\n",
              "      <td>Avon Products Inc., the world #39;s largest direct seller of cosmetics, reported its first US sales decline in five years, sending the company #39;s shares down the most since 2000.</td>\n",
              "      <td>3</td>\n",
              "    </tr>\n",
              "    <tr>\n",
              "      <th>...</th>\n",
              "      <td>...</td>\n",
              "      <td>...</td>\n",
              "    </tr>\n",
              "    <tr>\n",
              "      <th>9960</th>\n",
              "      <td>Australian shopping center giant Westfield is teaming up with property group Multiplex and Aldersgate Investments to make a cash offer for Duelguide, the company which owns British developer Chelsfield.</td>\n",
              "      <td>3</td>\n",
              "    </tr>\n",
              "    <tr>\n",
              "      <th>9974</th>\n",
              "      <td>The company that makes a popular battery operated vacuum cleaner has announced a voluntary recall of the product. Procter and Gamble says their Sweep-Vac by Swiffer could overheat and possibly catch fire.</td>\n",
              "      <td>3</td>\n",
              "    </tr>\n",
              "    <tr>\n",
              "      <th>9983</th>\n",
              "      <td>TiVo Inc., maker of digital\\television video recorders, will next year add ways for viewers\\to see advertising and corporate logos even as they try to skip\\commercials, the company said on Wednesday.</td>\n",
              "      <td>3</td>\n",
              "    </tr>\n",
              "    <tr>\n",
              "      <th>9986</th>\n",
              "      <td>U.S. regulators on Thursday said big  local phone companies will not have to share new fiber-optic  lines built for high-speed Internet and other services,  spurring one carrier to speed roll-out plans.</td>\n",
              "      <td>3</td>\n",
              "    </tr>\n",
              "    <tr>\n",
              "      <th>9987</th>\n",
              "      <td>Semiconductor Manufacturing International Corp., a leading Chinese computer chip maker, plans to begin supplying chips using more advanced technology to major clients such as Texas Instruments Inc. beginning next year, the companies said Friday.</td>\n",
              "      <td>3</td>\n",
              "    </tr>\n",
              "  </tbody>\n",
              "</table>\n",
              "<p>727 rows × 2 columns</p>\n",
              "</div>"
            ],
            "text/plain": [
              "                                                                                                                                                                                                                                                                                                           news  \\\n",
              "22                                                                                                                                                      I.B.M. said that it was in talks to settle a lawsuit contending that a pension plan adopted by the company discriminated against 140,000 older workers.   \n",
              "26    The federal government releases a list Wednesday lauding Fortune 500 firms that make a major effort to ease commutes for their employees, which helps ease traffic congestion and air pollution. Intel is No. 1 on the list of 69 companies to be designated as Best Workplaces for Commuters by the EPA.   \n",
              "40                                                                                                               research) is being sued by several California cities and counties, which accuse the company of charging inflated prices due to its alleged monopoly control of the PC operating system market.   \n",
              "48                                            In an era of widespread media\\consolidation, Internet media company Yahoo Inc. \\believes television networks, movie studios and music companies\\should look to it as a partner rather than a merger candidate,\\Yahoo Chief Executive Terry Semel said on Tuesday.   \n",
              "63                                                                                                                        Avon Products Inc., the world #39;s largest direct seller of cosmetics, reported its first US sales decline in five years, sending the company #39;s shares down the most since 2000.   \n",
              "...                                                                                                                                                                                                                                                                                                         ...   \n",
              "9960                                                                                                 Australian shopping center giant Westfield is teaming up with property group Multiplex and Aldersgate Investments to make a cash offer for Duelguide, the company which owns British developer Chelsfield.   \n",
              "9974                                                                                               The company that makes a popular battery operated vacuum cleaner has announced a voluntary recall of the product. Procter and Gamble says their Sweep-Vac by Swiffer could overheat and possibly catch fire.   \n",
              "9983                                                                                                    TiVo Inc., maker of digital\\television video recorders, will next year add ways for viewers\\to see advertising and corporate logos even as they try to skip\\commercials, the company said on Wednesday.   \n",
              "9986                                                                                                 U.S. regulators on Thursday said big  local phone companies will not have to share new fiber-optic  lines built for high-speed Internet and other services,  spurring one carrier to speed roll-out plans.   \n",
              "9987                                                      Semiconductor Manufacturing International Corp., a leading Chinese computer chip maker, plans to begin supplying chips using more advanced technology to major clients such as Texas Instruments Inc. beginning next year, the companies said Friday.   \n",
              "\n",
              "      class  \n",
              "22        3  \n",
              "26        3  \n",
              "40        3  \n",
              "48        3  \n",
              "63        3  \n",
              "...     ...  \n",
              "9960      3  \n",
              "9974      3  \n",
              "9983      3  \n",
              "9986      3  \n",
              "9987      3  \n",
              "\n",
              "[727 rows x 2 columns]"
            ]
          },
          "execution_count": 51,
          "metadata": {},
          "output_type": "execute_result"
        }
      ],
      "source": [
        "\n",
        "predict_df[predict_df['class']==3]"
      ]
    },
    {
      "cell_type": "code",
      "execution_count": 52,
      "metadata": {
        "colab": {
          "base_uri": "https://localhost:8080/",
          "height": 475
        },
        "id": "SplXmrDDxL2s",
        "outputId": "11c30208-a273-4d0a-e4f2-5db687d6482a"
      },
      "outputs": [
        {
          "data": {
            "text/html": [
              "<div>\n",
              "<style scoped>\n",
              "    .dataframe tbody tr th:only-of-type {\n",
              "        vertical-align: middle;\n",
              "    }\n",
              "\n",
              "    .dataframe tbody tr th {\n",
              "        vertical-align: top;\n",
              "    }\n",
              "\n",
              "    .dataframe thead th {\n",
              "        text-align: right;\n",
              "    }\n",
              "</style>\n",
              "<table border=\"1\" class=\"dataframe\">\n",
              "  <thead>\n",
              "    <tr style=\"text-align: right;\">\n",
              "      <th></th>\n",
              "      <th>news</th>\n",
              "      <th>class</th>\n",
              "    </tr>\n",
              "  </thead>\n",
              "  <tbody>\n",
              "    <tr>\n",
              "      <th>0</th>\n",
              "      <td>SAN FRANCISCO (CBS.MW) -- Dell Inc. said Thursday its third-quarter profit rose 25 percent from a year earlier as the No. 1 personal-computer maker boosted sales of its PCs, laptops and other gear by 18 percent.</td>\n",
              "      <td>5</td>\n",
              "    </tr>\n",
              "    <tr>\n",
              "      <th>11</th>\n",
              "      <td>Stocks moved higher Friday as a stronger than expected retail sales report showed that higher oil prices aren't scaring consumers away from spending. Federal Reserve Chairman Alan Greenspan's positive comments on oil prices also encouraged investors...</td>\n",
              "      <td>5</td>\n",
              "    </tr>\n",
              "    <tr>\n",
              "      <th>28</th>\n",
              "      <td>Even though we knew it was coming, journalists seem to have plenty to write about now that underdogs Sprint and Nextel have announced their \\$35 billion nuptial plans, including a rumor that one of the industry's big dogs would try to spoil the party. &amp;lt;FONT face=\"verdana,MS Sans Serif,arial,helvetica\" size=\"-2\" color=\"#666666\"&amp;gt;&amp;lt;B&amp;gt;-washingtonpost.com&amp;lt;/B&amp;gt;&amp;lt;/FONT&amp;gt;</td>\n",
              "      <td>5</td>\n",
              "    </tr>\n",
              "    <tr>\n",
              "      <th>47</th>\n",
              "      <td>Aerospace giant Boeing Co. reported a 78 percent jump in third-quarter earnings, buoyed by a strong defense business, and raised its estimate for full-year profits due to a favorable tax outlook.</td>\n",
              "      <td>5</td>\n",
              "    </tr>\n",
              "    <tr>\n",
              "      <th>50</th>\n",
              "      <td>Investment by businesses in foreign markets fell 18 percent in 2003 to \\$560 billion as the global economy continued to struggle, but should improve this year as growth speeds up, the United Nations said Wednesday.</td>\n",
              "      <td>5</td>\n",
              "    </tr>\n",
              "    <tr>\n",
              "      <th>...</th>\n",
              "      <td>...</td>\n",
              "      <td>...</td>\n",
              "    </tr>\n",
              "    <tr>\n",
              "      <th>9928</th>\n",
              "      <td>OPEC oil producers and Chancellor\\Schroeder of Germany, which is a prominent consumer, agree that\\the remorseless rise in the price of crude has so far had\\little impact on global economic growth.</td>\n",
              "      <td>5</td>\n",
              "    </tr>\n",
              "    <tr>\n",
              "      <th>9934</th>\n",
              "      <td>Shipments of personal computers  in the third quarter rose 12 percent, driven by strong  corporate demand and ongoing strength in Europe, the Middle  East and Africa, a market research firm said on Monday.</td>\n",
              "      <td>5</td>\n",
              "    </tr>\n",
              "    <tr>\n",
              "      <th>9936</th>\n",
              "      <td>Oil futures prices surpassed \\$54 a barrel Tuesday on supply concerns in Nigeria and the Gulf of Mexico, where hurricane damage to pipelines and production platforms could curb output for months.</td>\n",
              "      <td>5</td>\n",
              "    </tr>\n",
              "    <tr>\n",
              "      <th>9962</th>\n",
              "      <td>Hong Kong shares rose slightly on Wednesday, tracking gains on Wall Street as the US Federal Reserve announced a rate hike. The blue-chip Hang Seng Index climbed 35.02 points, or 0.25 percent, to 14,078.54.</td>\n",
              "      <td>5</td>\n",
              "    </tr>\n",
              "    <tr>\n",
              "      <th>9984</th>\n",
              "      <td>McDonald's Corp. &amp;lt;A HREF=\"http://www.investor.reuters.com/FullQuote.aspx?ticker=MCD.N target=/stocks/quickinfo/fullquote\"&amp;gt;MCD.N&amp;lt;/A&amp;gt; said Monday  that sales at its namesake hamburger restaurants open at least  13 months rose 6.1 percent in October, helped by a popular  Monopoly game promotion in the United States.</td>\n",
              "      <td>5</td>\n",
              "    </tr>\n",
              "  </tbody>\n",
              "</table>\n",
              "<p>777 rows × 2 columns</p>\n",
              "</div>"
            ],
            "text/plain": [
              "                                                                                                                                                                                                                                                                                                                                                                                                    news  \\\n",
              "0                                                                                                                                                                                    SAN FRANCISCO (CBS.MW) -- Dell Inc. said Thursday its third-quarter profit rose 25 percent from a year earlier as the No. 1 personal-computer maker boosted sales of its PCs, laptops and other gear by 18 percent.   \n",
              "11                                                                                                                                          Stocks moved higher Friday as a stronger than expected retail sales report showed that higher oil prices aren't scaring consumers away from spending. Federal Reserve Chairman Alan Greenspan's positive comments on oil prices also encouraged investors...   \n",
              "28    Even though we knew it was coming, journalists seem to have plenty to write about now that underdogs Sprint and Nextel have announced their \\$35 billion nuptial plans, including a rumor that one of the industry's big dogs would try to spoil the party. &lt;FONT face=\"verdana,MS Sans Serif,arial,helvetica\" size=\"-2\" color=\"#666666\"&gt;&lt;B&gt;-washingtonpost.com&lt;/B&gt;&lt;/FONT&gt;   \n",
              "47                                                                                                                                                                                                   Aerospace giant Boeing Co. reported a 78 percent jump in third-quarter earnings, buoyed by a strong defense business, and raised its estimate for full-year profits due to a favorable tax outlook.   \n",
              "50                                                                                                                                                                                Investment by businesses in foreign markets fell 18 percent in 2003 to \\$560 billion as the global economy continued to struggle, but should improve this year as growth speeds up, the United Nations said Wednesday.   \n",
              "...                                                                                                                                                                                                                                                                                                                                                                                                  ...   \n",
              "9928                                                                                                                                                                                                OPEC oil producers and Chancellor\\Schroeder of Germany, which is a prominent consumer, agree that\\the remorseless rise in the price of crude has so far had\\little impact on global economic growth.   \n",
              "9934                                                                                                                                                                                       Shipments of personal computers  in the third quarter rose 12 percent, driven by strong  corporate demand and ongoing strength in Europe, the Middle  East and Africa, a market research firm said on Monday.   \n",
              "9936                                                                                                                                                                                                 Oil futures prices surpassed \\$54 a barrel Tuesday on supply concerns in Nigeria and the Gulf of Mexico, where hurricane damage to pipelines and production platforms could curb output for months.   \n",
              "9962                                                                                                                                                                                      Hong Kong shares rose slightly on Wednesday, tracking gains on Wall Street as the US Federal Reserve announced a rate hike. The blue-chip Hang Seng Index climbed 35.02 points, or 0.25 percent, to 14,078.54.   \n",
              "9984                                                              McDonald's Corp. &lt;A HREF=\"http://www.investor.reuters.com/FullQuote.aspx?ticker=MCD.N target=/stocks/quickinfo/fullquote\"&gt;MCD.N&lt;/A&gt; said Monday  that sales at its namesake hamburger restaurants open at least  13 months rose 6.1 percent in October, helped by a popular  Monopoly game promotion in the United States.   \n",
              "\n",
              "      class  \n",
              "0         5  \n",
              "11        5  \n",
              "28        5  \n",
              "47        5  \n",
              "50        5  \n",
              "...     ...  \n",
              "9928      5  \n",
              "9934      5  \n",
              "9936      5  \n",
              "9962      5  \n",
              "9984      5  \n",
              "\n",
              "[777 rows x 2 columns]"
            ]
          },
          "execution_count": 52,
          "metadata": {},
          "output_type": "execute_result"
        }
      ],
      "source": [
        "# Economy \n",
        "predict_df[predict_df['class']==5]"
      ]
    },
    {
      "cell_type": "code",
      "execution_count": null,
      "metadata": {},
      "outputs": [],
      "source": []
    }
  ],
  "metadata": {
    "colab": {
      "provenance": []
    },
    "kernelspec": {
      "display_name": "nlp_env",
      "language": "python",
      "name": "python3"
    },
    "language_info": {
      "codemirror_mode": {
        "name": "ipython",
        "version": 3
      },
      "file_extension": ".py",
      "mimetype": "text/x-python",
      "name": "python",
      "nbconvert_exporter": "python",
      "pygments_lexer": "ipython3",
      "version": "3.11.9"
    }
  },
  "nbformat": 4,
  "nbformat_minor": 0
}
